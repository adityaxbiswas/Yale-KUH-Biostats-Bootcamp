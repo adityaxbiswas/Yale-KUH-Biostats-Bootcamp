{
 "cells": [
  {
   "cell_type": "code",
   "execution_count": 4,
   "id": "b580b830",
   "metadata": {},
   "outputs": [],
   "source": [
    "df <- read.csv(\"../biostats bootcamp 2023.csv\", stringsAsFactors = F)\n",
    "df$race <- as.factor(df$race)\n",
    "df$discharge_dispsn <- as.factor(df$discharge_dispsn)"
   ]
  },
  {
   "cell_type": "markdown",
   "id": "c87ec601",
   "metadata": {},
   "source": [
    "# Exploratory Data Analysis\n",
    "\n",
    "## Univariate Analysis (Continued)\n",
    "Last time we started looking at univariate analysis.  As a reminder, for discrete data we discussed:\n",
    "\n",
    "- Counts / Proportions\n",
    "\n",
    "For univariate discrete data, proportions are really all you need.  Pie charts really don't give you any extra information and just waste space. For continuous data, we discussed\n",
    "\n",
    "- Measures of Location (Mean & Median)\n",
    "\n",
    "- Order Statistics (The Five-Number Summary)\n",
    "\n",
    "- Histograms\n",
    "\n",
    "However, for continuous data there are several other useful pieces of information.  Today, we wil discuss:\n",
    "\n",
    "- Measures of Scale\n",
    "\n",
    "- Standardization\n",
    "\n",
    "- Measures of Asymmetry \n",
    "\n",
    "- QQ Plots\n",
    "\n"
   ]
  },
  {
   "cell_type": "markdown",
   "id": "c7cb8c54-1f65-4ad5-8d97-84c8e79444f9",
   "metadata": {},
   "source": [
    "### Measures of Scale\n",
    "\n",
    "Another name you might come across is **measures of dispersion**.  Such statistics provide summaries of how far values tend to be away some measure of location.\n",
    "\n",
    "The most classical measure of scale is the sample **standard deviation**.  It can be calculated simply as follows: "
   ]
  },
  {
   "cell_type": "code",
   "execution_count": 2,
   "id": "5f701d37-5445-43d4-ac50-660f2b108d28",
   "metadata": {},
   "outputs": [
    {
     "data": {
      "text/html": [
       "0.784349959856975"
      ],
      "text/latex": [
       "0.784349959856975"
      ],
      "text/markdown": [
       "0.784349959856975"
      ],
      "text/plain": [
       "[1] 0.78435"
      ]
     },
     "metadata": {},
     "output_type": "display_data"
    }
   ],
   "source": [
    "sd(df$lactate_min)"
   ]
  },
  {
   "cell_type": "markdown",
   "id": "07d98534-a8a6-4f47-ba20-ec1d6f9486f4",
   "metadata": {},
   "source": [
    "If we assume the data is unimodal (can check by verifying there is a single hump in the histogram), then the standard deviation can help us determine reasonable intervals of values where we'd expect most of the data to live.  At least 89% of the data will always be within 2 standard deviations from the mean, and at least 95% will be within 3 standard deviations.  Let's visualize this with lactate_min with a window of 2 standard deviations from the min:"
   ]
  },
  {
   "cell_type": "code",
   "execution_count": 3,
   "id": "5f651f1a-bc53-4522-af3e-8443ab9dd7aa",
   "metadata": {
    "jupyter": {
     "source_hidden": true
    },
    "tags": []
   },
   "outputs": [
    {
     "data": {
      "text/html": [
       "'Amount of data in interval: 98.04%'"
      ],
      "text/latex": [
       "'Amount of data in interval: 98.04\\%'"
      ],
      "text/markdown": [
       "'Amount of data in interval: 98.04%'"
      ],
      "text/plain": [
       "[1] \"Amount of data in interval: 98.04%\""
      ]
     },
     "metadata": {},
     "output_type": "display_data"
    },
    {
     "data": {
      "image/png": "[encoded data removed]",
      "text/plain": [
       "Plot with title \"Histogram of df$lactate_min\""
      ]
     },
     "metadata": {},
     "output_type": "display_data"
    }
   ],
   "source": [
    "hist(df$lactate_min, probability = T, breaks = 40, xlim = c(0,quantile(df$lactate_min, 0.999)))\n",
    "left.boundary <- max(0, mean(df$lactate_min) - 2*sd(df$lactate_min))\n",
    "right.boundary <- mean(df$lactate_min) + 2*sd(df$lactate_min)\n",
    "abline(v = left.boundary, col = 'red')\n",
    "abline(v = right.boundary, col = 'red')\n",
    "paste0(\"Amount of data in interval: \",\n",
    "      round(mean(((df$lactate_min >= left.boundary) & (df$lactate_min <= right.boundary)))*100, 2),\n",
    "      \"%\")"
   ]
  },
  {
   "cell_type": "markdown",
   "id": "b5fb6ef8-4f9a-4355-8a42-3914269aa81b",
   "metadata": {},
   "source": [
    "As we can see, this data's shape makes it contain much more than 89% of the data in this interval. If we are willing to make stronger assumptions about the shape of our data apriori, we can actually increase this percentage, and we'll see an important example of this later.\n",
    "\n",
    "Although this statistic has great utility, it doesn't actually have a great interpretation by itself.  However, the sample standard deviation is defined as the square root of sample **variance**, which does have a clearer interpretation.  To derive the sample variance, we first must construct a transformation of the data. Specifically, we construct the squared deviations/residuals from the sample mean.  We can visualize this in two steps - first as a centering transformation and then as a positivity transformation:"
   ]
  },
  {
   "cell_type": "code",
   "execution_count": 4,
   "id": "05f31ec8-7790-446b-970e-c1cf4c520633",
   "metadata": {
    "jupyter": {
     "source_hidden": true
    },
    "tags": []
   },
   "outputs": [
    {
     "data": {
      "image/png": "[encoded data removed]",
      "text/plain": [
       "Plot with title \"\""
      ]
     },
     "metadata": {},
     "output_type": "display_data"
    },
    {
     "data": {
      "image/png": "[encoded data removed]",
      "text/plain": [
       "Plot with title \"\""
      ]
     },
     "metadata": {},
     "output_type": "display_data"
    }
   ],
   "source": [
    "lactate.residuals <- df$lactate_min - mean(df$lactate_min)\n",
    "lactate.residuals.sq <- lactate.residuals^2\n",
    "# subsetting below just to make plots look nicer; technically not kosher\n",
    "hist(lactate.residuals[lactate.residuals <= quantile(lactate.residuals, 0.99)],\n",
    "     breaks = 50, prob = T, xlab = \"lactate residuals\", main = '')\n",
    "hist(lactate.residuals.sq[lactate.residuals.sq <= quantile(lactate.residuals.sq, 0.99)],\n",
    "     breaks = 50, prob = T, xlab = \"squared lactate residuals\", main = '')"
   ]
  },
  {
   "cell_type": "markdown",
   "id": "fdbd0048-b17a-416b-9cdd-489dca213055",
   "metadata": {},
   "source": [
    "The sample variance is then defined as a sample mean of this particular transformation of the data.  Let $n$ be the number of samples in the dataset. In some definitions, we optionally multiply by a correction factor of $\\frac{n}{n-1}$.  To show you all of this in code:"
   ]
  },
  {
   "cell_type": "code",
   "execution_count": 5,
   "id": "6f8b0d52-d28f-4658-bb15-3a828d817837",
   "metadata": {},
   "outputs": [
    {
     "data": {
      "text/html": [
       "0.615204859527638"
      ],
      "text/latex": [
       "0.615204859527638"
      ],
      "text/markdown": [
       "0.615204859527638"
      ],
      "text/plain": [
       "[1] 0.6152049"
      ]
     },
     "metadata": {},
     "output_type": "display_data"
    },
    {
     "data": {
      "text/html": [
       "0.615204859527638"
      ],
      "text/latex": [
       "0.615204859527638"
      ],
      "text/markdown": [
       "0.615204859527638"
      ],
      "text/plain": [
       "[1] 0.6152049"
      ]
     },
     "metadata": {},
     "output_type": "display_data"
    }
   ],
   "source": [
    "### sample variance computed manually\n",
    "# create transformed variable\n",
    "lactate.residuals <- df$lactate_min - mean(df$lactate_min)\n",
    "lactate.residuals.sq <- lactate.residuals^2\n",
    "# sample mean of transformed variable\n",
    "lactate.var.uncorrected <- mean(lactate.residuals.sq) \n",
    "# optional correction term\n",
    "n <- nrow(df)\n",
    "lactate.var.corrected <- lactate.var.uncorrected * n/(n-1)\n",
    "lactate.var.corrected\n",
    "\n",
    "### sample variance computed by the built-in R function\n",
    "var(df$lactate_min)"
   ]
  },
  {
   "cell_type": "markdown",
   "id": "6119a545-aa3e-45bc-b2eb-ad33e76875fd",
   "metadata": {},
   "source": [
    "The interpretation can be summarized as follows: this is your best guess for how far you'd expect a random datapoint's squared deviation to be from the mean.  Ignoring the correction factor, since the sample variance is a sample mean of a transformed variable (squared deviation), this also means that it inherits the mean function's non-robustness property. \n",
    "\n",
    "We will discuss 2 robust alternatives. First, the sample **inter-quartile range (IQR)**, which is defined by the 75th-percentile sample order statistic minus the 25th-percentile sample order statistic:"
   ]
  },
  {
   "cell_type": "code",
   "execution_count": 6,
   "id": "878d6130-e893-4d3b-8b42-d27ed5bbbe63",
   "metadata": {},
   "outputs": [
    {
     "data": {
      "text/plain": [
       "   Min. 1st Qu.  Median    Mean 3rd Qu.    Max. \n",
       "  0.100   0.900   1.200   1.301   1.600  23.400 "
      ]
     },
     "metadata": {},
     "output_type": "display_data"
    },
    {
     "data": {
      "text/html": [
       "0.7"
      ],
      "text/latex": [
       "0.7"
      ],
      "text/markdown": [
       "0.7"
      ],
      "text/plain": [
       "[1] 0.7"
      ]
     },
     "metadata": {},
     "output_type": "display_data"
    }
   ],
   "source": [
    "summary(df$lactate_min)\n",
    "IQR(df$lactate_min)"
   ]
  },
  {
   "cell_type": "markdown",
   "id": "c98e20b5-cbf2-4c22-be8a-918cb232df43",
   "metadata": {},
   "source": [
    "From its definition, this is the length of an interval that captures the middle 50% of the data in terms of percentiles.  The other robust alternative is the sample MAD (median absolute deviation from the median), which can be calculated like"
   ]
  },
  {
   "cell_type": "code",
   "execution_count": 7,
   "id": "fbbe5729-d0ac-4425-ab6a-33e094040b34",
   "metadata": {},
   "outputs": [
    {
     "data": {
      "text/html": [
       "0.3"
      ],
      "text/latex": [
       "0.3"
      ],
      "text/markdown": [
       "0.3"
      ],
      "text/plain": [
       "[1] 0.3"
      ]
     },
     "metadata": {},
     "output_type": "display_data"
    }
   ],
   "source": [
    "mad(df$lactate_min, constant = 1)"
   ]
  },
  {
   "cell_type": "markdown",
   "id": "5aa8a666-c3c7-4583-bf2a-5124b78e955b",
   "metadata": {},
   "source": [
    "Note that the optional argument is required here, since the default constant that the MAD is multiplied by is not 1.  The MAD has a nice interpretation as the \"typical\" distance you'd expect to find a random data point away from the median; typical in the sense that 50% of deviations are more and 50% are less than this value.\n",
    "\n",
    "Fun fact: in data that is \"symmetric\" around the median, the sample IQR should be about 2 times the sample MAD.  \n",
    "\n",
    "#### At-Home Exercise 1: Practice on Computing Statistics\n",
    "Compute the sample MAD manually and verify you get the same answer as above.  The computations you need to perform are described explicitly in its full name.\n",
    "\n",
    "**Solution**:"
   ]
  },
  {
   "cell_type": "code",
   "execution_count": 8,
   "id": "2f9db338-0606-4a6b-90e2-f932a3b3b081",
   "metadata": {
    "collapsed": true,
    "jupyter": {
     "outputs_hidden": true,
     "source_hidden": true
    },
    "tags": []
   },
   "outputs": [
    {
     "data": {
      "text/html": [
       "0.3"
      ],
      "text/latex": [
       "0.3"
      ],
      "text/markdown": [
       "0.3"
      ],
      "text/plain": [
       "[1] 0.3"
      ]
     },
     "metadata": {},
     "output_type": "display_data"
    }
   ],
   "source": [
    "# step-by-step solution\n",
    "lactate.median <- median(df$lactate_min)\n",
    "lactate.residuals <- df$lactate_min - lactate.median\n",
    "lactate.abs.residuals <- abs(lactate.residuals)\n",
    "lactate.mad <- median(lactate.abs.residuals)\n",
    "lactate.mad\n",
    "\n",
    "# compact solution\n",
    "lactate.mad <- median(abs(df$lactate_min - median(df$lactate_min)))"
   ]
  },
  {
   "cell_type": "markdown",
   "id": "b2976372-e9db-4229-9284-d21b1aef4838",
   "metadata": {},
   "source": [
    "### Measures of Asymmetry\n",
    "\n",
    "Asymmetry describes if values tend to deviate more greatly on one side of the mean vs the other.  We will only examine a single statistic, sample **skewness**, and not consider robust alternatives.  Usually, exact quantification of asymmetry is not necessary, so robustness is not quite as important here.  Base R does not have a skewness function, so go ahead and install the \"moments\" package (uncomment the first line), load it, and then call the skewness function on your data."
   ]
  },
  {
   "cell_type": "code",
   "execution_count": 9,
   "id": "16bdd29a-664b-4d71-aee2-759210e08886",
   "metadata": {},
   "outputs": [
    {
     "data": {
      "text/html": [
       "9.40190921730552"
      ],
      "text/latex": [
       "9.40190921730552"
      ],
      "text/markdown": [
       "9.40190921730552"
      ],
      "text/plain": [
       "[1] 9.401909"
      ]
     },
     "metadata": {},
     "output_type": "display_data"
    }
   ],
   "source": [
    "#install.packages(\"moments\")\n",
    "library(moments)\n",
    "skewness(df$lactate_min)"
   ]
  },
  {
   "cell_type": "markdown",
   "id": "6f317dd8-ee20-4da5-930e-604e18b465c6",
   "metadata": {},
   "source": [
    "As we saw last class, it can also be quite fruitful to visualize the degree of sample skewness with a histogram.  Symmetrical data is data with a skewness of 0.  As we saw, medical lab values are often very far skewed right, and making the data \"more\" symmetrical through a transformation (such as the log) can  make your analysis more interpretable, accurate, and/or numerically stable in some cases.\n",
    "\n",
    "However, you should be careful about translating interpretations of a transformation back to the original scale.  For example, if you take a mean on the log-scale and convert back to the original scale, this is not equal to the mean on the original scale:"
   ]
  },
  {
   "cell_type": "code",
   "execution_count": 10,
   "id": "a1189a5d-0f24-4784-88f9-15ed64e5430a",
   "metadata": {},
   "outputs": [
    {
     "data": {
      "text/html": [
       "16.6428454332553"
      ],
      "text/latex": [
       "16.6428454332553"
      ],
      "text/markdown": [
       "16.6428454332553"
      ],
      "text/plain": [
       "[1] 16.64285"
      ]
     },
     "metadata": {},
     "output_type": "display_data"
    },
    {
     "data": {
      "text/html": [
       "13.4240836508843"
      ],
      "text/latex": [
       "13.4240836508843"
      ],
      "text/markdown": [
       "13.4240836508843"
      ],
      "text/plain": [
       "[1] 13.42408"
      ]
     },
     "metadata": {},
     "output_type": "display_data"
    }
   ],
   "source": [
    "mean(df$wbcc_max) # sample mean in original-scale\n",
    "\n",
    "log.wbcc.mean <- mean(log(df$wbcc_max)) # sample mean in log-scale\n",
    "exp(log.wbcc.mean) # convert log-scale mean back to original-scale"
   ]
  },
  {
   "cell_type": "markdown",
   "id": "eb6e7fd5-8648-46b0-9f63-2c4e62570f2f",
   "metadata": {},
   "source": [
    "### Standardization\n",
    "\n",
    "A **standardization** is a transformation of the data such that the transformed variable has \"standardized\" measures of location and scale.  The most common type of standardization is a z-score transformation, leaves us with a sample mean 0 and sample standard deviation 1 transformed variable.  This is accomplished by first subtracting the sample mean followed by dividing by the sample standard deviation.  To see this in action:"
   ]
  },
  {
   "cell_type": "code",
   "execution_count": 11,
   "id": "ee6b2ba0-3cb7-48c3-959b-7ef71a966746",
   "metadata": {},
   "outputs": [
    {
     "data": {
      "text/html": [
       "1.0596854286876e-16"
      ],
      "text/latex": [
       "1.0596854286876e-16"
      ],
      "text/markdown": [
       "1.0596854286876e-16"
      ],
      "text/plain": [
       "[1] 1.059685e-16"
      ]
     },
     "metadata": {},
     "output_type": "display_data"
    },
    {
     "data": {
      "text/html": [
       "1"
      ],
      "text/latex": [
       "1"
      ],
      "text/markdown": [
       "1"
      ],
      "text/plain": [
       "[1] 1"
      ]
     },
     "metadata": {},
     "output_type": "display_data"
    }
   ],
   "source": [
    "bicarb.z.score <- (df$bicarbonate_max - mean(df$bicarbonate_max))/sd(df$bicarbonate_max)\n",
    "mean(bicarb.z.score) # e-16 means times 10^(-16), so a ridiculously small number; very small numerical error\n",
    "sd(bicarb.z.score)"
   ]
  },
  {
   "cell_type": "markdown",
   "id": "25c9dfe8-1d34-4c9e-ac8d-8af284d89710",
   "metadata": {},
   "source": [
    "Z-score standardization is useful for a variety of reasons.  One of them is that we can interpret the transformed values as \"number of standard deviations away from the mean\". Another useful feature is that apart from the location and scale, they leave all other aspects of the *shape* of the data intact, which you can visualize with a histogram.  This can be quite useful to get a feel for the patterns of variation in your data around the mean. "
   ]
  },
  {
   "cell_type": "code",
   "execution_count": 12,
   "id": "5efd0213-236c-4829-aea8-93adf54044cb",
   "metadata": {},
   "outputs": [
    {
     "data": {
      "image/png": "[encoded data removed]",
      "text/plain": [
       "Plot with title \"Histogram of bicarb.z.score\""
      ]
     },
     "metadata": {},
     "output_type": "display_data"
    }
   ],
   "source": [
    "hist(bicarb.z.score, probability = T)"
   ]
  },
  {
   "cell_type": "markdown",
   "id": "d1514725-2b25-4794-827e-26cdab075c63",
   "metadata": {},
   "source": [
    "As we can see from this, we can visually identify skew as we could before.  But we can also see that most data is quite concentrated near the mean (indicated by the high peak), with quite large deviations when they do occur (indicated by the right tail having non-neglible height at a distance of 5-6 standard deviations away from the mean)."
   ]
  },
  {
   "cell_type": "markdown",
   "id": "d76f5adc-d60e-488d-9adc-45b26af65fc3",
   "metadata": {},
   "source": [
    "### Quantile-Quantile Plots\n",
    "\n",
    "If we want to compare the \"shape\" of our data to a standard reference \"shape\", we can use quantile-quantile plots (i.e. Q-Q plots).  We will discuss this idea of \"reference shape\" more formally today in the section on probability, but in a nutshell, we have established a number of \"classical shapes\" that data could possibly take.  They are \"classical\" and very useful because they are idealized and can be described very precisely mathematically.  Real data almost always has a unique shape that doesn't really quite fit into any of these molds exactly, but oftentimes they can come pretty close.  A Q-Q plot is a way of visualizing how close your data is to one of these reference \"shapes/molds\".\n",
    "\n",
    "The way a Q-Q plot works is by plotting the true order statistics of the reference \"shape\" on the x-axis, and plotting the sample order statistics of your actual data on the y-axis.  If the shapes match, then the points should approximately follow a straight line.  Any systematic deviations from this line show you exactly how your data systematically differs from the reference. \n",
    "\n",
    "I am sure you all have heard about the normal distribution before and are familiar with its bell-curve-like shape; this is an example of a reference \"shape\".  Let's visualize if sodium_min is close to following  distribution. Here is the histogram of sodium_min."
   ]
  },
  {
   "cell_type": "code",
   "execution_count": 13,
   "id": "9eec195e-71f2-4d5b-ae7f-3c99c6205e2b",
   "metadata": {},
   "outputs": [
    {
     "data": {
      "image/png": "[encoded data removed]",
      "text/plain": [
       "Plot with title \"Histogram of df$sodium_min\""
      ]
     },
     "metadata": {},
     "output_type": "display_data"
    }
   ],
   "source": [
    "hist(df$sodium_min)"
   ]
  },
  {
   "cell_type": "markdown",
   "id": "4974b404-1cf4-4199-8693-20644f16a6da",
   "metadata": {},
   "source": [
    "This looks sort-of, approximately bell-shaped?  Can we gain more insight on this? R has a function for creating Q-Q plots using the normal distribution as the reference called **qqnorm**.  We can additionally call the **qqline** function, which automatically draws the appropriate straight line that indicates a match; the additional arguments are for color and line width."
   ]
  },
  {
   "cell_type": "code",
   "execution_count": 14,
   "id": "d497898b-3a86-4f49-89a0-31ff507ef4b7",
   "metadata": {},
   "outputs": [
    {
     "data": {
      "image/png": "[encoded data removed]",
      "text/plain": [
       "Plot with title \"Normal Q-Q Plot\""
      ]
     },
     "metadata": {},
     "output_type": "display_data"
    }
   ],
   "source": [
    "qqnorm(df$sodium_min)\n",
    "qqline(df$sodium_min, col = \"steelblue\", lwd = 3)"
   ]
  },
  {
   "cell_type": "markdown",
   "id": "5c9770d4-50e2-40f3-a462-d33b78cc6810",
   "metadata": {
    "tags": []
   },
   "source": [
    "This is a pretty close match, but it's not perfect.  From this Q-Q plot, we can see that the shape of sodium_min has slightly \"fatter tails\" indicated by our data having higher values than the reference on the right and lower values than the reference on the left.  This means there's a slightly higher probability of observing extreme values in our data compared to a normal distribution.\n",
    "\n",
    "You can make a univariate Q-Q plot with respect to any reference distribution, but we will just use the normal distribution as that will be most relevant for our needs."
   ]
  },
  {
   "cell_type": "markdown",
   "id": "bc0e3599",
   "metadata": {},
   "source": [
    "## Bivariate Analysis\n",
    "### Discrete-Discrete"
   ]
  },
  {
   "cell_type": "markdown",
   "id": "810027d0-f2d7-459c-89eb-32ae4afce332",
   "metadata": {},
   "source": [
    "To explore the relationships between two discrete variables, we can make use of the **table** function once again to get the counts at the intersections of the categories or levels across the variables.  You can name your arguments "
   ]
  },
  {
   "cell_type": "code",
   "execution_count": 15,
   "id": "549cb26a",
   "metadata": {},
   "outputs": [
    {
     "data": {
      "text/plain": [
       "       steroid\n",
       "race    FALSE TRUE\n",
       "  Asian    19   47\n",
       "  Black   320  545\n",
       "  Other   138  331\n",
       "  White   614 1402"
      ]
     },
     "metadata": {},
     "output_type": "display_data"
    }
   ],
   "source": [
    "race.steroid.table <- table('race' = df$race, 'steroid' = (df$steroid == 1))\n",
    "race.steroid.table"
   ]
  },
  {
   "cell_type": "markdown",
   "id": "6993c810",
   "metadata": {},
   "source": [
    "However, this isn't very interpretable, since each race is present in the dataset in varying proportions.  We can once again make use of the **prop.table** function, but this time we need to indicate what we would like to divide by.  Our choices are the column sums, the row sums, or the total sum.  The default is total sum, the argument \"margin = 1\" corresponds to row sums, and \"margin = 2\" corresponds to column sums.  In this case, the most likely scientific question would be: is there a difference in how the different races are given steroids?  We can look at this by dividing by the row sums."
   ]
  },
  {
   "cell_type": "code",
   "execution_count": 16,
   "id": "cbd4ae00",
   "metadata": {},
   "outputs": [
    {
     "data": {
      "text/plain": [
       "       steroid\n",
       "race        FALSE      TRUE\n",
       "  Asian 0.2878788 0.7121212\n",
       "  Black 0.3699422 0.6300578\n",
       "  Other 0.2942431 0.7057569\n",
       "  White 0.3045635 0.6954365"
      ]
     },
     "metadata": {},
     "output_type": "display_data"
    }
   ],
   "source": [
    "race.steroid.table <- prop.table(race.steroid.table, margin = 1)\n",
    "race.steroid.table"
   ]
  },
  {
   "cell_type": "markdown",
   "id": "e2f533c3",
   "metadata": {},
   "source": [
    "There seem to be some small differences within each column. Each difference in proportions (within a column) corresponds to a potentially interesting statistic, and there seems to be some small differences.  Just like a dataframe, we can extract this info from the table using the same indexing patterns:"
   ]
  },
  {
   "cell_type": "code",
   "execution_count": 8,
   "id": "138c5a9f-cc6f-4670-8497-4c02a34a0b1c",
   "metadata": {},
   "outputs": [
    {
     "data": {
      "text/plain": [
       "      death\n",
       "female         0         1\n",
       "     0 0.7732124 0.2267876\n",
       "     1 0.8164721 0.1835279"
      ]
     },
     "metadata": {},
     "output_type": "display_data"
    }
   ],
   "source": [
    "prop.table(table('female' = df$femalesex, 'death' = df$died), margin = 1)"
   ]
  },
  {
   "cell_type": "code",
   "execution_count": 17,
   "id": "ead6ac21-cf61-4890-962f-7ad2d4b441f4",
   "metadata": {},
   "outputs": [
    {
     "data": {
      "text/html": [
       "-0.0653787044682999"
      ],
      "text/latex": [
       "-0.0653787044682999"
      ],
      "text/markdown": [
       "-0.0653787044682999"
      ],
      "text/plain": [
       "[1] -0.0653787"
      ]
     },
     "metadata": {},
     "output_type": "display_data"
    }
   ],
   "source": [
    "race.steroid.table['Black',2] - race.steroid.table['White',2] "
   ]
  },
  {
   "cell_type": "markdown",
   "id": "cb7e797a-d43b-4995-9513-f5eb6592a085",
   "metadata": {},
   "source": [
    "However, we don't quite have the statistic machinery yet to tell if these differences are systematic or by chance."
   ]
  },
  {
   "cell_type": "markdown",
   "id": "4fc38326-071d-4cab-9f25-71f8026df2dd",
   "metadata": {},
   "source": [
    "#### $2 \\times 2$ Table Summaries\n",
    "Many discrete-discrete analyses in medicine are between two binary variables.  There are 3 statistics that are often used to detect/interpret changes in proportions between two subgroups.  To make the formulas clearer, we will denote each subgroups' proportion as $p_0$ and $p_1$.\n",
    "\n",
    "- Risk Difference\n",
    "\n",
    "$$\\text{RD} = p_1 - p_0$$ \n",
    "This is exactly what we just did above with steroids and black/white race, and the interpretation is exactly what you'd expect. \n",
    "\n",
    "- Relative Risk / Risk Ratio\n",
    "\n",
    "$$\\text{RR} = \\frac{p_1}{p_0}$$\n",
    "\n",
    "This ratio expresses how much more likely you'd expect an event of interest in the top group relative to the bottom group.  A value of 1 indicates events are equally likely between the groups.  A value of 0.5 means the bottom group is $2\\times$ as likely to experience the event.  A value of 2.5 means the top group is $2.5\\times$ more likely to experience the event of interest. \n",
    "\n",
    "- Odds Ratio\n",
    "\n",
    "Before we get into the ratio, let's first define the odds for group 0.\n",
    "$$\\text{Odds}_0 = \\frac{p_0}{1-p_0}$$\n",
    "This is a quantity that expresses how likely getting the event of interest is compared to not getting the event (within group 0).  A value of 1 indicates that $p_0 = 0.5$.  A value of 2 indicates that $p_0 = 0.666$ and twice as many people get the event compared to those who don't. \\\n",
    "Now, the odds *ratio* is the odds between the two groups:\n",
    "\\begin{align*}\n",
    "\\text{OR} &= \\frac{\\text{Odds}_1}{\\text{Odds}_0} \\\\\n",
    "&= \\frac{p_1 (1-p_0)}{p_0 (1-p_1)} \\\\\n",
    "\\end{align*}\n",
    "As a ratio, this is interpretted similarly to relative risk, but this time describing the differences in the proportions on the *odds* scale.  This may seem more complicated than the risk ratio with little benefit, but this statistic will rear its head again in Session 4. "
   ]
  },
  {
   "cell_type": "markdown",
   "id": "705c082b-9a24-40cd-9629-742dd99b1175",
   "metadata": {},
   "source": [
    "#### In-Class Exercise 2: Death-Sex Association\n",
    "1. Create a $2 \\times 2$ table displaying the observed proportions of deaths within males and within females.  Make sure to choose your margin to help explore the scientific question of if there is a difference in death rates between males and females.  Recall that sex is named \"femalesex\" and death is named \"died\" in this dataset and both are coded as 0/1.\n",
    "2. Index the appropriate statistics from this table and assign them to variables \"p1\" and \"p0\" with Group 1 being females and Group 0 males.  As an alternative to indexing the table, you could also use the mean function on the original death vector (with appropriate logical indexing) to get these numbers.\n",
    "3. Calculate and display the risk difference, relative risk, and odds ratio.\n",
    "\n",
    "**Solution**:"
   ]
  },
  {
   "cell_type": "code",
   "execution_count": 18,
   "id": "eab3a8b0-6a4f-425d-b45b-7b8562407a55",
   "metadata": {
    "tags": []
   },
   "outputs": [
    {
     "data": {
      "text/plain": [
       "       Female\n",
       "Death       FALSE      TRUE\n",
       "  FALSE 0.7732124 0.8164721\n",
       "  TRUE  0.2267876 0.1835279"
      ]
     },
     "metadata": {},
     "output_type": "display_data"
    }
   ],
   "source": [
    "sex.death.table <- table(\"Death\" = (df$died==1), \"Female\" = (df$femalesex==1))\n",
    "sex.death.table <- prop.table(sex.death.table, margin = 2)\n",
    "sex.death.table"
   ]
  },
  {
   "cell_type": "code",
   "execution_count": 19,
   "id": "67f75e7d-bdfc-456c-98e1-820420574799",
   "metadata": {},
   "outputs": [
    {
     "name": "stdout",
     "output_type": "stream",
     "text": [
      "  Risk Diff  Risk Ratio  Odds Ratio \n",
      "-0.04325973  0.80925002  0.76637294 \n"
     ]
    }
   ],
   "source": [
    "p0 <- sex.death.table[2,1]\n",
    "p1 <- sex.death.table[2,2]\n",
    "\n",
    "rd <- p1 - p0\n",
    "rr <- p1/p0\n",
    "o0 <- p0/(1-p0)\n",
    "o1 <- p1/(1-p1)\n",
    "or <- o1/o0\n",
    "\n",
    "print(c(\"Risk Diff\" = rd, \"Risk Ratio\" = rr, \"Odds Ratio\" = or))"
   ]
  },
  {
   "cell_type": "markdown",
   "id": "9d19d34e-7429-4a8a-ab57-079082ed63ef",
   "metadata": {},
   "source": [
    "To close out this section, we'll show you how to create a bar plot using the **barplot** function.  You can simply pass in a vector of values, and R will know how to construct it.  If you pass in a table, R will create a stacked/grouped barchart with the grouping variable being the columns (margin = 2).  You can use the **t** function on the table to switch the rows and columns; this allows you to switch the grouping variable for the grouped bar chart.\n",
    "\n",
    "There are several useful arguments. I will used the \"ylim\" argument to make sure the y-axis spans the interval $[0,1]$ for clarity in interpretation.  The \"beside\" argument indicates if the bars should be side-by-side or stacked.  Lastly, we use \"legend.text\" to display the legend for the variables that is *not* represented on the $x$-axis.  This time, we'll look at the relationship between race and discharge disposition."
   ]
  },
  {
   "cell_type": "code",
   "execution_count": 20,
   "id": "f494da48-8054-466a-8587-09083741734a",
   "metadata": {},
   "outputs": [
    {
     "data": {
      "image/png": "[encoded data removed]",
      "text/plain": [
       "plot without title"
      ]
     },
     "metadata": {},
     "output_type": "display_data"
    }
   ],
   "source": [
    "race.discharge.table <- table('race' = df$race, 'discharge' = df$discharge_dispsn)\n",
    "race.discharge.table <- prop.table(race.discharge.table, margin = 1)\n",
    "barplot(t(race.discharge.table), \n",
    "        ylim = c(0,1),\n",
    "        beside = T,\n",
    "        legend.text = T)"
   ]
  },
  {
   "cell_type": "markdown",
   "id": "b3710711-0214-4ed2-8768-a7a9bd3caa84",
   "metadata": {},
   "source": [
    "### Discrete-Continuous\n",
    "\n",
    "When exploring the relationship between a discrete and continuous variable, you can reframe it as a subgroup analysis of the continuous variable, subsetting to each category or level of the discrete variable.  This means you are effectively just performing two (or more) univariate analyses and comparing the results.  Comparing the results usually amounts to simply taking the mathematical difference of the summary statistic between the two groups."
   ]
  },
  {
   "cell_type": "markdown",
   "id": "de3f0733",
   "metadata": {},
   "source": [
    "#### In-Class Exercise 3: Fill in Table 1\n",
    "\n",
    "Below is an empty \"Table 1\", which is often the first table presented in a medical study, comparing the characteristics of 2 groups of interest.  Compute the necessary information to fill out this table.\n",
    "\n",
    "Let $n$ represents the number of patients. The median (IQR) format is used for continuous variables.  The count (percent) format is used for binary variables.  The names of the relevant variables are \"died\", \"femalesex\", and \"age\".\n",
    "\n",
    "Note: there is more than one way to get the needed statistics for \"femalesex\"; the technique we talked about in the discrete-discrete section is one of them, but a subset then summarize approach would work as well.\n",
    "\n",
    "\n",
    "|       | Death | No Death |\n",
    "| ---------------------- | ---------------------- | ---------------------- |\n",
    "| n     |        |                 |\n",
    "| Count Female Sex (%)   |         |        |\n",
    "| Median Age (IQR)      |        |          |\n",
    "\n",
    "Simply compute the needed statistics and record them in a comment; you are not being asked to programatically construct a table.\n",
    "\n",
    "**Solution:**"
   ]
  },
  {
   "cell_type": "code",
   "execution_count": 21,
   "id": "f5b07335-8468-4642-a75b-ebdcb55c2c54",
   "metadata": {
    "tags": []
   },
   "outputs": [
    {
     "data": {
      "text/html": [
       "<table>\n",
       "<thead><tr><th></th><th scope=col>Death</th><th scope=col>No Death</th></tr></thead>\n",
       "<tbody>\n",
       "\t<tr><th scope=row>n</th><td>708          </td><td>2708         </td></tr>\n",
       "\t<tr><th scope=row>Count Female Sex (%)</th><td>283 (39.97%) </td><td>1259 (46.49%)</td></tr>\n",
       "\t<tr><th scope=row>Median Age (IQR)</th><td>73 (20)      </td><td>66 (23)      </td></tr>\n",
       "</tbody>\n",
       "</table>\n"
      ],
      "text/latex": [
       "\\begin{tabular}{r|ll}\n",
       "  & Death & No Death\\\\\n",
       "\\hline\n",
       "\tn & 708           & 2708         \\\\\n",
       "\tCount Female Sex (\\%) & 283 (39.97\\%)  & 1259 (46.49\\%)\\\\\n",
       "\tMedian Age (IQR) & 73 (20)       & 66 (23)      \\\\\n",
       "\\end{tabular}\n"
      ],
      "text/markdown": [
       "\n",
       "| <!--/--> | Death | No Death |\n",
       "|---|---|---|\n",
       "| n | 708           | 2708          |\n",
       "| Count Female Sex (%) | 283 (39.97%)  | 1259 (46.49%) |\n",
       "| Median Age (IQR) | 73 (20)       | 66 (23)       |\n",
       "\n"
      ],
      "text/plain": [
       "                     Death        No Death     \n",
       "n                    708          2708         \n",
       "Count Female Sex (%) 283 (39.97%) 1259 (46.49%)\n",
       "Median Age (IQR)     73 (20)      66 (23)      "
      ]
     },
     "metadata": {},
     "output_type": "display_data"
    }
   ],
   "source": [
    "select <- df$died == 1\n",
    "\n",
    "# n\n",
    "n.died <- sum(select)\n",
    "n.alive <- length(select) - n.died\n",
    "\n",
    "# female \n",
    "# im using the table method from the previous section\n",
    "fem.table <- table('female' = df$femalesex, 'death' = df$died)\n",
    "n.fem.died <- fem.table[2,2]\n",
    "n.fem.alive <- fem.table[2,1]\n",
    "fem.prop.table <- prop.table(fem.table, margin = 2)\n",
    "perc.fem.died <- fem.prop.table[2,2]\n",
    "perc.fem.alive <- fem.prop.table[2,1]\n",
    "\n",
    "# age\n",
    "med.age.died <- median(df$age[select])\n",
    "med.age.alive <- median(df$age[!select])\n",
    "iqr.age.died <- IQR(df$age[select])\n",
    "iqr.age.alive <- IQR(df$age[!select])\n",
    "\n",
    "# display result\n",
    "# you don't need to understand the code below\n",
    "M <- c(n.died, n.alive, n.fem.died, n.fem.alive, med.age.died, med.age.alive)\n",
    "perc.fem.display <- paste0(round(100*c(perc.fem.died, perc.fem.alive),2), '%')\n",
    "M[3:6] <- paste0(M[3:6], \n",
    "                 ' (',\n",
    "                 c(perc.fem.display, iqr.age.died, iqr.age.alive),\n",
    "                 ')')\n",
    "M <- matrix(M, byrow = T, ncol = 2)\n",
    "rownames(M) <-  c('n', 'Count Female Sex (%)', 'Median Age (IQR)')\n",
    "colnames(M) <- c('Death', 'No Death')\n",
    "M"
   ]
  },
  {
   "cell_type": "markdown",
   "id": "3b801c5a-731c-401f-ae08-5306bb70226c",
   "metadata": {},
   "source": [
    "#### Boxplots\n",
    "There are plenty of other statistics we can use for comparison such as measures of scale or asymmetry.  Ratios are also a possible alternative to differences when we're primarily interested in location.  To get a general sense of the differences in location, scale, asymmetry, and just overall shape in your data between multiple groups, you can use a box-and-whisker plot visualization.  The box consists of 3 sample order statistics: the 25th percentile, the median, and the 75th percentile. By defulat in R, the whiskers extend to the farthest data point that is less than $1.5 * \\text{IQR}$ away from the edges of the box. However, note that other definitions exist for how far the whiskers should extend. Any data outside of the bounds of the whiskers is displayed point-by-point by asteriks, but you can turn these off with the \"outline = F\" argument.  Turning this off is recommended for highly skewed data.  Let's examine the association we brought up during exercise 2 using the **boxplot** function; this function makes use of the formula/data pattern:"
   ]
  },
  {
   "cell_type": "code",
   "execution_count": 10,
   "id": "cce6c06b",
   "metadata": {},
   "outputs": [
    {
     "data": {
      "image/png": "[encoded data removed]",
      "text/plain": [
       "plot without title"
      ]
     },
     "metadata": {},
     "output_type": "display_data"
    }
   ],
   "source": [
    "boxplot(formula = creatinine_max ~ race, data = df, outline = F, horizontal = T)"
   ]
  },
  {
   "cell_type": "markdown",
   "id": "9db38c3b-7d43-46a4-adec-a448281339db",
   "metadata": {},
   "source": [
    "This gives us a more complete sense of the differences between these two groups when it comes to maximum creatinine than any single summary statistic by itself."
   ]
  },
  {
   "cell_type": "markdown",
   "id": "516901bd",
   "metadata": {},
   "source": [
    "#### In-Class Exercise 4: Creatinine-Race Association\n",
    "Construct a boxplot to compare the shape of creatinine_max data between patients of different races.  Use the formula pattern as shown above and recall that the race variable is called \"race\".  Look at the plot with and without outliers.  Which is more useful? Comment on your general findings.  \n",
    "\n",
    "**Solution:**"
   ]
  },
  {
   "cell_type": "code",
   "execution_count": 23,
   "id": "30d0c648-0b7f-48a0-9416-5f31d3f791b9",
   "metadata": {
    "tags": []
   },
   "outputs": [
    {
     "data": {
      "image/png": "[encoded data removed]",
      "text/plain": [
       "plot without title"
      ]
     },
     "metadata": {},
     "output_type": "display_data"
    }
   ],
   "source": [
    "boxplot(formula = creatinine_max ~ race, data = df, outline = F, horizontal = T)"
   ]
  },
  {
   "cell_type": "markdown",
   "id": "7f2f0f44-11e4-47a1-8718-20bbb7207609",
   "metadata": {
    "jupyter": {
     "source_hidden": true
    },
    "tags": []
   },
   "source": [
    "Including the outlier makes the plot way less useful.  Black people tend to have larger creatinine values overall.  There is some evidence that black people have slightly higher muscle mass, which might be able to causally explain some of this association.  However, complicated historic, socioeconomic, and cultural forces dictate who is in our dataset, their health status, how they are treated in the hospital, etc... which in turn affects our observed association.  Without lots of very specific data, assumptions, and methodology, it is impossible to disentangle these effects.  In light of this, you should never assign causality to what you see (except in very specific circumstances), and always default to the weaker claim of association."
   ]
  },
  {
   "cell_type": "markdown",
   "id": "e94b47ce-e745-4b83-99bf-8b264f83e344",
   "metadata": {
    "tags": []
   },
   "source": [
    "#### Q-Q Plots Revisted\n",
    "\n",
    "You can use the **qqplot** function to compare the shapes of two subsets of a continuous variable in your data, without referencing some theoretical shape.  It is not straightforward to create the straight line in this context, so we will ignore it and try to eyeball the plot.  \n",
    "\n",
    "A medication may produce a shift in the location and/or scale of a laboratory variable without affecting the overall shape.  Here we can see an example with a significant shift in the median, but the scale and shape features remain the same across the medication and no-medication groups.  To make highly skewed plots more interpretable, we may manually specify the range of the $x$ and $y$ axes as vectors specifying the boundaries.  We make use of the quantile function to only include data between the 1st and 99th percentiles of the data in the visualization. "
   ]
  },
  {
   "cell_type": "code",
   "execution_count": 24,
   "id": "b1873598-a6da-41c3-9c1f-d5a9b74c0279",
   "metadata": {},
   "outputs": [
    {
     "data": {
      "text/html": [
       "-30"
      ],
      "text/latex": [
       "-30"
      ],
      "text/markdown": [
       "-30"
      ],
      "text/plain": [
       "[1] -30"
      ]
     },
     "metadata": {},
     "output_type": "display_data"
    },
    {
     "data": {
      "image/png": "[encoded data removed]",
      "text/plain": [
       "plot without title"
      ]
     },
     "metadata": {},
     "output_type": "display_data"
    }
   ],
   "source": [
    "# create subgroups\n",
    "select.vp <- df$vasopressor == 1\n",
    "sys.vp <- df$systolic_min[select.vp]\n",
    "sys.no.vp <- df$systolic_min[!select.vp]\n",
    "\n",
    "# compare subgroups\n",
    "median(sys.vp) - median(sys.no.vp)\n",
    "qqplot(sys.vp, sys.no.vp, \n",
    "       xlim = quantile(sys.vp, c(0.01, 0.99)),\n",
    "       ylim = quantile(sys.no.vp, c(0.01, 0.99)))"
   ]
  },
  {
   "cell_type": "markdown",
   "id": "ef7e6088-8691-4ae6-9954-a640e61bcfbe",
   "metadata": {},
   "source": [
    "On the other hand, shapes oftentimes end up being very different in subgroups."
   ]
  },
  {
   "cell_type": "code",
   "execution_count": 25,
   "id": "eece2114-a4a9-44a5-afea-b13a042caad2",
   "metadata": {},
   "outputs": [
    {
     "data": {
      "text/html": [
       "3.17"
      ],
      "text/latex": [
       "3.17"
      ],
      "text/markdown": [
       "3.17"
      ],
      "text/plain": [
       "[1] 3.17"
      ]
     },
     "metadata": {},
     "output_type": "display_data"
    },
    {
     "data": {
      "image/png": "[encoded data removed]",
      "text/plain": [
       "plot without title"
      ]
     },
     "metadata": {},
     "output_type": "display_data"
    }
   ],
   "source": [
    "# create subgroups\n",
    "x <- df$creatinine_max\n",
    "select.consult <- df$consult_nephrology == 1\n",
    "x.consult <- x[select.consult]\n",
    "x.no.consult <- x[!select.consult]\n",
    "\n",
    "# compare subgroups\n",
    "median(x.consult) - median(x.no.consult)\n",
    "qqplot(x.consult, x.no.consult, \n",
    "       xlim = quantile(x.consult, c(0.01, 0.99)),\n",
    "       ylim = quantile(x.no.consult, c(0.01, 0.99)))"
   ]
  },
  {
   "cell_type": "markdown",
   "id": "9f367841-59e4-4860-8fa1-f9c8301a24ca",
   "metadata": {},
   "source": [
    "This type of plot will provide an appropriate tool to use in conjuction with a particular hypothesis test in Session 3.  "
   ]
  },
  {
   "cell_type": "markdown",
   "id": "4624f159",
   "metadata": {},
   "source": [
    "### Continuous-Continuous\n",
    "Lastly, we may be interested in if two continuous variables are associated with each other in any way.  To get a sense for the relationship, first we visualize using a scatterplot.  Let's look at two variables we apriori believe to be strongly correlated:"
   ]
  },
  {
   "cell_type": "code",
   "execution_count": 26,
   "id": "071ebfce-0cbe-4e8d-b13a-b8393c98b71b",
   "metadata": {},
   "outputs": [
    {
     "data": {
      "image/png": "[encoded data removed]",
      "text/plain": [
       "plot without title"
      ]
     },
     "metadata": {},
     "output_type": "display_data"
    }
   ],
   "source": [
    "plot(df$diastolic_max, df$systolic_max)"
   ]
  },
  {
   "cell_type": "markdown",
   "id": "c73ea6d1-2353-4f07-b033-81196f9ad20f",
   "metadata": {},
   "source": [
    "Scatterplots are nice for sanity checks.  There is some strange structure here; many patients have max systolic bps that are near equal to their max diastolic bps.  The boundary makes sense that systolic can never drop below diastolic, but a gap so small is also suspect.  Medical data is ripe with errors, and this suggests that one may have been made upstream in how the data was collected.  At least, it should be investigated.  Regardless, we shall procede as if it were correct.\n",
    "\n",
    "To quantify the association we can use either the **Pearson correlation** or **Spearman correlation** statistics.  This Pearson correlation statistic essentially measures how *linearly* related two continuous variables are, i.e. how \"close\" the data is to some straight line.  Furthermore, it is bounded between -1 and 1.  These boundaries are only achieved if the two variables make a perfectly straight line on a plot, i.e. the variables are perfectly predictive of eachother and linear.\n",
    "\n",
    "R provides a handy function to compute this correlation statistic."
   ]
  },
  {
   "cell_type": "code",
   "execution_count": 27,
   "id": "dd0198fe-57f5-41f8-8b3d-5563835083f7",
   "metadata": {},
   "outputs": [
    {
     "data": {
      "text/html": [
       "0.70784066313724"
      ],
      "text/latex": [
       "0.70784066313724"
      ],
      "text/markdown": [
       "0.70784066313724"
      ],
      "text/plain": [
       "[1] 0.7078407"
      ]
     },
     "metadata": {},
     "output_type": "display_data"
    }
   ],
   "source": [
    "cor(df$diastolic_max, df$systolic_max)"
   ]
  },
  {
   "cell_type": "markdown",
   "id": "a6ef1f15-b764-4fbe-a5c4-35cde9622686",
   "metadata": {},
   "source": [
    "The Spearman correlation statistic measures something very similar.  It measures how *monotonically* related two continuous variables are.  Monotonic means that the variables are either increasing together or decreasing together as you move right on the scatter plot.  This means the spearman correlation statistic can capture more shapes than just linear; it is a *robust* correlation statistic in that it is not dependent on the scale or skew of your variables.  This statistic is also bounded between -1 and 1.  To compute it, we use the same function, but provide the argument \""
   ]
  },
  {
   "cell_type": "code",
   "execution_count": 28,
   "id": "66701071",
   "metadata": {},
   "outputs": [
    {
     "data": {
      "text/html": [
       "0.629980561616763"
      ],
      "text/latex": [
       "0.629980561616763"
      ],
      "text/markdown": [
       "0.629980561616763"
      ],
      "text/plain": [
       "[1] 0.6299806"
      ]
     },
     "metadata": {},
     "output_type": "display_data"
    }
   ],
   "source": [
    "cor(df$diastolic_max, df$systolic_max, method = 'spearman')"
   ]
  },
  {
   "cell_type": "markdown",
   "id": "bb20b292",
   "metadata": {},
   "source": [
    "Now let's look at 2 variables we might not expect to have an association."
   ]
  },
  {
   "cell_type": "code",
   "execution_count": 29,
   "id": "ada47f5e",
   "metadata": {},
   "outputs": [
    {
     "data": {
      "image/png": "[encoded data removed]",
      "text/plain": [
       "plot without title"
      ]
     },
     "metadata": {},
     "output_type": "display_data"
    }
   ],
   "source": [
    "plot(df$albumin_max, df$pulse_max)"
   ]
  },
  {
   "cell_type": "code",
   "execution_count": 30,
   "id": "b227570f-c685-4bf8-83ce-7936c85c5ec0",
   "metadata": {},
   "outputs": [
    {
     "data": {
      "text/html": [
       "-0.062700047023585"
      ],
      "text/latex": [
       "-0.062700047023585"
      ],
      "text/markdown": [
       "-0.062700047023585"
      ],
      "text/plain": [
       "[1] -0.06270005"
      ]
     },
     "metadata": {},
     "output_type": "display_data"
    },
    {
     "data": {
      "text/html": [
       "-0.0586557979092276"
      ],
      "text/latex": [
       "-0.0586557979092276"
      ],
      "text/markdown": [
       "-0.0586557979092276"
      ],
      "text/plain": [
       "[1] -0.0586558"
      ]
     },
     "metadata": {},
     "output_type": "display_data"
    }
   ],
   "source": [
    "cor(df$albumin_max, df$pulse_max)\n",
    "cor(df$albumin_max, df$pulse_max, method = 'spearman')"
   ]
  },
  {
   "cell_type": "markdown",
   "id": "2def6b98-cc86-4e90-b145-04172c7c106d",
   "metadata": {},
   "source": [
    "The correlations are nearly 0.  In the scatterplot, the clustering of the points into these vertical stripes additionally reveals that albumin_max has been discretized at the 0.1 level.  Discretization of continuous variables always takes place to some extent and as long as its sufficiently fine-grained (at a small enough level), we still treat the variable as continuous.  Laboratory values are frequently discretized at the 0.1 or 0.01 levels."
   ]
  },
  {
   "cell_type": "markdown",
   "id": "e3d98e2a-4f69-4aa7-9262-b6268ae3af7c",
   "metadata": {},
   "source": [
    "#### In-Class Exercise 5: Creatinine-BNP Association\n",
    "Plot the scatter plot for creatinine_max and bnp_max and then compute each correlation statistic.  Do you notice anything weird in the plot?  Why do you think your correlation statistics are different?"
   ]
  },
  {
   "cell_type": "code",
   "execution_count": 31,
   "id": "b7f812da-fe79-43a7-88fa-a2f88079b75e",
   "metadata": {
    "tags": []
   },
   "outputs": [
    {
     "data": {
      "text/html": [
       "0.388731799474675"
      ],
      "text/latex": [
       "0.388731799474675"
      ],
      "text/markdown": [
       "0.388731799474675"
      ],
      "text/plain": [
       "[1] 0.3887318"
      ]
     },
     "metadata": {},
     "output_type": "display_data"
    },
    {
     "data": {
      "text/html": [
       "0.549489053480999"
      ],
      "text/latex": [
       "0.549489053480999"
      ],
      "text/markdown": [
       "0.549489053480999"
      ],
      "text/plain": [
       "[1] 0.5494891"
      ]
     },
     "metadata": {},
     "output_type": "display_data"
    },
    {
     "data": {
      "image/png": "[encoded data removed]",
      "text/plain": [
       "plot without title"
      ]
     },
     "metadata": {},
     "output_type": "display_data"
    }
   ],
   "source": [
    "plot(df$creatinine_max, df$bnp_max)\n",
    "cor(df$creatinine_max, df$bnp_max)\n",
    "cor(df$creatinine_max, df$bnp_max, method = 'spearman')"
   ]
  },
  {
   "cell_type": "markdown",
   "id": "a6e9a6a2-1369-4347-b987-c81ee7537165",
   "metadata": {
    "tags": []
   },
   "source": [
    "The instruments used to measure bnp clearly have an upper bound, which can be seen in the plot.  The difference in the correlation statistics can be attributed to two things:\n",
    "- the scale of bnp being so large makes Pearson's correlation highly subject to the extreme values\n",
    "- the relationship may not be perfectly linear - perhaps it is something closer to exponential, which is monotonic and thus better detectable by Spearman's correlation"
   ]
  },
  {
   "cell_type": "markdown",
   "id": "779f4ac0-121b-41e9-bb99-3fc76e44f48b",
   "metadata": {},
   "source": [
    "# From Descriptive to Inferential Statistics"
   ]
  },
  {
   "cell_type": "markdown",
   "id": "1f792256-8b7e-4196-921f-31169e14c568",
   "metadata": {},
   "source": [
    "## Probability"
   ]
  },
  {
   "cell_type": "markdown",
   "id": "7c7c80a3-aaee-44cb-a901-4e0bdafc052d",
   "metadata": {},
   "source": [
    "### Randomness\n",
    "Descriptive statistics are nice, but because statistics are fundamentally *random* (since the sample selection process is random), it is difficult to answer some scientific questions in a definitive way. E.g.) Are these two sample means from different subgroups actually fundamentally distinct?  Or did the randomness of the sample just make them appear different by chance?  In order to answer these questions, we need to be able to study, formalize, and quantify randomness.\n",
    "\n",
    "But first! - a quick philosophical aside.  What does it mean for something to be random?  Randomness comes in 2 flavors - *aleatoric* and *epistemic*. Epistemic randomness is \"apparent\" randomness in that phenomena simply appear random to us because we don't have enough information. We don't understand the exact structure of what we're studying and/or we couldn't measure many of the relevant variables, since it's expensive and intrusive. Aleatoric randomness describes something \"intrinsically\" random, like you might see in many interpretations of quantum mechanics. It can also describe the randomness amounting from the millions of tiny effects that one could and would not even practically measure.\n",
    "\n",
    "I think epistemic randomness is a lot more useful of a perspective to hold in most statistical science.  If we had a multi-organ simulator for a patient and could measure every relevant variable, whether a patient will have heart failure within a year could be almost fully determined.  But we don't have any of this information.  We can make best guesses from the small amount of things we know -  age, sex, race, the average rate of heart failure, etc... but their personal likelihood for heart failure will still be mostly unknowable to us.  We call this uncertainty derived from lack of knowledge as randomness."
   ]
  },
  {
   "cell_type": "markdown",
   "id": "4057b759-4df0-4863-ba19-1f64cf168019",
   "metadata": {},
   "source": [
    "### Models\n",
    "To formalize randomness, we must create a *probability model*.  This essentially amounts to choosing certain variables to treat as random (such as an outcome of interest) and then describing a random way that data was *generated* (e.g. a weighted-coin flipping model for a binary outcome) in a large population of patients.  To describe how the data was generated, it is equivalent to either partially or completely specify the \"shape\" of what a large amount of generated data would look like (same idea behind the histograms we looked at earlier but with infinite data).  This \"shape\" is known as a *probability distribution*. \n",
    "\n",
    "We will start with some cases where we completely specify the distribution.  Most of the classical distributions have *family* names and *parameters* that distinguish between distributions within that family.  Typically the family specifies an overall shape, and the parameters pin down exact values for the true mean/variance/skew of the distribution.  As an analogy, you can think about actual geometric shapes.  Rectangles and circles are each a \"family\" of shapes.  The shape itself can be exactly identified by specifying the parameters height and width, or radius, respectively."
   ]
  },
  {
   "cell_type": "markdown",
   "id": "fd2a8e0a",
   "metadata": {},
   "source": [
    "### The Normal Family\n",
    "Arguably, the most important family in all of statistics is the *Normal* family. The distribution within the family can be specified with two parameters, the true/population mean and true/population standard deviation.  Recall that for unimodal distributions, we claimed that at least 89% and 95% of the data would be within 2 and 3 standard deviations from the mean, respectively.  For the Normal family, we can strengthen this claim.  Nearly exactly 68%, 95%, and 99.7% of the data is within 1, 2, and 3 standard deviations from the mean, respectively.\n",
    "\n",
    "R provides us with the *rnorm* function for generating *samples* from any Normal distribution.  Let's specify a normal probability model with mean 100 and standard deviation 15 for IQ scores and generate a lot of samples, so we can visualize its shape. "
   ]
  },
  {
   "cell_type": "code",
   "execution_count": 32,
   "id": "a44fbbc5-1b66-4355-8749-26cabef32feb",
   "metadata": {},
   "outputs": [
    {
     "data": {
      "image/png": "[encoded data removed]",
      "text/plain": [
       "Plot with title \"Histogram of iq.scores\""
      ]
     },
     "metadata": {},
     "output_type": "display_data"
    }
   ],
   "source": [
    "iq.scores <- rnorm(500000, mean = 100, sd = 15)\n",
    "hist(iq.scores, probability = T, breaks = 100)"
   ]
  },
  {
   "cell_type": "markdown",
   "id": "f7898362-d54e-4cab-b3c9-d5ef94303b83",
   "metadata": {},
   "source": [
    "Recall, when \"probability = T\" in the histogram, you can interpret the height times width of a bin as the probability of a sample being in that bin.  In turn, you can also interpret that as the probability a newly generated sample would be in that bin.  A more qualitative observation is that more height in the histogram naturally corresponds to more \"density\" in generating samples locally to those values.  \n",
    "\n",
    "The goal of statistics is to connect some data we actually observe with some theoretical and idealized probability model.  We've specified our theoretical probability model. So lets generate some new data, but I won't tell you how I generated it.  This is how data actually comes to you in the real world; nature knows the distribution and generates the data, but you don't ever get to know what the true distribution is.  Pretend this data corresponds to IQ scores of a random selection of 40 graduating high school students who took 2+ AP courses in their final year."
   ]
  },
  {
   "cell_type": "code",
   "execution_count": 33,
   "id": "427f23f1-2348-4b83-9394-49c246bd5bc2",
   "metadata": {
    "tags": []
   },
   "outputs": [
    {
     "data": {
      "image/png": "[encoded data removed]",
      "text/plain": [
       "Plot with title \"\""
      ]
     },
     "metadata": {},
     "output_type": "display_data"
    }
   ],
   "source": [
    "set.seed(12792) # ignore; here for reproducibility\n",
    "iq.sample <- rnorm(40, mean = 108, sd = 15)\n",
    "hist(iq.sample, probability = T, xlab = 'IQ Score', main = '')"
   ]
  },
  {
   "cell_type": "markdown",
   "id": "0dd0edda-8202-46a2-8e98-2c96fd47b5d6",
   "metadata": {},
   "source": [
    "Now, we can ask particular scientific questions and mathematically tie them to answers about the probability model that generated our data.  Let's start with the vague question of - is taking 2+ AP courses associated with a higher IQ?\n",
    "\n",
    "We must make some simplifying assumptions to model things in the world.  We apriori know that IQ scores of the public follows a normal distribution with mean 100 and standard deviation 15.  So it is reasonable to assume that IQ scores in this specific group may follow a distribution that is quite similar.  To make modeling tractable, we may first assume our particular sample was *also* generated from a distribution in the Normal family like the public's.  For simplicity, we may further assume that the variability of this distribution is the same as the public's. In summary, we assume our sample was generated from some Normal distribution with a standard deviation of 15.  \n",
    "\n",
    "The only free variable left in pinning down the distribution is the mean.  Now, we can ask a specific mathematical question.  Given our sample data comes from some Normal distribution with standard deviation 15, is this distribution's true mean the same as the true mean of the public (100)?  Or does taking AP courses correlate with having slightly higher IQ scores (and thus a higher mean) overall?  We will develop statistical machinery in the next session that gives a probabilistic answer to this question.  In turn, the answer to this mathematical question will also answer the scientific question about whether our association is real.  This is what is meant by *inferential* statistics.  "
   ]
  },
  {
   "cell_type": "markdown",
   "id": "0254a8ad-c3be-4734-a013-d4a885dff262",
   "metadata": {},
   "source": [
    "A short recap - the goal of statistics is to connect the data we observe to some theoretical and idealized probability model.  Our use of this probability models (along with some simplifying assumptions) allow us to derive mathematically precise conclusions, which in turn correspond to scientific conclusions.  \n",
    "\n",
    "You may be questioning the validity of this methodology.  How do we know the assumptions we make are true?  Does anything in the real world actually correspond to some idealized probability model?  You don't always and no.  But to quote George Box - \"All models are wrong, but some are useful.\"  The idea is that you should try to model things in a way that's \"close enough\" to reality.  If you are successful, the accuracy of your results are also \"close enough\".\n",
    "\n",
    "## Simulation\n",
    "\n",
    "As we saw with the Normal distribution, simulating in R is extremely easy and is one of its greatest strengths.  Pick a common family and R has a built-in function to **sample** from any distribution within that family.  A sample is a single random draw in accordance with the probabilities of a distribution.  For example in a fair coin toss, I would sample a *heads* with 50% probability and a *tails* with 50% probability.  If you took a very large number of samples from a continuous distribution (like one governing IQ scores), their histogram should look exceedingly similar to the distribution you sampled from.\n",
    "\n",
    "In R, you can sample by \n",
    "- using functions that start with \"r\" and are followed by the family name of the distribution (or some short form of it)\n",
    "- specifying the number of samples you want as the first unnamed argument.\n",
    "- specifying the parameters of the distribution in the family using named arguments afterwards.  Use the help tool to see what these parameters are called. \n",
    "\n",
    "We already saw the Normal family in action earlier.  Next, we will explore a family of distributions for binary outcomes."
   ]
  },
  {
   "cell_type": "markdown",
   "id": "987cacc1",
   "metadata": {},
   "source": [
    "### The Bernoulli Family\n",
    "You should think about a Bernoulli distribution as a weighted coin.  A sample from the distribution corresponds to a flip of the coin.  1 corresponds with heads and 0 corresponds with tails.  To explain the function name in R, I'll simply mention that the Bernoulli family is a subfamily of the Binomial family, just as squares are a subfamily of rectangles.  We use the argument \"size = 1\" to specify that we want the Bernoulli family.  A Bernoulli distribution is specified by a single parameter that describes the probability of heads.  The argument for this is \"prob\".  Hence, generating 30 samples from a fair coin model looks like"
   ]
  },
  {
   "cell_type": "code",
   "execution_count": 12,
   "id": "710bd796",
   "metadata": {},
   "outputs": [
    {
     "name": "stdout",
     "output_type": "stream",
     "text": [
      " [1] 1 1 0 1 0 1 0 0 1 0 1 1 1 0 0 0 1 1 0 0 0 1 1 1 1 1 1 1 0 0\n"
     ]
    }
   ],
   "source": [
    "print(rbinom(30, size = 1, prob = 0.5))"
   ]
  },
  {
   "cell_type": "markdown",
   "id": "7cc6ae9d",
   "metadata": {},
   "source": [
    "### In-Class Exercise 6: Simulating AKI\n",
    "\n",
    "We have apriori observed the proportion of patients who develop acute kidney injury (AKI) in the hospital is around 14%.  Thus, a reasonable probability model for the binary outcome of AKI would be a Bernoulli distribution with parameter $0.14$.  \n",
    "\n",
    "1. From this model, generate a \"dataset\" (read: vector) of AKI outcomes for 100 patients.\n",
    "2. Using the mean function, calculate the sample proportion of AKI observed.  Record the results in a comment\n",
    "3. Repeat this process 10x\n",
    "4. How many datasets estimated a sample proportion of 0.16 or greater with AKI?\n",
    "5. How many datasets estimated a sample proportion of 0.20 or greater with AKI?\n",
    "\n",
    "**Solution:**"
   ]
  },
  {
   "cell_type": "code",
   "execution_count": 35,
   "id": "11a9da5a-604c-4665-abfc-1f547807eca8",
   "metadata": {
    "collapsed": true,
    "jupyter": {
     "outputs_hidden": true
    },
    "tags": []
   },
   "outputs": [
    {
     "data": {
      "text/html": [
       "0.17"
      ],
      "text/latex": [
       "0.17"
      ],
      "text/markdown": [
       "0.17"
      ],
      "text/plain": [
       "[1] 0.17"
      ]
     },
     "metadata": {},
     "output_type": "display_data"
    }
   ],
   "source": [
    "mean(rbinom(100, size = 1, prob = 0.14))\n",
    "# run this 10x"
   ]
  },
  {
   "cell_type": "markdown",
   "id": "023bf448-7b3a-4c01-889a-48a4312330b5",
   "metadata": {},
   "source": [
    "### Two Views on a \"Sample\"\n",
    "\n",
    "We just did an exercise where we generated 100 samples to create a dataset.  These are many samples on the *patient* level.  However, when we averaged those samples and created a statistic (the sample proportion), we actually created a sample of a different kind.  This statistic is a single sample on the *dataset* level.  We can see that it must have been a sample from some distribution, since we noticed variability of our statistic under different datasets.  Specifically, it is a sample from the distribution governing all possible observed-proportion-of-AKI-occurrences-from-random-groups-of-100-patients-from-yale-hospitals.\n",
    "\n",
    "In short, there's two things you must work to conceptually separate\n",
    "- Samples/Distributions of your data (think directly at the patient level; you'll get many, many individual samples)\n",
    "- Samples/Distributions of your statistics (think at the dataset level; you'll only get one sample statistic)\n",
    "\n",
    "We typically think of data being given to us at the first level.  However, the mathematical conclusions we need for scientific insight operate on the second level.  Probability models give us the machinery to formalize the first level and carry forward conclusions up to the second level.  \n",
    "\n",
    "Here is an example of one of mathematical tools we use to do this.  Though we will not get into the details, one of the most powerful results from probability is the **Central Limit Theorem**.  It tells us that when you have a large amount of data, no matter what \"shape\" the distribution of your data has (patient level), most relevant sample statistics (dataset level) nearly perfectly follow some distribution from the Normal family.  Let's see this in action with the exercise we just looked at. We will look at sample proportions of size 100 (like in the exercise) and then 1000 after.  We will do this for 1 million datasets and examine the histogram.  We highlight in shades of (overlapping) pink the regions that correspond to the earlier exercise."
   ]
  },
  {
   "cell_type": "code",
   "execution_count": 36,
   "id": "da1caefb-80aa-4111-b154-fcdda1a713f0",
   "metadata": {
    "tags": []
   },
   "outputs": [
    {
     "data": {
      "image/png": "[encoded data removed]",
      "text/plain": [
       "Plot with title \"Histogram of x\""
      ]
     },
     "metadata": {},
     "output_type": "display_data"
    },
    {
     "data": {
      "image/png": "[encoded data removed]",
      "text/plain": [
       "Plot with title \"Histogram of x\""
      ]
     },
     "metadata": {},
     "output_type": "display_data"
    }
   ],
   "source": [
    "x <- rbinom(1000000, size = 100, p = 0.14)/100\n",
    "hist(x, prob = T, breaks = 100)\n",
    "\n",
    "# shading for >= 0.16\n",
    "polygon(c(0.16, 0.28, 0.28, 0.16), c(0, 0, 23, 23), \n",
    "        col = rgb(red = 1, green = 0, blue = 0, alpha = 0.1),\n",
    "        lty = 0)\n",
    "# shading for >= 0.2\n",
    "polygon(c(0.20, 0.28, 0.28, 0.20), c(0, 0, 23, 23), \n",
    "        col = rgb(red = 1, green = 0, blue = 0, alpha = 0.1),\n",
    "        lty = 0)\n",
    "\n",
    "x <- rbinom(1000000, size = 1000, p = 0.14)/1000\n",
    "hist(x, prob = T, breaks = 100)"
   ]
  },
  {
   "cell_type": "markdown",
   "id": "e3be8ec9-f2ff-4bb7-af50-592fec0d64c7",
   "metadata": {},
   "source": [
    "Isn't that remarkable?  We started with discrete 0/1 data on the patient-level.  But we ended with (approximately) Normally distributed data on the statistic-level. \n",
    "\n",
    "However, remember that we only get *one* sample from this distribution in real life.  How we interpret the reasonability of that number comes from this theoretical \"infinite datasets\" experiment we're doing above.  Probability models give us the ability to infer what this theoretical \"infinite datasets\" distribution might look like, despite only having access to a single sample from it.\n",
    "\n",
    " How is this possible? Recall that any Normal distribution can be specified with 2 numbers - the mean and standard deviation.  If we have a probability model at the individual data level, we can use some math to infer what this mean and standard deviation are.  Then we have a (Normal) distribution at the statistics level, and we can interpret where our single sample statistic falls on this distribution."
   ]
  }
 ],
 "metadata": {
  "kernelspec": {
   "display_name": "R",
   "language": "R",
   "name": "ir"
  },
  "language_info": {
   "codemirror_mode": "r",
   "file_extension": ".r",
   "mimetype": "text/x-r-source",
   "name": "R",
   "pygments_lexer": "r",
   "version": "3.6.1"
  }
 },
 "nbformat": 4,
 "nbformat_minor": 5
}
