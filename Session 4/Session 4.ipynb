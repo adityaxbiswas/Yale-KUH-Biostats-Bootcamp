{
 "cells": [
  {
   "cell_type": "code",
   "execution_count": 1,
   "id": "63ad13e5",
   "metadata": {},
   "outputs": [],
   "source": [
    "df <- read.csv(\"../biostats bootcamp 2023.csv\", stringsAsFactors = F)\n",
    "df$race <- as.factor(df$race)\n",
    "df$discharge_dispsn <- as.factor(df$discharge_dispsn)"
   ]
  },
  {
   "cell_type": "markdown",
   "id": "4be6a467-edad-4b2e-995a-9e798d73f353",
   "metadata": {},
   "source": [
    "# Overview of Inference\n",
    "\n",
    "Statistical inference mainly consists of two tasks: hypothesis testing and estimation."
   ]
  },
  {
   "cell_type": "markdown",
   "id": "fff20694-e170-4235-83a4-b2f87b67f7f6",
   "metadata": {},
   "source": [
    "## Hypothesis Testing\n",
    "\n",
    "We've spent some time covering hypothesis testing in the previous section.  Hypothesis tests are centered around the idea of a null hypothesis and the choice of accepting or rejecting it based on the evidence your data provides.\n",
    "\n",
    "The utility in this approach is to make *qualitative* claims about the world - an effect/association exists or it doesn't.  Our only goal is providing an optimal guess between these two choices.  However, one of the biggest drawbacks of hypothesis testing is that the null hypothesis is *never* exactly true.  There usually exists some potentially extremely small effect/association, and if you increase your sample size enough, you will eventually detect that.\n",
    "\n",
    "In basic and clinical science, this is sometimes not a major issue - it might be impossible with current infrastructure to collect enough data to get to that point.  Also, the research question of interest is usually only concerned with this binary question of establishing an association.  The mechanisms under study are complicated, and your research only serves to *structurally* establish a connection between two variables that you've isolated through your experimental design.  \n",
    "\n",
    "However, sometimes you find yourself in the scenario where your data is extremely large and a hypothesis test might be meaningless because it will always be significant.  Sometimes, we already know or apriori believe associations exist, and our fundamental scientific question is centered around *quantifying* this relationship.  This is where the statistical science of estimation comes into play."
   ]
  },
  {
   "cell_type": "markdown",
   "id": "e0694052-1f8f-48a5-bd1c-630367987b12",
   "metadata": {},
   "source": [
    "## Estimation\n",
    "\n",
    "First - forget about all the null/alternative hypothesis stuff for a moment; we are no longer working in that framework.  Keep your understanding of probability models in the back of your mind though.\n",
    "\n",
    "We have already been doing the first part of estimation in Sessions 2 and 3.  When you calculated all of those descriptive statistics, you were creating estimates.  But now, we're in a position to look at this a little bit more abstractly.  Let's take the example of when we calculated Spearman's correlation coefficient.  If we had an infinite amount of data, we would have calculated a slightly different coefficient than what we got, and we can consider this the *true* value.  From our data, we tried to *estimate* the true value as closely as we could.\n",
    "\n",
    "The sample median is an estimate of the true median.  The sample Pearson Correlation Coefficient is an estimate of the true Pearson Correlation Coefficient.  The sample difference of means is an estimate of the true difference of means.  You get the idea.  The true value would be scientifically useful to know, so we do our best with an estimate.\n",
    "\n",
    "So how is this different from simple descriptive statistics?  In inferential statistics, we are not satisfied with just forming an estimate.  First, we are interested in the theoretical trade-offs between different algorithms to estimate things. In this course, lightly touching on the concept of *bias* will be all we have to say about this. Second, we must quantify the *uncertainty* around our estimate.  This is where probability models come back into play and will be our focus."
   ]
  },
  {
   "cell_type": "markdown",
   "id": "9d637e43-cf46-4a6f-9070-a3679fde0cd4",
   "metadata": {},
   "source": [
    "### Standard Error & Bias\n",
    "\n",
    "To quantify uncertainty around an estimate, we have to play the infinite datasets experiment again.  But now, the infinite datasets experiment cannot rely on some null probability model; it must rely on the true probability model from which our data was really generated!  If we could do this, we could generate an estimate in each one of our infinite datasets and plot a histogram.  Just to see this in action, let's look at the IQ example from the AP exam kids.  Since I know this true distribution in this case (because I chose it), I can do this infinite datasets experiment."
   ]
  },
  {
   "cell_type": "code",
   "execution_count": 2,
   "id": "574adc61-0013-4a9d-b170-e706b5e5eb89",
   "metadata": {},
   "outputs": [
    {
     "data": {
      "image/png": "[encoded data removed]",
      "text/plain": [
       "Plot with title \"\""
      ]
     },
     "metadata": {},
     "output_type": "display_data"
    }
   ],
   "source": [
    "set.seed(12792) # ignore; here for reproducibility\n",
    "x <- rnorm(30, mean = 108, sd = 15)\n",
    "iq.sample.mean <- mean(x)\n",
    "iq.est.distr <- rnorm(1000000, mean = 108, sd = 15/sqrt(30))\n",
    "hist(iq.est.distr, probability = T, breaks = 100,\n",
    "     xlab = 'IQ Score Sample Means from 30 AP Kids', \n",
    "     main = '')\n",
    "abline(v = iq.sample.mean, col = 'red')"
   ]
  },
  {
   "cell_type": "markdown",
   "id": "1705910e-4c1a-41c8-bad1-21c221be2dd8",
   "metadata": {},
   "source": [
    "This isn't the same type of plots we were showing last class.\n",
    "\n",
    "- In the last class, this plot was the distribution of the test statistic when data is generated under a null distribution.  \n",
    "- In this class, this is the distribution of our estimate when data is generated under the true distribution.  You can see this because the distribution is centered near 108, which is the true mean in this case.  This distribution is referred to as the **sampling distribution**, but I will keep using the informal phrase \"infinite datasets experiment\".\n",
    "\n",
    "I've drawn the location of our actual estimated sample mean in red to show that such a number is typical of this distribution.  From this histogram that represents the infinite datasets experiment, we can now make an important inference.\n",
    "\n",
    "We could figure out an **interval** that capture 95% of all possible sample estimates that we might observe.  For example, the interval starting at the 2.5th percentile and ending at the 97.5th percentile would accomplish this.  For estimates that have an (approximately) normal distribution in the infinite datasets experiment, there is a shortcut formula for this.\n",
    "$$[\\mu - 1.96*\\text{SE}, \\mu + 1.96*\\text{SE}] $$\n",
    "where $\\mu$ is the mean of this distribution and $SE$ is its standard error.  The standard deviation of the above histogram is known as the **standard error**.  Standard deviation without qualification usually describes variation at the level of individuals; the name standard error is reserved for describing variation at the level of estimates/statistics.  In this course, we will only be examining sampling distributions for the sample mean, and thus accordingly only discuss standard errors for the sample mean.\n",
    "\n",
    "When do our estimates have (approximately) normal distributions in the infinite datasets experiment?  Two scenarios: \n",
    "- When the underlying data on the individual level is approximately Normally distributed\n",
    "- When we have a lot of data, due to the Central Limit Theorem (CLT) kicking in\n",
    "\n",
    "If our estimates have (approximately) normal distributions in the infinite datasets experiment, then the standard error can be calculated like\n",
    "$$ \\text{SE} = \\frac{\\sigma}{\\sqrt{n}}$$\n",
    "where $\\sigma$ is the standard deviation of your individual-level data and $n$ is your sample size."
   ]
  },
  {
   "cell_type": "markdown",
   "id": "98a2bda1-9123-401c-a369-dfd9d45f548a",
   "metadata": {},
   "source": [
    "\n",
    "**Bias** quantifies how far away the mean of this distribution is from the true value.  I'm sure you've used bias colloquially all your life, but this is its formal quantitative definition.  Ideally, we would like the bias to be 0.  In the plot above, the bias is indeed 0.  Do you recall the \"correction factor\" of $\\frac{n}{n-1}$ in our sample variance estimator?  This is there to ensure the estimate is unbiased; without this, the sample variance estimator would slightly underestimate the true variance on average.\n",
    "\n",
    "This is one of those \"theoretical properties\" of estimation strategies, so we won't say much more on this topic."
   ]
  },
  {
   "cell_type": "markdown",
   "id": "bb050660-5f07-4e1c-9c68-47be938c9f6b",
   "metadata": {},
   "source": [
    "### Confidence Intervals\n",
    "\n",
    "You might be thinking - that was a cute demonstration.  But you were only able to do the infinite datasets experiment, since you knew the true distribution to start with!  You'll never be able to do that in real life!  And right you are.  So how do we get around this?\n",
    "\n",
    "Similarly to how we navigated things in hypothesis testing, we make near assumptions, and we make close approximations.  For example, suppose that my observed sample mean and sample standard devation in the IQ example were called $\\hat{\\mu}$ and $\\hat{\\sigma}$.  From the get-go - we're assuming that these AP kids have an IQ distribution that is $$\\text{Normal}(\\mu, \\sigma)$$ for *some* true mean $\\mu$ and *some* true standard deviation $\\sigma$.  To get the standard error we just discussed, we need to know the true $\\sigma$, but what if we just assumed $\\hat{\\sigma}$ was close enough to $\\sigma$ and continued from there?  In other words, we pretend the data was generated by\n",
    "$$\\text{Normal}(\\mu, \\hat{\\sigma})$$\n",
    "If we are trying to make an inference for the true mean, we can use the formula from the last section to get the standard error for the mean of this distribution.  If you have a lot of data, this approach of using $\\hat{\\sigma}$ approximately works even if the original data was not normally distributed, since the CLT kicks in.\n",
    "\n",
    "If we proceed this way, we have made potentially 2 approximatation errors.  First, we calculated the standard error for $\\text{Normal}(\\mu, \\hat{\\sigma})$ instead of $\\text{Normal}(\\mu, \\sigma)$.  Second, we assumed the distribution of our estimate was Normal, when it is usually only approximately normal. (However, it is exactly Normal in this one example by construction).  These errors justify placing a little hat on our standard error to acknowledge this, giving us the formula\n",
    "$$ \\hat{\\text{SE}} = \\frac{\\hat{\\sigma}}{\\sqrt{n}} $$\n",
    "\n",
    "Remember that interval we constructed earlier that captures 95% of estimates we would observe in the infinite datasets experiment?  Skipping the math, we can actually flip this on its head and create an interval dependent on our estimate $\\hat{\\mu}$ that will likely capture the true $\\mu$ at a 95% rate.  This is known as a 95% confidence interval.  Using the formula from before (which, again, assumes Normality of the infinite-datasets distribution), when we flip this on its head we get\n",
    "$$ \\text{CI}_{95\\%} = [\\hat{\\mu} - 1.96*\\text{SE}, \\hat{\\mu} + 1.96*\\text{SE}] $$\n",
    "As the true standard error is unavailable to us, we can approximate this confidence interval with\n",
    "$$ \\text{CI}_{95\\%} = [\\hat{\\mu} - 1.96*\\hat{\\text{SE}}, \\hat{\\mu} + 1.96*\\hat{\\text{SE}}] $$\n",
    "which is known as a 95% \"Wald\" Confidence Interval.\n",
    "\n",
    "How can you interpret your confidence interval?  Weirdly enough, it's kind of a \"meta\" claim about the algorithm to construct the confidence interval.  It says that 95% of the time that you construct this type of confidence interval, it will capture the true value you were originally trying to estimate.  \"Capture\" means that that the true value falls within the interval.  This is slightly different than the incorrect claim that we might opt to make - that there is a 95% chance the true value is in the interval.  The true value is not random!  The interval is, since it's based on our data.  Thus, you can never make a probabilistic claim about your particular interval; you can only make a claim about how these type of intervals perform in the long-run over many studies.\n",
    "\n",
    "Let's construct a CI for the IQ example.  We'll print and plot it.  The confidence interval bounds will be in blue and our original sample mean will be in red."
   ]
  },
  {
   "cell_type": "code",
   "execution_count": 3,
   "id": "24956d7f-ab07-4999-9974-ba60eab6b8b4",
   "metadata": {},
   "outputs": [
    {
     "name": "stdout",
     "output_type": "stream",
     "text": [
      "[1] 100.7621 111.2869\n"
     ]
    },
    {
     "data": {
      "image/png": "[encoded data removed]",
      "text/plain": [
       "Plot with title \"\""
      ]
     },
     "metadata": {},
     "output_type": "display_data"
    }
   ],
   "source": [
    "iq.sample.sd <- sd(x)\n",
    "std.error.hat.of.mean <- iq.sample.sd/sqrt(30)\n",
    "lower.bound <- iq.sample.mean - 1.96*std.error.hat.of.mean\n",
    "upper.bound <- iq.sample.mean + 1.96*std.error.hat.of.mean\n",
    "print(c(lower.bound, upper.bound)) # display interval numerically\n",
    "hist(iq.est.distr, probability = T, breaks = 100,\n",
    "     xlab = 'IQ Score Sample Means from 30 AP Kids', \n",
    "     main = '')\n",
    "abline(v = iq.sample.mean, col = 'red')\n",
    "abline(v = lower.bound, col = 'blue')\n",
    "abline(v = upper.bound, col = 'blue')"
   ]
  },
  {
   "cell_type": "markdown",
   "id": "21902f45-e314-41c8-841e-c40ea02032e1",
   "metadata": {},
   "source": [
    "Recall that 108 was the true mean, so this particular interval did happen to correctly capture the true mean, but we would never actually know this in a real study.  What we would know is that is that if we kept repeating the experiment, the red line (and thus the blue lines) would jump around from experiment to experiment; in 95% of these experiments, the space between the blue lines would capture the true mean."
   ]
  },
  {
   "cell_type": "markdown",
   "id": "a3787663-895a-482a-8a3e-89b3550020c5",
   "metadata": {},
   "source": [
    "#### In-Class Exercise 1: Gaining Confidence\n",
    "\n",
    "1. Generate a \"dataset\" consisting of 200 samples from a Gamma distribution with the following code: \\\n",
    "    x <- rgamma(200, shape = 6.5, rate = 0.1) \\\n",
    "    \\\n",
    "    Plot a histogram to visualize this data and then construct a 95% Wald confidence interval for the true mean. Simply derive the lower and upper bounds of the interval in separate calculations. \\\n",
    "\\\n",
    "The true mean of the distribution we sampled from is 65; did your interval capture it?\n",
    "    \n",
    "2. Define \"x\" as the difference in systolic_max and diastolic_max blood pressure in our dataset. \\\n",
    "Produce a 95% Wald confidence interval for the true mean of the distribution that governs x."
   ]
  },
  {
   "cell_type": "code",
   "execution_count": 4,
   "id": "c8b3e842-d001-444f-9e93-b5f5a4ed8d5a",
   "metadata": {},
   "outputs": [
    {
     "name": "stdout",
     "output_type": "stream",
     "text": [
      "[1] \"Sample Mean: 66.111\"\n",
      "[1] \"Confidence Interval: [62.248, 69.973]\"\n"
     ]
    },
    {
     "data": {
      "image/png": "[encoded data removed]",
      "text/plain": [
       "Plot with title \"Histogram of x\""
      ]
     },
     "metadata": {},
     "output_type": "display_data"
    }
   ],
   "source": [
    "# generate data and plot\n",
    "set.seed(31185)\n",
    "x <- rgamma(200, shape = 6.5, rate = 0.1)\n",
    "hist(x, prob = T)\n",
    "\n",
    "# calculate CI\n",
    "x.sample.mean <- mean(x)\n",
    "n <- length(x)\n",
    "std.err.hat <- sd(x)/sqrt(n)\n",
    "lower.bound <- x.sample.mean - 1.96*std.err.hat\n",
    "upper.bound <- x.sample.mean + 1.96*std.err.hat\n",
    "\n",
    "# print\n",
    "print(paste(\"Sample Mean:\", round(x.sample.mean, 3)))\n",
    "CI.string <- paste0(\"[\", round(lower.bound, 3), \", \", round(upper.bound, 3), \"]\")\n",
    "print(paste(\"Confidence Interval:\", CI.string))"
   ]
  },
  {
   "cell_type": "code",
   "execution_count": 5,
   "id": "4e628d50-626a-414c-96e7-a3f1402f6a94",
   "metadata": {},
   "outputs": [
    {
     "name": "stdout",
     "output_type": "stream",
     "text": [
      "[1] \"Sample Mean: 65.108\"\n",
      "[1] \"Confidence Interval: [64.24, 65.976]\"\n"
     ]
    },
    {
     "data": {
      "image/png": "[encoded data removed]",
      "text/plain": [
       "Plot with title \"Histogram of x\""
      ]
     },
     "metadata": {},
     "output_type": "display_data"
    }
   ],
   "source": [
    "x <- df$systolic_max - df$diastolic_max\n",
    "hist(x, prob = T)\n",
    "\n",
    "# calculate CI; same exact code as last time\n",
    "x.sample.mean <- mean(x)\n",
    "n <- length(x)\n",
    "std.err.hat <- sd(x)/sqrt(n)\n",
    "lower.bound <- x.sample.mean - 1.96*std.err.hat\n",
    "upper.bound <- x.sample.mean + 1.96*std.err.hat\n",
    "\n",
    "# print\n",
    "print(paste(\"Sample Mean:\", round(x.sample.mean, 3)))\n",
    "CI.string <- paste0(\"[\", round(lower.bound, 3), \", \", round(upper.bound, 3), \"]\")\n",
    "print(paste(\"Confidence Interval:\", CI.string))"
   ]
  },
  {
   "cell_type": "markdown",
   "id": "a6a09100-2dc6-43f1-9893-5d44570c375f",
   "metadata": {},
   "source": [
    "### Prediction\n",
    "\n",
    "Let's say you were analyzing a problem where a dependent variable is being associated with one (or more) independent variables.\n",
    "\n",
    "After you have performed estimation, you can use then re-use your estimates to perform **prediction** for new patients.  How do you define an optimal prediction?  There are actually several ways but we'll focus on the most common definition for the duration of this session.  In our definition, an **optimal prediction** is the **mean** outcome of the subgroup of individuals who look exactly like you with respect to the independent variables.\n",
    "\n",
    "Let's look at a quick example.  Suppose creatinine_max is the dependent variable and consult_nephrology is the independent variable. I can calculate the optimal predictions for the maximum creatinine of new patients who got a consult and new patients who didn't as follows:"
   ]
  },
  {
   "cell_type": "code",
   "execution_count": 6,
   "id": "e7312957-dc32-4f93-be67-756fab6dd4a6",
   "metadata": {},
   "outputs": [
    {
     "data": {
      "text/html": [
       "1.767"
      ],
      "text/latex": [
       "1.767"
      ],
      "text/markdown": [
       "1.767"
      ],
      "text/plain": [
       "[1] 1.767"
      ]
     },
     "metadata": {},
     "output_type": "display_data"
    },
    {
     "data": {
      "text/html": [
       "5.165"
      ],
      "text/latex": [
       "5.165"
      ],
      "text/markdown": [
       "5.165"
      ],
      "text/plain": [
       "[1] 5.165"
      ]
     },
     "metadata": {},
     "output_type": "display_data"
    }
   ],
   "source": [
    "round(mean(df$creatinine_max[df$consult_nephrology == 0]), 3)\n",
    "round(mean(df$creatinine_max[df$consult_nephrology == 1]), 3)"
   ]
  },
  {
   "cell_type": "markdown",
   "id": "d11a6fda-5ec4-41e0-a662-2cc2412ca25b",
   "metadata": {},
   "source": [
    "I can equivalently express this idea in an equation as follows:\n",
    "$$ \\hat{y} = \\hat{\\beta}_0 (1-x) + \\hat{\\beta}_1 x $$\n",
    "In this case,\n",
    "- $\\hat{y}$ represents the prediction for creatinine_max\n",
    "- $x$ represents consult_nephrology coded as 0/1\n",
    "- $\\hat{\\beta}_0 = 1.76658$\n",
    "- $\\hat{\\beta}_1 = 5.16466$ \n",
    "\n",
    "We have little hats on our $\\beta$'s, since the optimal prediction would be based on the true means, which we are approximating with the sample means from our data."
   ]
  },
  {
   "cell_type": "markdown",
   "id": "ec41f1b4-a782-4c3e-a66c-63a138d8ffb3",
   "metadata": {},
   "source": [
    "# The Basic Linear Model\n",
    "## Structure & Assumptions\n",
    "A linear model is a specific type of probability model.  In its most typical formulation, it treats some independent variables (aka predictors) as fixed and *non-random*. These variables can be of any type: binary, categorical, ordinal, or continuous. \n",
    "\n",
    "The model then treats a dependent variable or outcome $y$ as *random*. This variable must be continuous (but we'll extend this to model binary and count outcomes in the next session). In this model, the independent variables help predict the mean of $y$ for a particular setting of $x$, i.e. the optimal prediction, using a linear equation.  Again, let's use an example:\n",
    "- $y$ will be log(wbcc)\n",
    "- $x$ will be race\n",
    "\n",
    "How do you make a mathematical equation out of a categorical variable? I can't do $\\text{Black} * 3$.  There are many approaches to fix this, but the simplest is called *one-hot* encoding.  This approach creates several new binary variables, one for each category, capturing whether that category is active for that patient.  Here is a display of what this looks like.  Interpret the columns as $x_1, x_2, x_3, x_4$ and interpret the rows as different patients."
   ]
  },
  {
   "cell_type": "code",
   "execution_count": 7,
   "id": "28a142c2-6731-490d-9349-be153e2af0c5",
   "metadata": {},
   "outputs": [
    {
     "data": {
      "text/html": [
       "<table>\n",
       "<thead><tr><th></th><th scope=col>Asian</th><th scope=col>Black</th><th scope=col>Other</th><th scope=col>White</th></tr></thead>\n",
       "<tbody>\n",
       "\t<tr><th scope=row>Asian</th><td>1</td><td>0</td><td>0</td><td>0</td></tr>\n",
       "\t<tr><th scope=row>Black</th><td>0</td><td>1</td><td>0</td><td>0</td></tr>\n",
       "\t<tr><th scope=row>Other</th><td>0</td><td>0</td><td>1</td><td>0</td></tr>\n",
       "\t<tr><th scope=row>White</th><td>0</td><td>0</td><td>0</td><td>1</td></tr>\n",
       "</tbody>\n",
       "</table>\n"
      ],
      "text/latex": [
       "\\begin{tabular}{r|llll}\n",
       "  & Asian & Black & Other & White\\\\\n",
       "\\hline\n",
       "\tAsian & 1 & 0 & 0 & 0\\\\\n",
       "\tBlack & 0 & 1 & 0 & 0\\\\\n",
       "\tOther & 0 & 0 & 1 & 0\\\\\n",
       "\tWhite & 0 & 0 & 0 & 1\\\\\n",
       "\\end{tabular}\n"
      ],
      "text/markdown": [
       "\n",
       "| <!--/--> | Asian | Black | Other | White |\n",
       "|---|---|---|---|---|\n",
       "| Asian | 1 | 0 | 0 | 0 |\n",
       "| Black | 0 | 1 | 0 | 0 |\n",
       "| Other | 0 | 0 | 1 | 0 |\n",
       "| White | 0 | 0 | 0 | 1 |\n",
       "\n"
      ],
      "text/plain": [
       "      Asian Black Other White\n",
       "Asian 1     0     0     0    \n",
       "Black 0     1     0     0    \n",
       "Other 0     0     1     0    \n",
       "White 0     0     0     1    "
      ]
     },
     "metadata": {},
     "output_type": "display_data"
    }
   ],
   "source": [
    "contr.treatment(levels(df$race), contrasts = F)"
   ]
  },
  {
   "cell_type": "markdown",
   "id": "fe3e9240-05ef-4ba1-a2cf-a9d3722a50e3",
   "metadata": {},
   "source": [
    "From this, we can make a linear equation:\n",
    "$$ \\mu_y(x) = \\beta_1 x_1 + \\beta_2 x_2 + \\beta_3 x_3 + \\beta_4 x_4 $$\n",
    "where $\\mu_y(x)$ is the true mean of $y$ for any particular setting of $x$.  This is a theoretical model, since we use unknown true quantities of $\\beta$.  Inferring what these true quantities might be and quantifying our uncertainty around them will be the goal of our analysis.  When we replace these with our sample estimates, we get a more practical prediction equation like we looked at before\n",
    "$$ \\hat{y} = \\hat{\\beta}_1 x_1 + \\hat{\\beta}_2 x_2 + \\hat{\\beta}_3 x_3 + \\hat{\\beta}_4 x_4 $$\n",
    "But for clarity in what's happening, let's focus on the theoretical model for a moment.  \n",
    "\n",
    "The first assumption the linear model makes is that the *remaining* variation after you make your optimal prediction is Normally distributed and centered at 0.  Let's review what this means.  Suppose I made a log(wbcc) prediction for Asian people.  That prediction is not going to be spot-on for everyone.  There's going to be a certain amount of error or variation around my prediction in that subgroup.  The *distribution* of that error is what we're describing here and referring to as remaining variation.  It's the variation in the outcome that remains after we've accounted for being Asian.  This remaining variation should have a mean of 0.  This should be intuitive - if your prediction is optimal (under our mean definition), the average error should be 0, right?\n",
    "\n",
    "The second assumption that the linear model makes is that the standard deviation is the *same* across all levels of $x$.\n",
    "\n",
    "....wait.  Aren't these the exact same assumptions we made for our Student's t / ANOVA tests?  Indeed.  These are special cases of the more general linear model!\n",
    "\n",
    "Returning to the assumptions, if we combine the insight from the second assumption with the first, we can infer that all errors in a linear model, regardless of the level of $x$, collectively follow a single Normal distribution.  This gives rise to a different way of expressing a linear model that is quite common to see:\n",
    "$$ y = \\beta_1 x_1 + \\beta_2 x_2 + \\beta_3 x_3 + \\beta_4 x_4 + \\epsilon$$\n",
    "where $\\epsilon$ has a Normal distribution centered at 0 and with some unknown (but common to all $x$) standard deviation.  In this interpretation, $y$'s are generated by first making the optimal linear prediction using $x$ and then performing a random Normally distributed fluctuation away from this value.\n",
    "\n",
    "There are actually a few more technical assumptions that need to be satisfied, but we'll ignore them for this session.\n",
    "\n",
    "We already ensured in the last session that log(wbcc_max) was Normally distributed within each race, but we'll display the residuals for two races in a histogram to reinforce the perspective we're building."
   ]
  },
  {
   "cell_type": "code",
   "execution_count": 8,
   "id": "3d4123b7-908b-4882-8d2b-94baf0f9bef9",
   "metadata": {},
   "outputs": [
    {
     "data": {
      "image/png": "[encoded data removed]",
      "text/plain": [
       "Plot with title \"Histogram of residuals.white\""
      ]
     },
     "metadata": {},
     "output_type": "display_data"
    },
    {
     "data": {
      "image/png": "[encoded data removed]",
      "text/plain": [
       "Plot with title \"Histogram of residuals.black\""
      ]
     },
     "metadata": {},
     "output_type": "display_data"
    }
   ],
   "source": [
    "# subset outcome to each group\n",
    "y.white <- log(df$wbcc_max)[df$race == 'White']\n",
    "y.black <- log(df$wbcc_max)[df$race == 'Black']\n",
    "y.hat.white <- mean(y.white)\n",
    "y.black.white <- mean(y.black)\n",
    "\n",
    "# subtract off predictions to get remaining variation\n",
    "residuals.white <- y.white - y.hat.white\n",
    "residuals.black <- y.black - y.black.white\n",
    "\n",
    "# visualize\n",
    "hist(residuals.white, prob = T)\n",
    "hist(residuals.black, prob = T)"
   ]
  },
  {
   "cell_type": "markdown",
   "id": "45efc958-b6ee-40d5-947d-ac0b6dfeee56",
   "metadata": {},
   "source": [
    "These seem approximately Normal with similar standard deviations."
   ]
  },
  {
   "cell_type": "markdown",
   "id": "491783e9-54c8-4476-be6f-549c1d606f09",
   "metadata": {},
   "source": [
    "Since the assumptions are approximately satisfied, the linear model is appropriate for modeling this relationship.  There are two things you should keep in mind:\n",
    "- $y$ does not have to be *overall* Normally distributed.  Only the *remaining* variation after accounting for $x$ should be Normally distributed.  The classic example of this is the variation of human height after accounting for sex.\n",
    "- Even if the assumptions are satisfied, this does not mean the linear model is *the* one and only true model that describes how your data was generated.  The linear model just provides *a* correct probabilistic description for how your data could have been generated.  As long as we have *a* correct probabilistic description, we can make accurate inferences."
   ]
  },
  {
   "cell_type": "markdown",
   "id": "45327ff2-f1c8-44f9-843a-b94ab9b4ce25",
   "metadata": {},
   "source": [
    "## Running the Analysis\n",
    "\n",
    "Okay, let's go over the syntax to actually create the linear model and infer some estimates for our $\\beta$'s.  This will return the results in a list.  The list has several names that we could use to extract particular parts of the result using our indexing patterns.  The \"-1\" part of our formula tells R that I don't want to include an intercept in my model.  At least not for now - more on this soon."
   ]
  },
  {
   "cell_type": "code",
   "execution_count": 9,
   "id": "186ddaca-0f97-4a99-afe9-ca8ed7286702",
   "metadata": {},
   "outputs": [
    {
     "name": "stdout",
     "output_type": "stream",
     "text": [
      " [1] \"coefficients\"  \"residuals\"     \"effects\"       \"rank\"         \n",
      " [5] \"fitted.values\" \"assign\"        \"qr\"            \"df.residual\"  \n",
      " [9] \"contrasts\"     \"xlevels\"       \"call\"          \"terms\"        \n",
      "[13] \"model\"        \n"
     ]
    }
   ],
   "source": [
    "model <- lm(log(wbcc_max) ~ -1 + race, data = df)\n",
    "print(names(model))"
   ]
  },
  {
   "cell_type": "markdown",
   "id": "7639f760",
   "metadata": {},
   "source": [
    "### Reading the Output\n",
    "However, the most useful parts of the result can be attained by calling the \"summary\" function on the list that was output.  Compare the coefficient estimates to simply computing the means in each subgroup to see that they match:"
   ]
  },
  {
   "cell_type": "code",
   "execution_count": 10,
   "id": "c7eb5afa",
   "metadata": {},
   "outputs": [
    {
     "data": {
      "text/plain": [
       "\n",
       "Call:\n",
       "lm(formula = log(wbcc_max) ~ -1 + race, data = df)\n",
       "\n",
       "Residuals:\n",
       "    Min      1Q  Median      3Q     Max \n",
       "-2.4296 -0.4264 -0.0273  0.4326  4.5025 \n",
       "\n",
       "Coefficients:\n",
       "          Estimate Std. Error t value Pr(>|t|)    \n",
       "raceAsian  2.66523    0.07619   34.98   <2e-16 ***\n",
       "raceBlack  2.53690    0.02105  120.54   <2e-16 ***\n",
       "raceOther  2.63466    0.02858   92.18   <2e-16 ***\n",
       "raceWhite  2.61188    0.01379  189.46   <2e-16 ***\n",
       "---\n",
       "Signif. codes:  0 '***' 0.001 '**' 0.01 '*' 0.05 '.' 0.1 ' ' 1\n",
       "\n",
       "Residual standard error: 0.619 on 3412 degrees of freedom\n",
       "Multiple R-squared:  0.9463,\tAdjusted R-squared:  0.9463 \n",
       "F-statistic: 1.504e+04 on 4 and 3412 DF,  p-value: < 2.2e-16\n"
      ]
     },
     "metadata": {},
     "output_type": "display_data"
    },
    {
     "data": {
      "text/html": [
       "<table>\n",
       "<thead><tr><th scope=col>race</th><th scope=col>log(wbcc_max)</th></tr></thead>\n",
       "<tbody>\n",
       "\t<tr><td>Asian   </td><td>2.665228</td></tr>\n",
       "\t<tr><td>Black   </td><td>2.536896</td></tr>\n",
       "\t<tr><td>Other   </td><td>2.634655</td></tr>\n",
       "\t<tr><td>White   </td><td>2.611880</td></tr>\n",
       "</tbody>\n",
       "</table>\n"
      ],
      "text/latex": [
       "\\begin{tabular}{r|ll}\n",
       " race & log(wbcc\\_max)\\\\\n",
       "\\hline\n",
       "\t Asian    & 2.665228\\\\\n",
       "\t Black    & 2.536896\\\\\n",
       "\t Other    & 2.634655\\\\\n",
       "\t White    & 2.611880\\\\\n",
       "\\end{tabular}\n"
      ],
      "text/markdown": [
       "\n",
       "| race | log(wbcc_max) |\n",
       "|---|---|\n",
       "| Asian    | 2.665228 |\n",
       "| Black    | 2.536896 |\n",
       "| Other    | 2.634655 |\n",
       "| White    | 2.611880 |\n",
       "\n"
      ],
      "text/plain": [
       "  race  log(wbcc_max)\n",
       "1 Asian 2.665228     \n",
       "2 Black 2.536896     \n",
       "3 Other 2.634655     \n",
       "4 White 2.611880     "
      ]
     },
     "metadata": {},
     "output_type": "display_data"
    }
   ],
   "source": [
    "summary(model) # linear model\n",
    "aggregate(log(wbcc_max) ~ race, data = df, FUN = mean) # subgroup means"
   ]
  },
  {
   "cell_type": "markdown",
   "id": "85072946",
   "metadata": {},
   "source": [
    "There are several key results displayed here. \n",
    "\n",
    "- On top, a 5-number summary is given of the prediction errors also known as **residuals**.  These should look approximately Normally distributed as a consequence of the errors at each level of $x$ having the same Normal distribution. You can use this 5-number summary as a quick and dirty check, or you can be more formal about this and use \"qqnorm(model\\$residuals)\".  Note that passing this check does not *ensure* the assumptions are satisfied, but are rather a mininimum prerequisite to them potentially being satisfied.\n",
    "- In the middle section, we are given *estimates* for the true values of our $\\beta$ coefficients, which are the primary targets of our analysis.  To the right, we are given estimates for the standard errors of each $\\hat{\\beta}$.  Recall that these each have their own distributions under the infinite datasets experiment.  To the right of that, we are given a t-test statistic and a p-value for the null hypothesis that the corresponding true $\\beta$ coefficient is 0 (alternative is not 0).\n",
    "- At the bottom, we are given a few extra pieces of less important information.  Residual standard error gives us an estimate for what that common unknown value of standard deviation is in our Normally distributed prediction errors.  (Adjusted) R-squared gives a value between 0 and 1 that estimates how predictive your model is.  It describes the percentage of the variation in $y$ that was accounted for by $x$; as you can see, our model was not very predictive at all.  Lastly, the F-statistic and corresponding p-value give the results for a hypothesis test for the null hypothesis that *all* the $\\beta$ coefficients except the Intercept's are collectively 0. Recall that, here, we do not have an intercept."
   ]
  },
  {
   "cell_type": "markdown",
   "id": "607a96a4",
   "metadata": {},
   "source": [
    "### Generating Confidence Intervals\n",
    "\n",
    "The estimated coefficients that we saw were listed along side with *standard errors*.  If your sample size is large enough, you can use this information to provide a 95% \"Wald\" confidence interval.  For example, a 95% Wald confidence interval for $\\beta_1$ would look like\n",
    "$$\\text{CI}(\\beta_1) = \\Big[\\hat{\\beta}_1 - 1.96*\\hat{\\text{SE}}_1, \\hat{\\beta}_1 + 1.96*\\hat{\\text{SE}}_1 \\Big] $$"
   ]
  },
  {
   "cell_type": "markdown",
   "id": "d10f6ede",
   "metadata": {},
   "source": [
    "We could pull the standard errors out of the model output and manually construct this.  However, there is a more convenient way to do this!"
   ]
  },
  {
   "cell_type": "code",
   "execution_count": 11,
   "id": "acffb23b",
   "metadata": {},
   "outputs": [
    {
     "data": {
      "text/html": [
       "<table>\n",
       "<thead><tr><th></th><th scope=col>2.5 %</th><th scope=col>97.5 %</th></tr></thead>\n",
       "<tbody>\n",
       "\t<tr><th scope=row>raceAsian</th><td>2.515844</td><td>2.814613</td></tr>\n",
       "\t<tr><th scope=row>raceBlack</th><td>2.495632</td><td>2.578160</td></tr>\n",
       "\t<tr><th scope=row>raceOther</th><td>2.578616</td><td>2.690694</td></tr>\n",
       "\t<tr><th scope=row>raceWhite</th><td>2.584851</td><td>2.638909</td></tr>\n",
       "</tbody>\n",
       "</table>\n"
      ],
      "text/latex": [
       "\\begin{tabular}{r|ll}\n",
       "  & 2.5 \\% & 97.5 \\%\\\\\n",
       "\\hline\n",
       "\traceAsian & 2.515844 & 2.814613\\\\\n",
       "\traceBlack & 2.495632 & 2.578160\\\\\n",
       "\traceOther & 2.578616 & 2.690694\\\\\n",
       "\traceWhite & 2.584851 & 2.638909\\\\\n",
       "\\end{tabular}\n"
      ],
      "text/markdown": [
       "\n",
       "| <!--/--> | 2.5 % | 97.5 % |\n",
       "|---|---|---|\n",
       "| raceAsian | 2.515844 | 2.814613 |\n",
       "| raceBlack | 2.495632 | 2.578160 |\n",
       "| raceOther | 2.578616 | 2.690694 |\n",
       "| raceWhite | 2.584851 | 2.638909 |\n",
       "\n"
      ],
      "text/plain": [
       "          2.5 %    97.5 %  \n",
       "raceAsian 2.515844 2.814613\n",
       "raceBlack 2.495632 2.578160\n",
       "raceOther 2.578616 2.690694\n",
       "raceWhite 2.584851 2.638909"
      ]
     },
     "metadata": {},
     "output_type": "display_data"
    }
   ],
   "source": [
    "confint(model)"
   ]
  },
  {
   "cell_type": "markdown",
   "id": "89b89dfc",
   "metadata": {},
   "source": [
    "### Creating Predictions\n",
    "Once we have a model object, we can use the \"predict\" function on it to predict the mean of the outcome on old or new data.  The \"predict\" function will recognize the model as a linear model and will redirect it to the \"predict.lm\" function.  So if you want to use the help tool, look at ?predict.lm.  Let's predict on some new data.  We can also request confidence intervals and prediction intervals from this function.  We'll look at confidence intervals first."
   ]
  },
  {
   "cell_type": "code",
   "execution_count": 12,
   "id": "c260db15",
   "metadata": {},
   "outputs": [
    {
     "data": {
      "text/html": [
       "<table>\n",
       "<thead><tr><th scope=col>fit</th><th scope=col>lwr</th><th scope=col>upr</th></tr></thead>\n",
       "<tbody>\n",
       "\t<tr><td>2.536896</td><td>2.495632</td><td>2.578160</td></tr>\n",
       "\t<tr><td>2.536896</td><td>2.495632</td><td>2.578160</td></tr>\n",
       "\t<tr><td>2.634655</td><td>2.578616</td><td>2.690694</td></tr>\n",
       "\t<tr><td>2.665228</td><td>2.515844</td><td>2.814613</td></tr>\n",
       "\t<tr><td>2.634655</td><td>2.578616</td><td>2.690694</td></tr>\n",
       "</tbody>\n",
       "</table>\n"
      ],
      "text/latex": [
       "\\begin{tabular}{r|lll}\n",
       " fit & lwr & upr\\\\\n",
       "\\hline\n",
       "\t 2.536896 & 2.495632 & 2.578160\\\\\n",
       "\t 2.536896 & 2.495632 & 2.578160\\\\\n",
       "\t 2.634655 & 2.578616 & 2.690694\\\\\n",
       "\t 2.665228 & 2.515844 & 2.814613\\\\\n",
       "\t 2.634655 & 2.578616 & 2.690694\\\\\n",
       "\\end{tabular}\n"
      ],
      "text/markdown": [
       "\n",
       "| fit | lwr | upr |\n",
       "|---|---|---|\n",
       "| 2.536896 | 2.495632 | 2.578160 |\n",
       "| 2.536896 | 2.495632 | 2.578160 |\n",
       "| 2.634655 | 2.578616 | 2.690694 |\n",
       "| 2.665228 | 2.515844 | 2.814613 |\n",
       "| 2.634655 | 2.578616 | 2.690694 |\n",
       "\n"
      ],
      "text/plain": [
       "  fit      lwr      upr     \n",
       "1 2.536896 2.495632 2.578160\n",
       "2 2.536896 2.495632 2.578160\n",
       "3 2.634655 2.578616 2.690694\n",
       "4 2.665228 2.515844 2.814613\n",
       "5 2.634655 2.578616 2.690694"
      ]
     },
     "metadata": {},
     "output_type": "display_data"
    }
   ],
   "source": [
    "new.data <- data.frame(race = c(\"Black\", \"Black\", \"Other\", \"Asian\", \"Other\"))\n",
    "predict(model, new.data, interval = \"confidence\")"
   ]
  },
  {
   "cell_type": "markdown",
   "id": "f4809d19",
   "metadata": {},
   "source": [
    "As you recall, 95% confidence interval is a procedure to construct an interval that hopes to capture some \"true\" value. If we performed this procedure in millions of datasets, we would expect the capture to be successful 95% of the time.  Let's look at the first row, corresponding to somebody who is Black.  This confidence interval is trying to capture the \"true\" mean log(wbcc_max) value for Black people under this particular linear probability model.  In the third row, this confidence interval is trying to capture the \"true\" mean log(wbcc_max) value for someone who is of race \"Other\" in this particular linear probability model, and so on.  \n",
    "\n",
    "Now, we'll repeat the prediction, but this time ask for prediction intervals."
   ]
  },
  {
   "cell_type": "code",
   "execution_count": 13,
   "id": "c1e0c7b2",
   "metadata": {},
   "outputs": [
    {
     "data": {
      "text/html": [
       "<table>\n",
       "<thead><tr><th scope=col>fit</th><th scope=col>lwr</th><th scope=col>upr</th></tr></thead>\n",
       "<tbody>\n",
       "\t<tr><td>2.536896</td><td>1.322588</td><td>3.751204</td></tr>\n",
       "\t<tr><td>2.536896</td><td>1.322588</td><td>3.751204</td></tr>\n",
       "\t<tr><td>2.634655</td><td>1.419756</td><td>3.849555</td></tr>\n",
       "\t<tr><td>2.665228</td><td>1.442463</td><td>3.887994</td></tr>\n",
       "\t<tr><td>2.634655</td><td>1.419756</td><td>3.849555</td></tr>\n",
       "</tbody>\n",
       "</table>\n"
      ],
      "text/latex": [
       "\\begin{tabular}{r|lll}\n",
       " fit & lwr & upr\\\\\n",
       "\\hline\n",
       "\t 2.536896 & 1.322588 & 3.751204\\\\\n",
       "\t 2.536896 & 1.322588 & 3.751204\\\\\n",
       "\t 2.634655 & 1.419756 & 3.849555\\\\\n",
       "\t 2.665228 & 1.442463 & 3.887994\\\\\n",
       "\t 2.634655 & 1.419756 & 3.849555\\\\\n",
       "\\end{tabular}\n"
      ],
      "text/markdown": [
       "\n",
       "| fit | lwr | upr |\n",
       "|---|---|---|\n",
       "| 2.536896 | 1.322588 | 3.751204 |\n",
       "| 2.536896 | 1.322588 | 3.751204 |\n",
       "| 2.634655 | 1.419756 | 3.849555 |\n",
       "| 2.665228 | 1.442463 | 3.887994 |\n",
       "| 2.634655 | 1.419756 | 3.849555 |\n",
       "\n"
      ],
      "text/plain": [
       "  fit      lwr      upr     \n",
       "1 2.536896 1.322588 3.751204\n",
       "2 2.536896 1.322588 3.751204\n",
       "3 2.634655 1.419756 3.849555\n",
       "4 2.665228 1.442463 3.887994\n",
       "5 2.634655 1.419756 3.849555"
      ]
     },
     "metadata": {},
     "output_type": "display_data"
    }
   ],
   "source": [
    "predict(model, new.data, interval = \"prediction\")"
   ]
  },
  {
   "cell_type": "markdown",
   "id": "00f7c09d",
   "metadata": {},
   "source": [
    "You might notice these intervals are way wider. These can be interpretted as windows where you are likely to see future data.  So for example, the first row tells us that for all black people, we would expect to see 95% of all their data in the interval provided."
   ]
  },
  {
   "cell_type": "markdown",
   "id": "a239a9ba-adc8-4488-a6a6-640c41563c65",
   "metadata": {},
   "source": [
    "## A Binary/Categorical Predictor\n",
    "\n",
    "We ran our first linear model including this curious \"-1\" term in the formula, which tells R to not use an intercept when fitting the model.  What would happen if we didn't include that and decided to include an intercept?"
   ]
  },
  {
   "cell_type": "markdown",
   "id": "d7c6cbd5",
   "metadata": {
    "tags": []
   },
   "source": [
    "### Dummy Coding\n",
    "Note that if we don't use the summary function, R will just print the estimated coefficients."
   ]
  },
  {
   "cell_type": "code",
   "execution_count": 14,
   "id": "50d4aa91",
   "metadata": {},
   "outputs": [
    {
     "data": {
      "text/plain": [
       "\n",
       "Call:\n",
       "lm(formula = log(wbcc_max) ~ race, data = df)\n",
       "\n",
       "Coefficients:\n",
       "(Intercept)    raceBlack    raceOther    raceWhite  \n",
       "    2.66523     -0.12833     -0.03057     -0.05335  \n"
      ]
     },
     "metadata": {},
     "output_type": "display_data"
    }
   ],
   "source": [
    "lm(formula = log(wbcc_max) ~ race, data = df)"
   ]
  },
  {
   "cell_type": "markdown",
   "id": "e661a7ee",
   "metadata": {},
   "source": [
    "As we can see, R took the \"Asian\" coefficient out and made it the baseline (i.e. associated with the intercept).  Every other race's coefficient now describes how different their mean is *compared* to the Asian mean. For example, the black mean is $2.66523 - 0.12833.$\n",
    "\n",
    "This is the default behavior in R and corresponds to a coding scheme for the categorical variable known as \"dummy coding\" aka \"treatment contrasts\".  The idea is that there is always some reference or \"control\" which becomes associated with the intercept and all other coefficients represent differences from that baseline.  For example, if you have several drugs in your model, each that is either administered or not, it makes a lot of sense to have a common intercept coefficient associated with taking *no* drug, and separate coefficients associated with the administration of each individual drug.\n",
    "\n",
    "Due to this perspective usually being necessary with respect to at least one variable in your model, you will almost always have an intercept.  For mathematical reasons, it is not possible to include an intercept *and* every level of a categorical variable as a predictor.  So the most common approach is to treat one level as a reference.  Just to see, this is how race is coded under treatment contrasts:"
   ]
  },
  {
   "cell_type": "code",
   "execution_count": 15,
   "id": "98a1b3ca",
   "metadata": {},
   "outputs": [
    {
     "data": {
      "text/html": [
       "<table>\n",
       "<thead><tr><th></th><th scope=col>Black</th><th scope=col>Other</th><th scope=col>White</th></tr></thead>\n",
       "<tbody>\n",
       "\t<tr><th scope=row>Asian</th><td>0</td><td>0</td><td>0</td></tr>\n",
       "\t<tr><th scope=row>Black</th><td>1</td><td>0</td><td>0</td></tr>\n",
       "\t<tr><th scope=row>Other</th><td>0</td><td>1</td><td>0</td></tr>\n",
       "\t<tr><th scope=row>White</th><td>0</td><td>0</td><td>1</td></tr>\n",
       "</tbody>\n",
       "</table>\n"
      ],
      "text/latex": [
       "\\begin{tabular}{r|lll}\n",
       "  & Black & Other & White\\\\\n",
       "\\hline\n",
       "\tAsian & 0 & 0 & 0\\\\\n",
       "\tBlack & 1 & 0 & 0\\\\\n",
       "\tOther & 0 & 1 & 0\\\\\n",
       "\tWhite & 0 & 0 & 1\\\\\n",
       "\\end{tabular}\n"
      ],
      "text/markdown": [
       "\n",
       "| <!--/--> | Black | Other | White |\n",
       "|---|---|---|---|\n",
       "| Asian | 0 | 0 | 0 |\n",
       "| Black | 1 | 0 | 0 |\n",
       "| Other | 0 | 1 | 0 |\n",
       "| White | 0 | 0 | 1 |\n",
       "\n"
      ],
      "text/plain": [
       "      Black Other White\n",
       "Asian 0     0     0    \n",
       "Black 1     0     0    \n",
       "Other 0     1     0    \n",
       "White 0     0     1    "
      ]
     },
     "metadata": {},
     "output_type": "display_data"
    }
   ],
   "source": [
    "contr.treatment(levels(df$race))"
   ]
  },
  {
   "cell_type": "markdown",
   "id": "5fae0b04",
   "metadata": {},
   "source": [
    "As just described, there is no binary marker for \"Asian\" since it is the reference, and an Asian patient would have a 0 for each of the other binary markers.  So in this case, the categorical race variable only gets transformed into 3 binary variables, $x_1, x_2, x_3$, corresponding to Black, Other, and White.  \n",
    "\n",
    "However, suppose that we wanted to choose the reference level ourselves.  Perhaps to the majority population in this demographic?  How could we do that?"
   ]
  },
  {
   "cell_type": "code",
   "execution_count": 16,
   "id": "9f8a7dd0",
   "metadata": {},
   "outputs": [
    {
     "data": {
      "text/html": [
       "<table>\n",
       "<thead><tr><th></th><th scope=col>Asian</th><th scope=col>Black</th><th scope=col>Other</th></tr></thead>\n",
       "<tbody>\n",
       "\t<tr><th scope=row>White</th><td>0</td><td>0</td><td>0</td></tr>\n",
       "\t<tr><th scope=row>Asian</th><td>1</td><td>0</td><td>0</td></tr>\n",
       "\t<tr><th scope=row>Black</th><td>0</td><td>1</td><td>0</td></tr>\n",
       "\t<tr><th scope=row>Other</th><td>0</td><td>0</td><td>1</td></tr>\n",
       "</tbody>\n",
       "</table>\n"
      ],
      "text/latex": [
       "\\begin{tabular}{r|lll}\n",
       "  & Asian & Black & Other\\\\\n",
       "\\hline\n",
       "\tWhite & 0 & 0 & 0\\\\\n",
       "\tAsian & 1 & 0 & 0\\\\\n",
       "\tBlack & 0 & 1 & 0\\\\\n",
       "\tOther & 0 & 0 & 1\\\\\n",
       "\\end{tabular}\n"
      ],
      "text/markdown": [
       "\n",
       "| <!--/--> | Asian | Black | Other |\n",
       "|---|---|---|---|\n",
       "| White | 0 | 0 | 0 |\n",
       "| Asian | 1 | 0 | 0 |\n",
       "| Black | 0 | 1 | 0 |\n",
       "| Other | 0 | 0 | 1 |\n",
       "\n"
      ],
      "text/plain": [
       "      Asian Black Other\n",
       "White 0     0     0    \n",
       "Asian 1     0     0    \n",
       "Black 0     1     0    \n",
       "Other 0     0     1    "
      ]
     },
     "metadata": {},
     "output_type": "display_data"
    }
   ],
   "source": [
    "df$race <- relevel(df$race, ref = \"White\")\n",
    "contr.treatment(levels(df$race))"
   ]
  },
  {
   "cell_type": "code",
   "execution_count": 17,
   "id": "84b70d25",
   "metadata": {},
   "outputs": [
    {
     "data": {
      "text/plain": [
       "\n",
       "Call:\n",
       "lm(formula = log(wbcc_max) ~ race, data = df)\n",
       "\n",
       "Coefficients:\n",
       "(Intercept)    raceAsian    raceBlack    raceOther  \n",
       "    2.61188      0.05335     -0.07498      0.02277  \n"
      ]
     },
     "metadata": {},
     "output_type": "display_data"
    }
   ],
   "source": [
    "model <- lm(formula = log(wbcc_max) ~ race, data = df)"
   ]
  },
  {
   "cell_type": "markdown",
   "id": "953a225d",
   "metadata": {},
   "source": [
    "Now \"Asian\" has its own coefficient and \"White\" is associated with the intercept."
   ]
  },
  {
   "cell_type": "markdown",
   "id": "d31a2422-973d-40ad-9f31-9f2d6d30fce0",
   "metadata": {},
   "source": [
    "### In-Class Exercise 2: Baby's First Regression\n",
    "\n",
    "Run a linear model where log(wbcc_max) is the dependent variable and discharge_dispsn is the independent variable and save the results to a variable called \"model\".\n",
    "\n",
    "1. Produce a summary for your model using the summary function.  What level of the discharge variable is associated with the intercept?  Using the levels function on the discharge column might help here.\n",
    "2. What is the optimal predicted mean log(wbcc_max) for those discharged to a Skilled Nursing Facility?  Calculate this directly from the estimated model coefficients.\n",
    "3. Produce confidence intervals for your estimates using the confint function.  State an interpretation for the intercept's confidence interval.\n",
    "\n",
    "**Solution:**"
   ]
  },
  {
   "cell_type": "code",
   "execution_count": 18,
   "id": "978c659e-cc78-40a1-8fa0-93e6aa6b6c8d",
   "metadata": {
    "tags": []
   },
   "outputs": [
    {
     "data": {
      "text/plain": [
       "\n",
       "Call:\n",
       "lm(formula = log(wbcc_max) ~ discharge_dispsn, data = df)\n",
       "\n",
       "Residuals:\n",
       "    Min      1Q  Median      3Q     Max \n",
       "-2.1715 -0.3659  0.0070  0.3745  4.1171 \n",
       "\n",
       "Coefficients:\n",
       "                                         Estimate Std. Error t value Pr(>|t|)\n",
       "(Intercept)                               2.35382    0.01415 166.301  < 2e-16\n",
       "discharge_dispsnHospice                   0.42716    0.05535   7.717 1.55e-14\n",
       "discharge_dispsnOther                     0.66617    0.02388  27.899  < 2e-16\n",
       "discharge_dispsnSkilled Nursing Facility  0.24539    0.02335  10.509  < 2e-16\n",
       "                                            \n",
       "(Intercept)                              ***\n",
       "discharge_dispsnHospice                  ***\n",
       "discharge_dispsnOther                    ***\n",
       "discharge_dispsnSkilled Nursing Facility ***\n",
       "---\n",
       "Signif. codes:  0 '***' 0.001 '**' 0.01 '*' 0.05 '.' 0.1 ' ' 1\n",
       "\n",
       "Residual standard error: 0.5587 on 3412 degrees of freedom\n",
       "Multiple R-squared:  0.1882,\tAdjusted R-squared:  0.1875 \n",
       "F-statistic: 263.6 on 3 and 3412 DF,  p-value: < 2.2e-16\n"
      ]
     },
     "metadata": {},
     "output_type": "display_data"
    },
    {
     "data": {
      "text/html": [
       "<ol class=list-inline>\n",
       "\t<li>'Home'</li>\n",
       "\t<li>'Hospice'</li>\n",
       "\t<li>'Other'</li>\n",
       "\t<li>'Skilled Nursing Facility'</li>\n",
       "</ol>\n"
      ],
      "text/latex": [
       "\\begin{enumerate*}\n",
       "\\item 'Home'\n",
       "\\item 'Hospice'\n",
       "\\item 'Other'\n",
       "\\item 'Skilled Nursing Facility'\n",
       "\\end{enumerate*}\n"
      ],
      "text/markdown": [
       "1. 'Home'\n",
       "2. 'Hospice'\n",
       "3. 'Other'\n",
       "4. 'Skilled Nursing Facility'\n",
       "\n",
       "\n"
      ],
      "text/plain": [
       "[1] \"Home\"                     \"Hospice\"                 \n",
       "[3] \"Other\"                    \"Skilled Nursing Facility\""
      ]
     },
     "metadata": {},
     "output_type": "display_data"
    },
    {
     "data": {
      "text/html": [
       "<table>\n",
       "<thead><tr><th></th><th scope=col>2.5 %</th><th scope=col>97.5 %</th></tr></thead>\n",
       "<tbody>\n",
       "\t<tr><th scope=row>(Intercept)</th><td>2.3260657</td><td>2.3815680</td></tr>\n",
       "\t<tr><th scope=row>discharge_dispsnHospice</th><td>0.3186359</td><td>0.5356884</td></tr>\n",
       "\t<tr><th scope=row>discharge_dispsnOther</th><td>0.6193567</td><td>0.7129890</td></tr>\n",
       "\t<tr><th scope=row>discharge_dispsnSkilled Nursing Facility</th><td>0.1996057</td><td>0.2911683</td></tr>\n",
       "</tbody>\n",
       "</table>\n"
      ],
      "text/latex": [
       "\\begin{tabular}{r|ll}\n",
       "  & 2.5 \\% & 97.5 \\%\\\\\n",
       "\\hline\n",
       "\t(Intercept) & 2.3260657 & 2.3815680\\\\\n",
       "\tdischarge\\_dispsnHospice & 0.3186359 & 0.5356884\\\\\n",
       "\tdischarge\\_dispsnOther & 0.6193567 & 0.7129890\\\\\n",
       "\tdischarge\\_dispsnSkilled Nursing Facility & 0.1996057 & 0.2911683\\\\\n",
       "\\end{tabular}\n"
      ],
      "text/markdown": [
       "\n",
       "| <!--/--> | 2.5 % | 97.5 % |\n",
       "|---|---|---|\n",
       "| (Intercept) | 2.3260657 | 2.3815680 |\n",
       "| discharge_dispsnHospice | 0.3186359 | 0.5356884 |\n",
       "| discharge_dispsnOther | 0.6193567 | 0.7129890 |\n",
       "| discharge_dispsnSkilled Nursing Facility | 0.1996057 | 0.2911683 |\n",
       "\n"
      ],
      "text/plain": [
       "                                         2.5 %     97.5 %   \n",
       "(Intercept)                              2.3260657 2.3815680\n",
       "discharge_dispsnHospice                  0.3186359 0.5356884\n",
       "discharge_dispsnOther                    0.6193567 0.7129890\n",
       "discharge_dispsnSkilled Nursing Facility 0.1996057 0.2911683"
      ]
     },
     "metadata": {},
     "output_type": "display_data"
    },
    {
     "data": {
      "image/png": "[encoded data removed]",
      "text/plain": [
       "Plot with title \"Histogram of model$residuals\""
      ]
     },
     "metadata": {},
     "output_type": "display_data"
    }
   ],
   "source": [
    "model <- lm(formula = log(wbcc_max) ~ discharge_dispsn, data = df)\n",
    "\n",
    "summary(model) # print summary \n",
    "levels(df$discharge_dispsn) # first level is associated with intercept\n",
    "# can also tell, since that is the only level not given in the model coefficient names\n",
    "\n",
    "confint(model) # confidence intervals"
   ]
  },
  {
   "cell_type": "markdown",
   "id": "dc4c81de-6711-42e1-9694-c8c78074c214",
   "metadata": {
    "tags": []
   },
   "source": [
    "1. Discharge to home is associated with the intercept.\n",
    "2. 2.35382 + 0.24539 (i.e. model\\\\$coefficients[1] + model\\\\$coefficients[4])\n",
    "3. The interval [2.326, 2.382] provides us with a range in which we believe the true value of the intercept lies.  This belief is made quantitative by the claim that 95% of such intervals correctly capture their true value."
   ]
  },
  {
   "cell_type": "markdown",
   "id": "f51c0db6",
   "metadata": {},
   "source": [
    "###  Deviation Coding\n",
    "\n",
    "What if it really just does not make sense to set a reference level?  What if instead of comparing each level to a reference level, you are more interested in comparing each level to some overall mean across the levels?  Try coding your variables using \"deviation coding\" aka \"sum contrasts\"."
   ]
  },
  {
   "cell_type": "code",
   "execution_count": 19,
   "id": "7f7e5fc6",
   "metadata": {},
   "outputs": [
    {
     "data": {
      "text/html": [
       "<table>\n",
       "<tbody>\n",
       "\t<tr><th scope=row>White</th><td> 1</td><td> 0</td><td> 0</td></tr>\n",
       "\t<tr><th scope=row>Asian</th><td> 0</td><td> 1</td><td> 0</td></tr>\n",
       "\t<tr><th scope=row>Black</th><td> 0</td><td> 0</td><td> 1</td></tr>\n",
       "\t<tr><th scope=row>Other</th><td>-1</td><td>-1</td><td>-1</td></tr>\n",
       "</tbody>\n",
       "</table>\n"
      ],
      "text/latex": [
       "\\begin{tabular}{r|lll}\n",
       "\tWhite &  1 &  0 &  0\\\\\n",
       "\tAsian &  0 &  1 &  0\\\\\n",
       "\tBlack &  0 &  0 &  1\\\\\n",
       "\tOther & -1 & -1 & -1\\\\\n",
       "\\end{tabular}\n"
      ],
      "text/markdown": [
       "\n",
       "| White |  1 |  0 |  0 |\n",
       "| Asian |  0 |  1 |  0 |\n",
       "| Black |  0 |  0 |  1 |\n",
       "| Other | -1 | -1 | -1 |\n",
       "\n"
      ],
      "text/plain": [
       "      [,1] [,2] [,3]\n",
       "White  1    0    0  \n",
       "Asian  0    1    0  \n",
       "Black  0    0    1  \n",
       "Other -1   -1   -1  "
      ]
     },
     "metadata": {},
     "output_type": "display_data"
    }
   ],
   "source": [
    "contr.sum(levels(df$race))"
   ]
  },
  {
   "cell_type": "markdown",
   "id": "8b7d81a3",
   "metadata": {},
   "source": [
    "I'll explain the negatives shortly.  Sum contrasts do two important things.  First, they associate the intercept with the mean of the category-specific means; a common misconception is that they associate the intercept with the overall mean.  Secondly, they don't have a specific coefficient for the *last* level, in this case \"Other\".  Let's run it and interpret."
   ]
  },
  {
   "cell_type": "code",
   "execution_count": 20,
   "id": "ecde2a48",
   "metadata": {},
   "outputs": [
    {
     "data": {
      "text/plain": [
       "\n",
       "Call:\n",
       "lm(formula = log(wbcc_max) ~ race, data = df, contrasts = list(race = \"contr.sum\"))\n",
       "\n",
       "Coefficients:\n",
       "(Intercept)        race1        race2        race3  \n",
       "  2.6121650   -0.0002847    0.0530634   -0.0752688  \n"
      ]
     },
     "metadata": {},
     "output_type": "display_data"
    }
   ],
   "source": [
    "result <- lm(formula = log(wbcc_max) ~ race, data = df, \n",
    "             contrasts = list(race = \"contr.sum\"))\n",
    "result"
   ]
  },
  {
   "cell_type": "markdown",
   "id": "4943c2c4",
   "metadata": {},
   "source": [
    "Let's examine this output. First, we'll verify the intercept is indeed the mean of means."
   ]
  },
  {
   "cell_type": "code",
   "execution_count": 21,
   "id": "54ade42f",
   "metadata": {},
   "outputs": [
    {
     "data": {
      "text/html": [
       "2.612165"
      ],
      "text/latex": [
       "2.612165"
      ],
      "text/markdown": [
       "2.612165"
      ],
      "text/plain": [
       "[1] 2.612165"
      ]
     },
     "metadata": {},
     "output_type": "display_data"
    }
   ],
   "source": [
    "race.means <- aggregate(log(wbcc_max) ~ race, data = df, FUN = mean, na.action = na.omit)[[\"log(wbcc_max)\"]]\n",
    "names(race.means) <- levels(df$race)\n",
    "mean.of.means <- mean(race.means)\n",
    "round(mean.of.means, 6)"
   ]
  },
  {
   "cell_type": "markdown",
   "id": "ca87668c",
   "metadata": {},
   "source": [
    "Next, we'll show that each coefficient is the difference between one of the race's means and the mean-of-means, excluding race's last level."
   ]
  },
  {
   "cell_type": "code",
   "execution_count": 22,
   "id": "258bc4e8",
   "metadata": {},
   "outputs": [
    {
     "data": {
      "text/html": [
       "<dl class=dl-horizontal>\n",
       "\t<dt>White</dt>\n",
       "\t\t<dd>-0.000285</dd>\n",
       "\t<dt>Asian</dt>\n",
       "\t\t<dd>0.053063</dd>\n",
       "\t<dt>Black</dt>\n",
       "\t\t<dd>-0.075269</dd>\n",
       "</dl>\n"
      ],
      "text/latex": [
       "\\begin{description*}\n",
       "\\item[White] -0.000285\n",
       "\\item[Asian] 0.053063\n",
       "\\item[Black] -0.075269\n",
       "\\end{description*}\n"
      ],
      "text/markdown": [
       "White\n",
       ":   -0.000285Asian\n",
       ":   0.053063Black\n",
       ":   -0.075269\n",
       "\n"
      ],
      "text/plain": [
       "    White     Asian     Black \n",
       "-0.000285  0.053063 -0.075269 "
      ]
     },
     "metadata": {},
     "output_type": "display_data"
    }
   ],
   "source": [
    "round(race.means[1:3] - mean.of.means, 6)"
   ]
  },
  {
   "cell_type": "markdown",
   "id": "da73ca50",
   "metadata": {},
   "source": [
    "Lastly, we can see the mean of \"Other\" is actually hidden inside of the coefficients we got.  This is what those negative 1's above were encoding: the intercept minus all the other coefficients produces the mean for \"Other\"."
   ]
  },
  {
   "cell_type": "code",
   "execution_count": 23,
   "id": "7e411bf2",
   "metadata": {},
   "outputs": [
    {
     "data": {
      "text/html": [
       "<strong>Other:</strong> 2.63465511866033"
      ],
      "text/latex": [
       "\\textbf{Other:} 2.63465511866033"
      ],
      "text/markdown": [
       "**Other:** 2.63465511866033"
      ],
      "text/plain": [
       "   Other \n",
       "2.634655 "
      ]
     },
     "metadata": {},
     "output_type": "display_data"
    },
    {
     "data": {
      "text/html": [
       "2.63465511866033"
      ],
      "text/latex": [
       "2.63465511866033"
      ],
      "text/markdown": [
       "2.63465511866033"
      ],
      "text/plain": [
       "[1] 2.634655"
      ]
     },
     "metadata": {},
     "output_type": "display_data"
    }
   ],
   "source": [
    "race.means[4]\n",
    "result$coefficients[[1]] - sum(result$coefficients[2:4])"
   ]
  },
  {
   "cell_type": "markdown",
   "id": "5b540398",
   "metadata": {},
   "source": [
    "Okay how is this useful?  Well particularly if you're trying to run a hypothesis test for a level's coefficient, and you want to examine whether that level's value is signficantly different from the mean-of-means."
   ]
  },
  {
   "cell_type": "code",
   "execution_count": 24,
   "id": "bacc9f53",
   "metadata": {},
   "outputs": [
    {
     "data": {
      "text/html": [
       "<ol class=list-inline>\n",
       "\t<li>'White'</li>\n",
       "\t<li>'Asian'</li>\n",
       "\t<li>'Black'</li>\n",
       "\t<li>'Other'</li>\n",
       "</ol>\n"
      ],
      "text/latex": [
       "\\begin{enumerate*}\n",
       "\\item 'White'\n",
       "\\item 'Asian'\n",
       "\\item 'Black'\n",
       "\\item 'Other'\n",
       "\\end{enumerate*}\n"
      ],
      "text/markdown": [
       "1. 'White'\n",
       "2. 'Asian'\n",
       "3. 'Black'\n",
       "4. 'Other'\n",
       "\n",
       "\n"
      ],
      "text/plain": [
       "[1] \"White\" \"Asian\" \"Black\" \"Other\""
      ]
     },
     "metadata": {},
     "output_type": "display_data"
    },
    {
     "data": {
      "text/plain": [
       "\n",
       "Call:\n",
       "lm(formula = log(wbcc_max) ~ race, data = df, contrasts = list(race = \"contr.sum\"))\n",
       "\n",
       "Residuals:\n",
       "    Min      1Q  Median      3Q     Max \n",
       "-2.4296 -0.4264 -0.0273  0.4326  4.5025 \n",
       "\n",
       "Coefficients:\n",
       "              Estimate Std. Error t value Pr(>|t|)    \n",
       "(Intercept)  2.6121650  0.0212940 122.671  < 2e-16 ***\n",
       "race1       -0.0002847  0.0234192  -0.012  0.99030    \n",
       "race2        0.0530634  0.0579307   0.916  0.35974    \n",
       "race3       -0.0752688  0.0259788  -2.897  0.00379 ** \n",
       "---\n",
       "Signif. codes:  0 '***' 0.001 '**' 0.01 '*' 0.05 '.' 0.1 ' ' 1\n",
       "\n",
       "Residual standard error: 0.619 on 3412 degrees of freedom\n",
       "Multiple R-squared:  0.003463,\tAdjusted R-squared:  0.002587 \n",
       "F-statistic: 3.953 on 3 and 3412 DF,  p-value: 0.007953\n"
      ]
     },
     "metadata": {},
     "output_type": "display_data"
    }
   ],
   "source": [
    "levels(df$race)\n",
    "summary(lm(formula = log(wbcc_max) ~ race, data = df, \n",
    "           contrasts = list(race = \"contr.sum\")))"
   ]
  },
  {
   "cell_type": "markdown",
   "id": "b4afc21c",
   "metadata": {},
   "source": [
    "As we can see from the results, the mean for \"Black\" (race3) does seem statistically sigificantly different from the mean-of-means.  We arrived at a similar conclusion using an ANOVA test last class.  There are many more types of coding schemes you can use in R, each affording a different interpretation of the coefficients.  In fact, there exists a coding scheme which gives us back the exact same results as ANOVA (though the p-values presented are a bit different due to different null/alternative hypotheses).  However, a linear model allows us to do way more then ANOVA. "
   ]
  },
  {
   "cell_type": "markdown",
   "id": "19a6367e",
   "metadata": {},
   "source": [
    "## A Continuous Predictor\n",
    "We will next examine a linear model with a single continuous predictor, bicarbonate_max, which we will call $x$. Thus in this case the mean equation looks like:\n",
    "$$ \\mu_y(x) = \\beta_0 + \\beta_1 x$$\n",
    "\n",
    "Here's a quick visualization of what data that satisfies a linear model should look like with a single continuous predictor."
   ]
  },
  {
   "cell_type": "code",
   "execution_count": 25,
   "id": "78f503be-b8e6-4d24-bb75-274693515ab2",
   "metadata": {},
   "outputs": [
    {
     "data": {
      "image/png": "[encoded data removed]",
      "text/plain": [
       "Plot with title \"Scatter Plot of Simulated Data\""
      ]
     },
     "metadata": {},
     "output_type": "display_data"
    }
   ],
   "source": [
    "set.seed(2113)\n",
    "n <- 200\n",
    "x <- rgamma(n, 12, 0.2)\n",
    "mu.y <- 50 + 2*x\n",
    "y <- mu.y + rnorm(n, 0, 30)\n",
    "plot(x, y, main = \"Scatter Plot of Simulated Data\")\n",
    "abline(a = 50, b = 2, col = 'red', lwd = 3)\n",
    "abline(v = 100, col = 'blue', lwd = 2)"
   ]
  },
  {
   "cell_type": "markdown",
   "id": "662d434c-6229-4c15-8b47-41f733c786ed",
   "metadata": {},
   "source": [
    "As you can see, it will be hard to confirm the model assumptions in this case.  Let's take the level $x = 100$.  At this level, there are no datapoints!  How can we confirm the residuals are Normally distributed at $x=100$?  One approach might be to collectively look at all levels near $x=100$. This could be achieved by binning, for example.  We could sort the data according to $x$ and then bin it into, say, 4 groups of 50.  Within each group, we could check the residuals.  Let's look at this for the last group."
   ]
  },
  {
   "cell_type": "code",
   "execution_count": 26,
   "id": "8d3f0ab8-0e6f-4dff-857f-80aa1fc3ff87",
   "metadata": {},
   "outputs": [
    {
     "data": {
      "image/png": "[encoded data removed]",
      "text/plain": [
       "Plot with title \"Histogram of residuals[select.upper.quartile]\""
      ]
     },
     "metadata": {},
     "output_type": "display_data"
    }
   ],
   "source": [
    "residuals <- y - mu.y\n",
    "select.upper.quartile <- x > quantile(x, 0.75)\n",
    "hist(residuals[select.upper.quartile], prob = T)"
   ]
  },
  {
   "cell_type": "markdown",
   "id": "d80d0910-79d9-487c-ab63-2b5a501d4f45",
   "metadata": {},
   "source": [
    "A little skewed, but if I were doing some sort of model checking, I'd say this was good enough.\n",
    "\n",
    "Okay, let's get into a real example!  We will try to predict the log of the maximum white blood cell count, so this will be our $y$.  We'll use bicarbonate_max to inform our predictions. "
   ]
  },
  {
   "cell_type": "code",
   "execution_count": 27,
   "id": "b03ee7a9",
   "metadata": {},
   "outputs": [
    {
     "data": {
      "text/plain": [
       "\n",
       "Call:\n",
       "lm(formula = log(wbcc_max) ~ bicarbonate_max, data = df)\n",
       "\n",
       "Coefficients:\n",
       "    (Intercept)  bicarbonate_max  \n",
       "          1.738            0.029  \n"
      ]
     },
     "metadata": {},
     "output_type": "display_data"
    }
   ],
   "source": [
    "lm(formula = log(wbcc_max) ~ bicarbonate_max, data = df)"
   ]
  },
  {
   "cell_type": "markdown",
   "id": "46d10416",
   "metadata": {},
   "source": [
    "These results are telling us that we are estimating the true $\\beta_0$ with $\\hat{\\beta}_0= 1.738$, and we are estimating the true $\\beta_1$ with $\\hat{\\beta}_1 =  0.029$.  However, the intercept coefficient is not the best for interpretation.  As it stands right now, the intercept describes the mean when someone has a bicarbonate_max of 0.  Then the coefficient for bicarbonate_max describes how much the mean changes for every additional unit of  bicarbonate_max from 0.\n",
    "\n",
    "### Centering and Scaling Predictors\n",
    "\n",
    "We can change the interpretation of the intercept coefficient by first *centering* our continuous predictor, i.e. subtracting the sample mean.  We can change the interpretation of our bicarbonate_max coefficient by *scaling* our continuous predictor, i.e. dividing by the sample standard deviation.\n",
    "\n",
    "To do this, we're going to use the **scale** function, which can actually do both!  It takes in 2 logical arguments after the variable: whether to center or not and whether to scale or not.  We'll first center but not scale."
   ]
  },
  {
   "cell_type": "code",
   "execution_count": 28,
   "id": "96cf0647",
   "metadata": {},
   "outputs": [
    {
     "data": {
      "text/plain": [
       "\n",
       "Call:\n",
       "lm(formula = log(wbcc_max) ~ scale(bicarbonate_max, T, F), data = df)\n",
       "\n",
       "Coefficients:\n",
       "                 (Intercept)  scale(bicarbonate_max, T, F)  \n",
       "                       2.597                         0.029  \n"
      ]
     },
     "metadata": {},
     "output_type": "display_data"
    }
   ],
   "source": [
    "model <- lm(log(wbcc_max) ~ scale(bicarbonate_max, T, F), data = df)\n",
    "model"
   ]
  },
  {
   "cell_type": "markdown",
   "id": "40bd3d4c",
   "metadata": {},
   "source": [
    "We can see that the estimated coefficient for bicarbonate max is unchanged; accordingly, its interpretation has not changed either. However, the intercept now represents the mean of log(wbcc_max) when someone has a bicarbonate_max equal to its sample average.  This is much more meaningful.  The intercept represents a baseline predicted log wbcc mean for the average person (in terms of bicarbonate_max values) and the estimated coefficient for bicarbonate_max tells us how to modify this prediction based on each unit deviated from the average.\n",
    "\n",
    "We could also fit our model after both centering and scaling.  This changes the coefficient for bicarbonate_max to represent how much our prediction for the mean log(wbcc_max) would change with each standard deviation from the sample mean bicarbonate_max."
   ]
  },
  {
   "cell_type": "code",
   "execution_count": 29,
   "id": "f21dddce",
   "metadata": {},
   "outputs": [
    {
     "data": {
      "text/plain": [
       "\n",
       "Call:\n",
       "lm(formula = log(wbcc_max) ~ scale(bicarbonate_max, T, T), data = df)\n",
       "\n",
       "Coefficients:\n",
       "                 (Intercept)  scale(bicarbonate_max, T, T)  \n",
       "                      2.5971                        0.1674  \n"
      ]
     },
     "metadata": {},
     "output_type": "display_data"
    }
   ],
   "source": [
    "lm(formula = log(wbcc_max) ~ scale(bicarbonate_max, T, T), data = df)"
   ]
  },
  {
   "cell_type": "markdown",
   "id": "3269137b-7d0f-47f4-bb0f-f06025d857b0",
   "metadata": {},
   "source": [
    "As you can see, the intercept is unchanged but now the coefficient for bicarbonate_max now has a much larger value, since a standard deviation of bicarbonate_max is larger than 1.  However, we're going to go back to the model where we only centered, since there are many cases where this setup affords the more useful interpretation."
   ]
  },
  {
   "cell_type": "markdown",
   "id": "1a209f08",
   "metadata": {},
   "source": [
    "### Visualization & Model Diagnostics\n",
    "\n",
    "Here is a plot of the line we estimated in that model; note that bicarbonate_max was first centered.  We can extract the intercept and slope using the \"coefficients\" name in the model list.  We can plot the line using the **abline** function."
   ]
  },
  {
   "cell_type": "code",
   "execution_count": 30,
   "id": "88b0ee9d",
   "metadata": {},
   "outputs": [
    {
     "data": {
      "image/png": "[encoded data removed]",
      "text/plain": [
       "Plot with title \"log(wbcc) vs bicarbonate_max with LR fit\""
      ]
     },
     "metadata": {},
     "output_type": "display_data"
    }
   ],
   "source": [
    "x <- scale(df$bicarbonate_max, T, F)\n",
    "y <- log(df$wbcc_max)\n",
    "plot(x, y,\n",
    "     xlim = quantile(x, c(0.001, 0.999)),\n",
    "     ylim = quantile(y, c(0.001, 0.999)),\n",
    "     main = \"log(wbcc) vs bicarbonate_max with LR fit\")\n",
    "abline(a = model$coefficients[1], b = model$coefficients[2], \n",
    "       col = 'red', lwd = 4)"
   ]
  },
  {
   "cell_type": "markdown",
   "id": "9c418d3c",
   "metadata": {},
   "source": [
    "This is a decent fit.  Next, we will examine the residuals of this model.  Recall that the \"model\" data structure returned to us is a named list."
   ]
  },
  {
   "cell_type": "code",
   "execution_count": 31,
   "id": "766caa02",
   "metadata": {},
   "outputs": [
    {
     "name": "stdout",
     "output_type": "stream",
     "text": [
      " [1] \"coefficients\"  \"residuals\"     \"effects\"       \"rank\"         \n",
      " [5] \"fitted.values\" \"assign\"        \"qr\"            \"df.residual\"  \n",
      " [9] \"xlevels\"       \"call\"          \"terms\"         \"model\"        \n"
     ]
    }
   ],
   "source": [
    "print(names(model))"
   ]
  },
  {
   "cell_type": "markdown",
   "id": "03f3c3d1",
   "metadata": {},
   "source": [
    "Further recall that to use a linear model, we had to assume that $y$ was normally distributed around the mean that we predict at every level of $x$.  We calculated the residuals manually in the categorical example earlier.  However, to fit the model, R actually already calculated all the residuals and stores them in the \"model\" list.\n",
    "\n",
    "We can extract them from the \"model\" list, and do a quick visualization of them by plotting a histogram.  Concretely, the residuals are the actual values of $y$ minus their predicted means."
   ]
  },
  {
   "cell_type": "code",
   "execution_count": 32,
   "id": "2d319263",
   "metadata": {},
   "outputs": [
    {
     "data": {
      "image/png": "[encoded data removed]",
      "text/plain": [
       "Plot with title \"Histogram of model$residuals\""
      ]
     },
     "metadata": {},
     "output_type": "display_data"
    }
   ],
   "source": [
    "hist(model$residuals)"
   ]
  },
  {
   "cell_type": "markdown",
   "id": "56ffbfc3",
   "metadata": {},
   "source": [
    "Not perfect, but acceptable.  Recall that this doesn't completely verify that the assumptions have been met, since the assumption is that the residuals need to be Normally distributed at *each setting* of $x$.  This was easy in the categorical $x$ case, since we could just subset and plot.  As we discussed, this is much more difficult to verify in the continuous case, since at each potential level of $x$ in your dataset you have either 0 or a few datapoints!  We discussed binning, which extends the notion of \"at $x$\" to \"near $x$\", to make headway.\n",
    "\n",
    "A slightly more advanced visualization we can do in the context of a continuous predictor is a **residual plot**.  This is just a scatter plot with our residuals on the $y$-axis and our predicted data on the $x$-axis.  This should look like normally distributed noise around the $x$-axis."
   ]
  },
  {
   "cell_type": "code",
   "execution_count": 33,
   "id": "d0bbf20b-b830-4d1d-b02e-8342c40c890a",
   "metadata": {},
   "outputs": [
    {
     "data": {
      "image/png": "[encoded data removed]",
      "text/plain": [
       "plot without title"
      ]
     },
     "metadata": {},
     "output_type": "display_data"
    }
   ],
   "source": [
    "plot(x, model$residuals,\n",
    "     xlim = quantile(x, c(0.01, 0.99)))\n",
    "abline(h = 0, col = 'red', lwd = 4)"
   ]
  },
  {
   "cell_type": "markdown",
   "id": "cfab77f6-6e8c-4d95-b5d5-eb73018b06a2",
   "metadata": {},
   "source": [
    "This is pretty good, so the model seems mostly appropriate.\n",
    "\n",
    "Let's look at an example where the linear model would be totally inappropriate.  I will construct an example where the histogram of residuals are normal looking, but the assumptions are definitiely violated.  The data follows an exponential trend, yet we will fit a simple linear regression to it."
   ]
  },
  {
   "cell_type": "code",
   "execution_count": 34,
   "id": "d7376db2",
   "metadata": {},
   "outputs": [
    {
     "data": {
      "image/png": "[encoded data removed]",
      "text/plain": [
       "Plot with title \"Actual Data w/ LR fit\""
      ]
     },
     "metadata": {},
     "output_type": "display_data"
    },
    {
     "data": {
      "image/png": "[encoded data removed]",
      "text/plain": [
       "Plot with title \"Residual Plot\""
      ]
     },
     "metadata": {},
     "output_type": "display_data"
    },
    {
     "data": {
      "image/png": "[encoded data removed]",
      "text/plain": [
       "Plot with title \"Histogram of model.bad$residuals\""
      ]
     },
     "metadata": {},
     "output_type": "display_data"
    }
   ],
   "source": [
    "set.seed(2313) # for reproducibility\n",
    "\n",
    "# simulate dataset\n",
    "n <- 500\n",
    "x <- seq(0, 2.2, length.out = n)\n",
    "y.mean <- exp(x)\n",
    "residuals <- rnorm(n, 0, 2/(x+1))\n",
    "y <- y.mean + residuals\n",
    "tmp.df <- data.frame(x = x, y = y)\n",
    "\n",
    "# fit model\n",
    "model.bad <- lm(y ~ x, data = tmp.df)\n",
    "# first plot\n",
    "plot(tmp.df$x, tmp.df$y, main = 'Actual Data w/ LR fit')\n",
    "abline(a = model.bad$coefficients[1], b = model.bad$coefficients[2], \n",
    "       col = 'red', lwd=4)\n",
    "# second plot\n",
    "plot(tmp.df$x, model.bad$residuals, main = \"Residual Plot\")\n",
    "abline(h = 0, col = 'red', lwd = 4)\n",
    "# third plot\n",
    "hist(model.bad$residuals, prob = F)"
   ]
  },
  {
   "cell_type": "markdown",
   "id": "e571f232",
   "metadata": {},
   "source": [
    "If we just look at the histogram of residuals, we wouldn't see anything wrong!  But as you can see from the residual plot, the distribution of residuals around any vertical slice is *not* always centered at 0.  For example, on the right side of the plot, the errors are almost all positive, indicating the mean error is positive around those levels of $x$.  \n",
    "\n",
    "Another thing that needs to be checked is that the standard deviation of the residuals is the same *everywhere*.  This is also not the case here, as the variability of the residuals is larger on the left side of the plot than the right.\n",
    "\n",
    "We will not dive into model diagnostics in this session, but there are several visualization and calculation approaches that exist in practice for trying to figure out if your assumptions have been correctly met. I encourage you to read about them on your own.  If you realize that the normally distributed errors assumption has not been met, there are some steps you can take that might fix the problem; we will discuss one set of approaches in the \"basis expansion\" section, and that approach would indeed work for this particular example. "
   ]
  },
  {
   "cell_type": "markdown",
   "id": "4a73c828-ee81-4fdb-8105-1f532f91c358",
   "metadata": {},
   "source": [
    "### In-Class Exercise 3: Interpreting Your Model\n",
    "\n",
    "Fit a linear model where log(wbcc_max) is the dependent variable and hemoglobin_max is the independent variable. When doing this, choose whether to center and/or scale your independent variable based on the interpretation you want.  Save the results to \"model\" and produce a summary.\n",
    "\n",
    "1. Although it is only a rough check for reasons we've discussed, make a residual plot (residuals located in model\\$residuals).  Everything look kosher?\n",
    "2. State an interpretation of the value of the intercept in a comment.  Further comment on its associated p-value.\n",
    "3. State an interpretation of the value of hemoglobin_max's coefficient in a comment.  Further comment on its associated p-value.\n",
    "4. Visualize your model fit using a scatterplot followed by the abline function.  Recall your model coefficients are located in model\\\\$coefficients.  Does this make sense in the context of the $R^2$ value you saw in your model summary."
   ]
  },
  {
   "cell_type": "code",
   "execution_count": 35,
   "id": "e2d00c05-3ccc-46c1-9aed-5a76a62b0546",
   "metadata": {},
   "outputs": [
    {
     "data": {
      "text/plain": [
       "\n",
       "Call:\n",
       "lm(formula = log(wbcc_max) ~ scale(hemoglobin_max, T, F), data = df)\n",
       "\n",
       "Residuals:\n",
       "    Min      1Q  Median      3Q     Max \n",
       "-2.3980 -0.4249 -0.0300  0.4157  4.6916 \n",
       "\n",
       "Coefficients:\n",
       "                            Estimate Std. Error t value Pr(>|t|)    \n",
       "(Intercept)                 2.597050   0.010500 247.348   <2e-16 ***\n",
       "scale(hemoglobin_max, T, F) 0.038506   0.004621   8.332   <2e-16 ***\n",
       "---\n",
       "Signif. codes:  0 '***' 0.001 '**' 0.01 '*' 0.05 '.' 0.1 ' ' 1\n",
       "\n",
       "Residual standard error: 0.6137 on 3414 degrees of freedom\n",
       "Multiple R-squared:  0.01993,\tAdjusted R-squared:  0.01964 \n",
       "F-statistic: 69.42 on 1 and 3414 DF,  p-value: < 2.2e-16\n"
      ]
     },
     "metadata": {},
     "output_type": "display_data"
    },
    {
     "data": {
      "image/png": "[encoded data removed]",
      "text/plain": [
       "Plot with title \"Residual Plot\""
      ]
     },
     "metadata": {},
     "output_type": "display_data"
    },
    {
     "data": {
      "image/png": "[encoded data removed]",
      "text/plain": [
       "Plot with title \"Data with LR fit\""
      ]
     },
     "metadata": {},
     "output_type": "display_data"
    }
   ],
   "source": [
    "model <- lm(log(wbcc_max) ~ scale(hemoglobin_max, T, F), data = df)\n",
    "\n",
    "plot(df$hemoglobin_max, model$residuals,\n",
    "    main = \"Residual Plot\") # check residuals\n",
    "abline(h = 0, lwd = 4, col = 'red')\n",
    "\n",
    "summary(model) # see coefficients\n",
    "\n",
    "# visualize fit\n",
    "plot(scale(df$hemoglobin_max, T, F), log(df$wbcc_max),\n",
    "    main = \"Data with LR fit\")\n",
    "abline(a = model$coefficients[1], b = model$coefficients[2], \n",
    "       lwd = 4, col = \"red\")"
   ]
  },
  {
   "cell_type": "markdown",
   "id": "315120e7-3547-4d43-a63d-728909dafd55",
   "metadata": {},
   "source": [
    "1. Yes, kosher.\n",
    "2. The intercept is our estimate for the mean log(wbcc_max) for a person with an average hemoglobin_max (in this dataset).  I use this interpretation, since I centered hemoglobin_max.  The p-value tells us that there is extremely strong evidence that a linear model with a 0 intercept is non consistent with our data.\n",
    "3. The coefficient for hemoglobin_max is our estimate for how much the mean log(wbcc_max) increases for every additional unit of hemoglobin above the average value.  I use this interpretation, since I did not scale hemoglobin_max.  The p-value tells us that there is extremely strong evidence that a linear model with a 0 coefficient for hemoglobin_max is non consistent with our data."
   ]
  },
  {
   "cell_type": "markdown",
   "id": "743e9b84",
   "metadata": {},
   "source": [
    "## An Ordered Factor Predictor\n",
    "How does R treat an ordered factored when used as the independent variable in a linear regression?"
   ]
  },
  {
   "cell_type": "code",
   "execution_count": 36,
   "id": "232393f4",
   "metadata": {},
   "outputs": [
    {
     "data": {
      "text/plain": [
       "\n",
       "Call:\n",
       "lm(formula = log(wbcc_max) ~ num.vaccine.ord, data = df)\n",
       "\n",
       "Residuals:\n",
       "    Min      1Q  Median      3Q     Max \n",
       "-2.4788 -0.4311 -0.0198  0.4187  4.5601 \n",
       "\n",
       "Coefficients:\n",
       "                  Estimate Std. Error t value Pr(>|t|)    \n",
       "(Intercept)        2.63268    0.01859 141.590   <2e-16 ***\n",
       "num.vaccine.ord.L  0.05946    0.01913   3.108   0.0019 ** \n",
       "num.vaccine.ord.Q -0.03334    0.04133  -0.807   0.4199    \n",
       "---\n",
       "Signif. codes:  0 '***' 0.001 '**' 0.01 '*' 0.05 '.' 0.1 ' ' 1\n",
       "\n",
       "Residual standard error: 0.6189 on 3413 degrees of freedom\n",
       "Multiple R-squared:  0.003329,\tAdjusted R-squared:  0.002745 \n",
       "F-statistic:   5.7 on 2 and 3413 DF,  p-value: 0.003379\n"
      ]
     },
     "metadata": {},
     "output_type": "display_data"
    }
   ],
   "source": [
    "# make an ordinal variable for number of vaccinations: 0, 1, or 2+\n",
    "df$num.vaccine.ord <- as.character(df$num_vaccine) # make a copy for modification\n",
    "df$num.vaccine.ord[df$num.vaccine >= 2] <- \"2+\"\n",
    "df$num.vaccine.ord <- factor(df$num.vaccine.ord, \n",
    "                             ordered = TRUE, \n",
    "                             levels = c(\"0\", \"1\", \"2+\"))\n",
    "\n",
    "# run model\n",
    "summary(lm(log(wbcc_max) ~ num.vaccine.ord, data = df))"
   ]
  },
  {
   "cell_type": "markdown",
   "id": "1b2c6897",
   "metadata": {},
   "source": [
    "What does this L and Q stand for.  Linear and Quadratic.  R effectively performs a polynomial basis expansion on the under-the-hood integer coding for an ordered factor.  You're likely reading this after I've already presented this Session, so go back and review polynomial expansions if needed.  In this example, num.vacc.ord takes values \"0\", \"1\", and \"2+\", which correspond to integers 1, 2, and 3 respectively.  R takes the number of levels in the ordered factor and does a polynomial basis expansion up to that number minus 1.  Since we had 3 levels here, R did an expansion up till a quadratic (2).\n",
    "\n",
    "Note that if you decided to do this polynomial basis expansion on the integer-code manually and check if you get the same results, you almost would.  The p-values and test statistics would be the same.  But the coefficients would be different.  Why?  You remember that contrast stuff from the categorical section?  It has to do with that.  R uses something called polynomial contrasts here, but we won't get into it.\n",
    "\n",
    "So how to interpret the results?  Coefficients aren't exactly interpetable.  However, the p-values are.  The p-value associated with L tells you if there is a linear trend with respect to the ordered levels. And the p-value associated with Q tells you if there is a quadratic trend.  From our model summary, we can see that there is only strong evidence of a linear trend."
   ]
  },
  {
   "cell_type": "markdown",
   "id": "8bc6c27c-782f-4c1f-826b-2fc7e0b47e21",
   "metadata": {},
   "source": [
    "# Multi-Variate Linear Modeling"
   ]
  },
  {
   "cell_type": "markdown",
   "id": "7f70f349",
   "metadata": {},
   "source": [
    "## Adjustment\n",
    "We are often interested in the relationship between a single independent and a dependent variable, which we will just call $x_1$ and $y$ for short.  However, nature is a complicated thing where millions of different variables are interacting with one another.  In general, we don't have experimental control over many of these other factors; they all get to have their effects on $y$ in whatever ways the data was created.  \n",
    "\n",
    "We call these variables **confounders**.  Conceptually, confounders\n",
    "- may have a medium-strong effect on the outcome\n",
    "- are defined through the scientific question at hand; they are simply variables that we think have an association with the outcome, but we don't really care about\n",
    "- identify sources of variability in the outcome that we would like to remove when interpreting our main effect\n",
    "\n",
    "As an example, lets say I have a binary treatment $x_1$ from a randomized control trial across several hospitals.  I might identify the categorical variable of hospital as a source of variability in my outcome of interest.  Ideally, I would like to estimate the effect of my treatment (read: coefficient of $x_1$) in a sense that really doesn't depend on a particular hospital.  We would do this by dummy-coding hospitals and adding these variables to the model as confounders.\n",
    "\n",
    "The language we use is that we try to *adjust* for confounding by including a series of potential confounding variables in our regression models.  The choices for confounding variables need to be based on your scientific understanding of what you're trying to study, but very common choices in healthcare studies are demographics, comorbidities, and medication uses.\n",
    "\n",
    "If you're interested in the relationship between $x_1$ and $y$, the coefficient associated with $x_1$ is going to be your primary target of intererest.  Adjusting for other variables will very often take the unadjusted effect size for $x_1$ on $y$ (read: coefficient of $x_1$ in non-adjusted regression) and move it closer to 0.  However, this relationship does not always hold; it's possible for the adjusted effect size to grow larger. \n",
    "\n",
    "Operationally, \"adjusting\" for other variables just amounts to throwing them into your regression model as extra independent variables.  For demonstration, we're just going to run a regression with several independent variables of different data types and not worry about which independent variables we're interested in and which are confounders."
   ]
  },
  {
   "cell_type": "code",
   "execution_count": 37,
   "id": "8c2ae434",
   "metadata": {},
   "outputs": [
    {
     "data": {
      "text/html": [
       "'log(wbcc_max) ~ scale(age,T,F) + scale(hemoglobin_max,T,F) + scale(plateletcount_max,T,F) + race + femalesex + diabetescomp_elx_hospital + steroid'"
      ],
      "text/latex": [
       "'log(wbcc\\_max) \\textasciitilde{} scale(age,T,F) + scale(hemoglobin\\_max,T,F) + scale(plateletcount\\_max,T,F) + race + femalesex + diabetescomp\\_elx\\_hospital + steroid'"
      ],
      "text/markdown": [
       "'log(wbcc_max) ~ scale(age,T,F) + scale(hemoglobin_max,T,F) + scale(plateletcount_max,T,F) + race + femalesex + diabetescomp_elx_hospital + steroid'"
      ],
      "text/plain": [
       "[1] \"log(wbcc_max) ~ scale(age,T,F) + scale(hemoglobin_max,T,F) + scale(plateletcount_max,T,F) + race + femalesex + diabetescomp_elx_hospital + steroid\""
      ]
     },
     "metadata": {},
     "output_type": "display_data"
    },
    {
     "data": {
      "text/plain": [
       "\n",
       "Call:\n",
       "lm(formula = my.formula, data = df)\n",
       "\n",
       "Residuals:\n",
       "    Min      1Q  Median      3Q     Max \n",
       "-2.1779 -0.3821 -0.0373  0.3331  4.7597 \n",
       "\n",
       "Coefficients:\n",
       "                                 Estimate Std. Error t value Pr(>|t|)    \n",
       "(Intercept)                     2.421e+00  2.160e-02 112.109  < 2e-16 ***\n",
       "scale(age, T, F)                2.849e-03  6.377e-04   4.467 8.17e-06 ***\n",
       "scale(hemoglobin_max, T, F)     2.062e-02  4.309e-03   4.785 1.78e-06 ***\n",
       "scale(plateletcount_max, T, F)  1.504e-03  6.272e-05  23.970  < 2e-16 ***\n",
       "raceAsian                      -4.274e-02  6.848e-02  -0.624   0.5326    \n",
       "raceBlack                      -5.290e-02  2.288e-02  -2.312   0.0208 *  \n",
       "raceOther                      -4.149e-02  2.902e-02  -1.430   0.1529    \n",
       "femalesex                      -8.955e-02  1.924e-02  -4.654 3.38e-06 ***\n",
       "diabetescomp_elx_hospital       9.639e-02  1.948e-02   4.948 7.86e-07 ***\n",
       "steroid                         2.928e-01  2.022e-02  14.479  < 2e-16 ***\n",
       "---\n",
       "Signif. codes:  0 '***' 0.001 '**' 0.01 '*' 0.05 '.' 0.1 ' ' 1\n",
       "\n",
       "Residual standard error: 0.5449 on 3406 degrees of freedom\n",
       "Multiple R-squared:  0.2292,\tAdjusted R-squared:  0.2272 \n",
       "F-statistic: 112.5 on 9 and 3406 DF,  p-value: < 2.2e-16\n"
      ]
     },
     "metadata": {},
     "output_type": "display_data"
    }
   ],
   "source": [
    "continuous.indep.vars <- c(\"age\", \"hemoglobin_max\", \"plateletcount_max\")\n",
    "discrete.indep.vars <- c(\"race\", \"femalesex\", \"diabetescomp_elx_hospital\", \"steroid\")\n",
    "\n",
    "# make formula\n",
    "continuous.indep.vars <- paste0(\"scale(\", continuous.indep.vars, \",T,F)\") # wrap each string in scale fxn\n",
    "predictor.vars <- c(continuous.indep.vars, discrete.indep.vars) # combine all predictors into one vector\n",
    "predictor.string <- paste(predictor.vars, collapse = \" + \") # merge all predictors into one string separated by +'s \n",
    "my.formula <- paste(\"log(wbcc_max)\", predictor.string, sep = \" ~ \") # prepend outcome to string, separated by ~\n",
    "my.formula\n",
    "\n",
    "model <- lm(my.formula, data = df)\n",
    "summary(model)"
   ]
  },
  {
   "cell_type": "markdown",
   "id": "2c40b1c5",
   "metadata": {},
   "source": [
    "So for this regression, we interpret the intercept as predicted mean log(wbcc_max) when someone is male, white, non-diabetic, not on a steroid, with an average age, average hemoglobin_max, and average plateletcount_max. Furthermore, several coefficients we had looked at before are now different.  Each coefficient associated with a variable is to be interpreted as the change in mean-outcome for every unit increase of that variable.\n",
    "\n",
    "Note that as you add more variables to your regression, your standard errors (and thus confidence intervals) will usually increase.  With a fixed size dataset, it should feel intuitive that it is harder to estimate many things than a few things."
   ]
  },
  {
   "cell_type": "markdown",
   "id": "1db2fd57-b3d4-4008-8735-1f85e8051394",
   "metadata": {},
   "source": [
    "## Fitted-Values vs Residuals Plots\n",
    "\n",
    "Once we start adjusting for multiple things, it would be almost impossible to visualize the residual plot, since it would be taking place in a high-dimensional space.  We can make a compromise in accuracy and instead look at the fitted values vs residuals plot.  This is almost exactly like the residual plot, except the x-axis now consists of our $\\hat{y}$ predictions.  This keeps the plot 2-D.  We lose some information with respect to checking the assumption, since it is possible that multiple different levels of $x$ could lead to the same fitted value $\\hat{y}$.  But this is a reasonable compromise to make the assumption checking tractable.  Let's produce a plot for the previous model.  "
   ]
  },
  {
   "cell_type": "code",
   "execution_count": 38,
   "id": "048dcf22-2c23-4967-8045-ce95cdb756a1",
   "metadata": {},
   "outputs": [
    {
     "data": {
      "image/png": "[encoded data removed]",
      "text/plain": [
       "Plot with title \"Fitted-Values vs Residuals Plot\""
      ]
     },
     "metadata": {},
     "output_type": "display_data"
    }
   ],
   "source": [
    "plot(model$fitted.values, model$residuals,\n",
    "    main = \"Fitted-Values vs Residuals Plot\")\n",
    "abline(h = 0, lwd = 3, col = 'red')"
   ]
  },
  {
   "cell_type": "markdown",
   "id": "4bc94a13-3b7f-43d0-8612-8b275a92d8a9",
   "metadata": {},
   "source": [
    "Seems to be pretty good!  Maybe the residuals are a little unbalanced on the right, but the sample size in that region is too small to be sure.  I'd call this good enough."
   ]
  },
  {
   "cell_type": "markdown",
   "id": "6f3dfc89-39d7-423a-afa0-3efe2a3c0bd0",
   "metadata": {},
   "source": [
    "### In-Class Exercise 4: Getting Adjusted\n",
    "\n",
    "You are interested in modeling the association between log(wbcc_max) ($y$) and creatinine_max ($x_1$).   Let's adjust for age, femalesex, steroid, and consult_nephrology.\n",
    "\n",
    "1. Run the linear model twice, once with adjustment and once without.  Your inferential target is your coefficient for creatinine_max.  Did the coefficient change between the two models?  State in a comment why you think this is.\n",
    "2. If any of your coefficients were insignificant, try dropping them and running the analysis again.  Did this change much?  Do you think this approach is statistically acceptable or not?\n",
    "3. Someone is quite likely to get a nephrology consult when their kidney is injured, meaning they have a high creatinine usually.  If we're trying to isolate the association of the outcome with creatinine_max, does it make sense to adjust for consult_nephrology?  Run the analysis without consult_nephrology and comment on what happens to the coefficient for creatinine_max and why.\n",
    "4. Compute a fitted-values vs residual plot to assess the appropriateness of this final model."
   ]
  },
  {
   "cell_type": "code",
   "execution_count": 39,
   "id": "3aac3214-b19a-44a9-9cdc-46531e118597",
   "metadata": {},
   "outputs": [
    {
     "data": {
      "text/plain": [
       "\n",
       "Call:\n",
       "lm(formula = log(wbcc_max) ~ scale(creatinine_max, T, F), data = df)\n",
       "\n",
       "Residuals:\n",
       "    Min      1Q  Median      3Q     Max \n",
       "-2.3307 -0.4150  0.0008  0.4231  4.4143 \n",
       "\n",
       "Coefficients:\n",
       "                            Estimate Std. Error t value Pr(>|t|)    \n",
       "(Intercept)                 2.597050   0.010330  251.41   <2e-16 ***\n",
       "scale(creatinine_max, T, F) 0.049962   0.003677   13.59   <2e-16 ***\n",
       "---\n",
       "Signif. codes:  0 '***' 0.001 '**' 0.01 '*' 0.05 '.' 0.1 ' ' 1\n",
       "\n",
       "Residual standard error: 0.6038 on 3414 degrees of freedom\n",
       "Multiple R-squared:  0.0513,\tAdjusted R-squared:  0.05102 \n",
       "F-statistic: 184.6 on 1 and 3414 DF,  p-value: < 2.2e-16\n"
      ]
     },
     "metadata": {},
     "output_type": "display_data"
    },
    {
     "name": "stdout",
     "output_type": "stream",
     "text": [
      "[1] \"---------------------------------------------------------------------------\"\n"
     ]
    },
    {
     "data": {
      "text/plain": [
       "\n",
       "Call:\n",
       "lm(formula = log(wbcc_max) ~ scale(creatinine_max, T, F) + scale(age, \n",
       "    T, F) + femalesex + steroid + consult_nephrology, data = df)\n",
       "\n",
       "Residuals:\n",
       "    Min      1Q  Median      3Q     Max \n",
       "-2.5362 -0.3971 -0.0049  0.3909  4.0824 \n",
       "\n",
       "Coefficients:\n",
       "                              Estimate Std. Error t value Pr(>|t|)    \n",
       "(Intercept)                  2.337e+00  2.019e-02 115.742  < 2e-16 ***\n",
       "scale(creatinine_max, T, F)  2.038e-02  4.013e-03   5.080 3.98e-07 ***\n",
       "scale(age, T, F)            -3.602e-05  6.178e-04  -0.058 0.953507    \n",
       "femalesex                   -7.513e-02  1.981e-02  -3.792 0.000152 ***\n",
       "steroid                      3.251e-01  2.094e-02  15.524  < 2e-16 ***\n",
       "consult_nephrology           3.421e-01  2.740e-02  12.484  < 2e-16 ***\n",
       "---\n",
       "Signif. codes:  0 '***' 0.001 '**' 0.01 '*' 0.05 '.' 0.1 ' ' 1\n",
       "\n",
       "Residual standard error: 0.5683 on 3410 degrees of freedom\n",
       "Multiple R-squared:  0.1604,\tAdjusted R-squared:  0.1592 \n",
       "F-statistic: 130.3 on 5 and 3410 DF,  p-value: < 2.2e-16\n"
      ]
     },
     "metadata": {},
     "output_type": "display_data"
    },
    {
     "name": "stdout",
     "output_type": "stream",
     "text": [
      "[1] \"--------------------------------------------------------------------------\"\n"
     ]
    },
    {
     "data": {
      "text/plain": [
       "\n",
       "Call:\n",
       "lm(formula = log(wbcc_max) ~ scale(creatinine_max, T, F) + femalesex + \n",
       "    steroid + consult_nephrology, data = df)\n",
       "\n",
       "Residuals:\n",
       "    Min      1Q  Median      3Q     Max \n",
       "-2.5365 -0.3972 -0.0044  0.3915  4.0818 \n",
       "\n",
       "Coefficients:\n",
       "                             Estimate Std. Error t value Pr(>|t|)    \n",
       "(Intercept)                  2.336719   0.020174 115.825  < 2e-16 ***\n",
       "scale(creatinine_max, T, F)  0.020375   0.004009   5.082 3.94e-07 ***\n",
       "femalesex                   -0.075236   0.019716  -3.816 0.000138 ***\n",
       "steroid                      0.325102   0.020939  15.526  < 2e-16 ***\n",
       "consult_nephrology           0.342170   0.027381  12.497  < 2e-16 ***\n",
       "---\n",
       "Signif. codes:  0 '***' 0.001 '**' 0.01 '*' 0.05 '.' 0.1 ' ' 1\n",
       "\n",
       "Residual standard error: 0.5682 on 3411 degrees of freedom\n",
       "Multiple R-squared:  0.1604,\tAdjusted R-squared:  0.1594 \n",
       "F-statistic: 162.9 on 4 and 3411 DF,  p-value: < 2.2e-16\n"
      ]
     },
     "metadata": {},
     "output_type": "display_data"
    },
    {
     "name": "stdout",
     "output_type": "stream",
     "text": [
      "[1] \"--------------------------------------------------------------------------\"\n"
     ]
    },
    {
     "data": {
      "text/plain": [
       "\n",
       "Call:\n",
       "lm(formula = log(wbcc_max) ~ scale(creatinine_max, T, F) + scale(age, \n",
       "    T, F) + femalesex + steroid, data = df)\n",
       "\n",
       "Residuals:\n",
       "    Min      1Q  Median      3Q     Max \n",
       "-2.4068 -0.4086 -0.0107  0.3910  4.2877 \n",
       "\n",
       "Coefficients:\n",
       "                              Estimate Std. Error t value Pr(>|t|)    \n",
       "(Intercept)                  2.3984410  0.0200125 119.847  < 2e-16 ***\n",
       "scale(creatinine_max, T, F)  0.0449359  0.0035761  12.566  < 2e-16 ***\n",
       "scale(age, T, F)            -0.0003250  0.0006312  -0.515 0.606694    \n",
       "femalesex                   -0.0761105  0.0202536  -3.758 0.000174 ***\n",
       "steroid                      0.3422848  0.0213659  16.020  < 2e-16 ***\n",
       "---\n",
       "Signif. codes:  0 '***' 0.001 '**' 0.01 '*' 0.05 '.' 0.1 ' ' 1\n",
       "\n",
       "Residual standard error: 0.5811 on 3411 degrees of freedom\n",
       "Multiple R-squared:  0.122,\tAdjusted R-squared:  0.121 \n",
       "F-statistic: 118.5 on 4 and 3411 DF,  p-value: < 2.2e-16\n"
      ]
     },
     "metadata": {},
     "output_type": "display_data"
    },
    {
     "data": {
      "image/png": "[encoded data removed]",
      "text/plain": [
       "plot without title"
      ]
     },
     "metadata": {},
     "output_type": "display_data"
    }
   ],
   "source": [
    "model.smol <- lm(log(wbcc_max) ~ scale(creatinine_max,T,F), data = df)\n",
    "summary(model.smol)\n",
    "print('---------------------------------------------------------------------------')\n",
    "model <- lm(log(wbcc_max) ~ scale(creatinine_max,T,F) + scale(age,T,F) + \n",
    "            femalesex + steroid + consult_nephrology, data = df)\n",
    "summary(model)\n",
    "print('--------------------------------------------------------------------------')\n",
    "model.drop.age <- lm(log(wbcc_max) ~ scale(creatinine_max,T,F) + \n",
    "            femalesex + steroid + consult_nephrology, data = df)\n",
    "summary(model.drop.age)\n",
    "print('--------------------------------------------------------------------------')\n",
    "model.drop.consult <- lm(log(wbcc_max) ~ scale(creatinine_max,T,F) + \n",
    "            scale(age,T,F) + femalesex + steroid, data = df)\n",
    "summary(model.drop.consult)\n",
    "plot(model.drop.consult$fitted.values, model.drop.consult$residuals)\n",
    "abline(h = 0, lwd = 3, col = 'red')"
   ]
  },
  {
   "cell_type": "markdown",
   "id": "0949f480-3808-4a7c-9ccc-51dbbb7a8dd6",
   "metadata": {},
   "source": [
    "1. A lot of the variation in log(wbcc_max) can be attributed to other variables other than creatinine.  For example, the $R^2$ value in the unadjusted model was around $5\\%$, where it was around $16\\%$ in the adjusted model.  Some of these variables overlap with creatinine in their ability to explain the variation in the outcome, so when adjusting, creatinine's coefficient gets reduced by over half.  This is the usual pattern we see, though it is possible for the coefficient increase after adjustment in some specific scenarios.\n",
    "2. This barely changed the results of the analysis.  However, this procedure might in larger models with more variables.  If you have a bunch of insignificant variables and drop them and rerun, you're essentially performing multiple testing and not reporting it.  This can bias the estimates left in your regression model towards being too significant.  In general, if your goal is inference on a particular coefficient, you should leave insignificant predictors in your model.  You chose the variables to include in your regression for a scientific reason; if they aren't significant, that's an interesting finding.\n",
    "3. Because of the extremely strong correlation between creatinine_max and consult_nephrology, the latter was \"stealing\" away some of the effect size from creatinine.  Since our goal is to isolate the association with creatinine, we should not be adjusting for this variable in the first place.  Removing it doubles the coefficient for creatinine, but not quite to the level of the unadjusted model.\n",
    "4. Looks good.  Maybe a little unbalanced on the right, but the sample size is too small to be sure."
   ]
  },
  {
   "cell_type": "markdown",
   "id": "50100dea-fadd-4252-bb86-c452d1fcb7ab",
   "metadata": {},
   "source": [
    "## Flexible Modeling\n",
    "Let's say you think your linear model isn't flexible enough to model your data in the way you want it to.  Or maybe you're not getting normally distributed residuals and are trying to fix it.  Or maybe there's some kind of hypothesis you're trying to test that can't be captured in a vanilla linear model.  What to do?  Well we can use the variables we already have to construct new variables in clever ways.  "
   ]
  },
  {
   "cell_type": "markdown",
   "id": "299eb391-1dbf-4cfc-8697-fa7ecc57d2a4",
   "metadata": {},
   "source": [
    "### Feature Engineering\n",
    "\n",
    "Feature engineering refers to the art of creating new variables that might be more informative than the features you were originally given.  How to do this is extremely domain-specific, but I shall give you two examples.\n",
    "\n",
    "Sometimes, we already have domain knowledge that lets us combine predictors or \"features\" in meaningful ways.  For example, BMI is an engineered feature from height and weight.  Estimated glomular filtration rate can be a useful engineered feature of kidney function, which is derived from age, race, sex, and serum creatinine.  An estimate for mean arterial blood pressure can be derived from $2/3$ diastolic + $1/3$ systolic.\n",
    "\n",
    "There is one note of caution: if your engineered feature is a linear combination of other features *and* you include those other features in your model, you will get an error for mathematical reasons.  You cannot have systolic, diastolic, and mean arterial pressure all in your model; you must pick only 1 or 2 of these to keep.\n",
    "\n",
    "Another example of feature engineering is grouping categorical/binary variables together.  If you have 10 drugs for hypertension in your dataset, then there's a good chance some of these are pretty rarely administered, and your estimates based on them will be poor due to effective sample size issues.  It might be a good idea to engineer a new variable that just indicates whether the patient was exposed to *any* hypertensive medication.  Another situation might be when a categorical variable has a lot of levels.  You might choose to coarsen that variable into a smaller number of meaningful levels.  For example, when creating this dataset, I coarsened the race variable to 4 levels from the 10-15 levels that were initially present. "
   ]
  },
  {
   "cell_type": "markdown",
   "id": "065f9356-a0ab-4ccd-b07a-b8e555b0435b",
   "metadata": {},
   "source": [
    "### Basis Expansions\n",
    "\n",
    "Basis expansions refer to the act of \"expanding\" one (or more) variable into a larger number of variables through the use of pre-set transformations/combinations.  "
   ]
  },
  {
   "cell_type": "markdown",
   "id": "e338c85c",
   "metadata": {},
   "source": [
    "#### Interactions\n",
    "\n",
    "An interaction is a specific type of expansion of the following type:\n",
    "$$(1, x_1, x_2) \\longrightarrow (1, x_1, x_2, x_1 * x_2)$$\n",
    "Let's walk through an example that will demonstrate why you might want to do this.\n",
    "\n",
    "Suppose that you are interested in learning about the relationship between log(wbcc_max) ($y$) and steroid use ($x_s$).  You think that female vs male ($x_f$) might be a relevant confounding variable.  So you adjust for it and choose the following model:\n",
    "$$ \\mu_y(x_s, x_f) = \\beta_0 + \\beta_1 x_s + \\beta_2 x_f $$\n",
    "\n",
    "When we have a male, i.e. $x_f = 0$, the equation simplifies to\n",
    "$$ \\mu_y(x_s, 0) = \\beta_0  + \\beta_1 x_s $$\n",
    "When we have a female, i.e. $x_f = 1$, the equation looks like\n",
    "$$ \\mu_y(x_s, 1) = (\\beta_0 + \\beta_2) + \\beta_1 x_s  \\\\\n",
    "= \\tilde{\\beta}_0 +  \\beta_1 x_s $$\n",
    "\n",
    "Being female corresponds to just changing the intercept compared to being male.  Here is the model run"
   ]
  },
  {
   "cell_type": "code",
   "execution_count": 40,
   "id": "06c7f3a7",
   "metadata": {},
   "outputs": [
    {
     "data": {
      "text/plain": [
       "\n",
       "Call:\n",
       "lm(formula = log(wbcc_max) ~ steroid + femalesex, data = df)\n",
       "\n",
       "Coefficients:\n",
       "(Intercept)      steroid    femalesex  \n",
       "     2.4040       0.3567      -0.1101  \n"
      ]
     },
     "metadata": {},
     "output_type": "display_data"
    }
   ],
   "source": [
    "lm(log(wbcc_max) ~ steroid + femalesex, data = df)"
   ]
  },
  {
   "cell_type": "markdown",
   "id": "aaeb16cf",
   "metadata": {},
   "source": [
    "Now instead, what if we wanted to try the following model. \n",
    "$$ \\mu_y(x_s, x_f) = \\beta_0 + \\beta_1 x_s + \\beta_2 x_f  + \\beta_3 x_s * x_f$$\n",
    "What effects might this have?\n",
    "\n",
    "When we have a male, i.e. $x_f = 0$, the equation looks the same as before:\n",
    "$$ \\mu_y(x_s, 0) = \\beta_0 + \\beta_1 x_s $$\n",
    "When we have a female, i.e. $x_f = 1$, the equation now looks like\n",
    "$$ \\mu_y(x_s, 1) = (\\beta_0 + \\beta_2) +  (\\beta_1 + \\beta_3) x_s \\\\\n",
    "= \\tilde{\\beta}_0 + \\tilde{\\beta_1} x_s $$\n",
    "\n",
    "As you can see, being female now changes both the intercept *and* the coefficient for steroid compared to the male equation.  This means that males and females now each get their own coefficient for steroid, rather than having to share a common one.  The equation also shows us how to combine the coefficients to derive these.  The syntax for running this model is:"
   ]
  },
  {
   "cell_type": "code",
   "execution_count": 41,
   "id": "e6f1c24f",
   "metadata": {},
   "outputs": [
    {
     "data": {
      "text/plain": [
       "\n",
       "Call:\n",
       "lm(formula = log(wbcc_max) ~ steroid * femalesex, data = df)\n",
       "\n",
       "Residuals:\n",
       "    Min      1Q  Median      3Q     Max \n",
       "-2.4736 -0.4243 -0.0241  0.4048  4.3807 \n",
       "\n",
       "Coefficients:\n",
       "                  Estimate Std. Error t value Pr(>|t|)    \n",
       "(Intercept)        2.41366    0.02483  97.226  < 2e-16 ***\n",
       "steroid            0.34276    0.02979  11.504  < 2e-16 ***\n",
       "femalesex         -0.13047    0.03603  -3.621 0.000297 ***\n",
       "steroid:femalesex  0.03001    0.04375   0.686 0.492856    \n",
       "---\n",
       "Signif. codes:  0 '***' 0.001 '**' 0.01 '*' 0.05 '.' 0.1 ' ' 1\n",
       "\n",
       "Residual standard error: 0.5943 on 3412 degrees of freedom\n",
       "Multiple R-squared:  0.08149,\tAdjusted R-squared:  0.08068 \n",
       "F-statistic: 100.9 on 3 and 3412 DF,  p-value: < 2.2e-16\n"
      ]
     },
     "metadata": {},
     "output_type": "display_data"
    }
   ],
   "source": [
    "summary(lm(log(wbcc_max) ~ steroid*femalesex, data = df))"
   ]
  },
  {
   "cell_type": "markdown",
   "id": "92f79ef5",
   "metadata": {},
   "source": [
    "The male coefficient for steroid is 0.34276, but the female coefficient is $(0.34276 - 0.03001)$. Notice that we still let femalesex have its own effect on the outcome, separately from how it interacts with steroid.  This same type of reasoning goes through if we replaced steroid with some other continuous variable. The interaction between any variable and a categorical variable is quite useful in medicine for the purposes of interpretation and testing hypotheses.  "
   ]
  },
  {
   "cell_type": "markdown",
   "id": "b487b3ee",
   "metadata": {},
   "source": [
    "Suppose that our primary inferential target was the coefficient associated with steroid.  Testing if the interaction coefficient between steroid and sex is significantly different than 0 can help us decide answer the scientific question of if there really is a differential effect of steroids between men and women (after potentially adjusting for a bunch of other things).  "
   ]
  },
  {
   "cell_type": "markdown",
   "id": "8c4e5d74",
   "metadata": {},
   "source": [
    "When interacting two continuous variables, this sort of intuition breaks down a little.  In this case, the $x$'s are not just 0/1, so the coefficients are always \"active\", so we can't use the same reasoning of interpretation. The product between two continuous variables just serves to create a new type of variable that might help model the data in a more flexible way.  In fact, interacting a continuous variable with itself (possibly several times) is called a *polynomial basis expansion*."
   ]
  },
  {
   "cell_type": "markdown",
   "id": "19dd921b",
   "metadata": {},
   "source": [
    "#### Polynomial Expansions\n",
    "So maybe you think the relationship between two variables isn't actually linear.  Maybe its quadratic.  Or Cubic?  Well we can actually model these types of relationships by what's known as a polynomial basis expansion.  Suppose we start with this model.\n",
    "$$ \\mu_y = \\beta_0 + \\beta_1 x $$\n",
    "We could \"interact\" a variable with itself to give us the following expansion\n",
    "$$ (1, x) \\longrightarrow (1, x, x*x, x*x*x) = (1, x, x^2, x^3)$$\n",
    "This leads to the following model:\n",
    "$$ \\mu_y = \\beta_0 + \\beta_1 x + \\beta_2 x^2 + \\beta_3 x^3 $$\n",
    "Is this still a linear model? It is.  A linear model means that the equation is linear *with respect to the coefficients*, not with respect to the variables."
   ]
  },
  {
   "cell_type": "markdown",
   "id": "47aa3f3c",
   "metadata": {},
   "source": [
    "\n",
    "If your original model has 2 continuous variables that you think might have a nonlinear relationship with the data, try creating a quadratic basis expansion:\n",
    "$$ (1, x_1, x_2) \\longrightarrow (1, x_1, x_2, x_1^2, x_2^2, x_1 * x_2)$$\n",
    "This leads to the following linear model:\n",
    "$$ \\mu_y = \\beta_0 + \\beta_1 x_a + \\beta_2 x_b + \\beta_3 x_a^2 + \\beta_4 x_b^2 + \\beta_5 x_a * x_b$$"
   ]
  },
  {
   "cell_type": "markdown",
   "id": "247d8831-ca65-4895-a1e2-cec91dbea98b",
   "metadata": {},
   "source": [
    "#### Exponential/Logarithmic Expansions\n",
    "There are many other types of basis expansions you can perform.  Here is an example.  If $y$ seems to be exponentially increasing in $x$, you could try adding an exponential term in your expansion like follows:\n",
    "$$ (1, x) \\longrightarrow \\big(1, x, \\exp(x) \\big)$$\n",
    "which leads to the following model:\n",
    "$$ \\mu_y = \\beta_0 + \\beta_1 x + \\beta_2 \\exp(x) $$\n",
    "Let's look at the badly behaved model that I created to show a violation of the linear assumption. This time, we will model it using the above equation and show that this fixes one of the two problems we identified; it still does not fix the residual standard deviation varying across the plot."
   ]
  },
  {
   "cell_type": "code",
   "execution_count": 42,
   "id": "96078ef4-698d-40f9-a294-96cbf309434f",
   "metadata": {},
   "outputs": [
    {
     "data": {
      "image/png": "[encoded data removed]",
      "text/plain": [
       "plot without title"
      ]
     },
     "metadata": {},
     "output_type": "display_data"
    }
   ],
   "source": [
    "set.seed(2313)\n",
    "n <- 500\n",
    "x <- seq(0, 2.2, length.out = n)\n",
    "residuals <- rnorm(n, 0, 2/(x+1))\n",
    "tmp.df <- data.frame(x = x, y = exp(x) + residuals)\n",
    "model <- lm(y ~ x + exp(x), data = tmp.df)\n",
    "plot(tmp.df$x, tmp.df$y)\n",
    "\n",
    "grid <- seq(0, 2.2, length.out = 5000)\n",
    "y.hat <- model$coefficients[1] + model$coefficients[2]*grid + model$coefficients[3]*exp(grid)\n",
    "lines(grid, y.hat, col = 'red', lwd=4)"
   ]
  },
  {
   "cell_type": "markdown",
   "id": "6a17db19-194e-4ee4-b720-55fd75ec2a80",
   "metadata": {},
   "source": [
    "Again, this is still a linear model. In fact, you can use any pre-determined functions (like exp, log, sin, cos, etc...) to create new terms to add to your model, and it stays linear!  We'll choose a very specific type of pre-determined function in the next example to give us a nice interpretation."
   ]
  },
  {
   "cell_type": "markdown",
   "id": "6ae36646-7d67-4282-8726-028986a08044",
   "metadata": {},
   "source": [
    "#### Piece-Wise Linear Expansions\n",
    "Maybe you believe that age has a set linear relationship to some outcome of interest, but up to a point.  Maybe you believe that linear relationship changes around the age of 60, and you'd like to scientifically test this hypothesis. A naive way of going about this would be to split into subgroups, those below 60 and above.  Then you might compare means.  But we can do a more sophisticated analysis with linear models. Let's make up some data to work with."
   ]
  },
  {
   "cell_type": "code",
   "execution_count": 43,
   "id": "17e88c4c-d979-41db-869d-071851095cd9",
   "metadata": {},
   "outputs": [
    {
     "data": {
      "image/png": "[encoded data removed]",
      "text/plain": [
       "plot without title"
      ]
     },
     "metadata": {},
     "output_type": "display_data"
    }
   ],
   "source": [
    "set.seed(216113)\n",
    "n <- 500\n",
    "age <- rnbinom(n, size = 20, prob = 0.3)\n",
    "cutoff <- 60\n",
    "indicator <- (age >= cutoff)\n",
    "expansion.var <- indicator*(age - cutoff)\n",
    "\n",
    "betas <- c(3, 0.05, 0.04)\n",
    "mu.y <- betas[1] + betas[2]*age + betas[3]*expansion.var\n",
    "y <- mu.y + rnorm(n, mean = 0, sd = 0.8)\n",
    "plot(age, y)"
   ]
  },
  {
   "cell_type": "markdown",
   "id": "f544f29e-56e9-46b1-975a-06f7a8eebcc1",
   "metadata": {},
   "source": [
    "We wanted to test if people above 60 have a different trend to their linear relationship than everyone else.  We can make a linear model representing this explicit using a basis expansion.  In terms of the how to think about this, you first make an indicator variable for if the patient's is older than 60 or not.  This determines when the kink in the linear function should turn \"on\".  Then you interact this with the number of years a patient is older than 60.  This ensures that at the value $x=60$, this new term is 0. This setup ensures continuity in your piece-wise linear function, which is probably what you want.  This expression is actually equivalent to taking the maximum between $(x-60)$ and $0$.  In algebra, we are claiming\n",
    "$$\\mathbf{1}\\{ x >= 60\\}*(x-60) = \\max(0, x - 60) $$\n",
    "\n",
    "Using this, our particular expansion will look like\n",
    "$$ (1, x) \\longrightarrow \\big( 1, x, \\max(0, x - 60) \\big) $$\n",
    "which leads to the following model:\n",
    "$$ \\mu_y = \\beta_0 + \\beta_1 x + \\beta_2 \\max(0, x - 60) $$\n",
    "\n",
    "Then $\\hat{\\beta}_1$ describes the linear trend for those under age 60.  And $\\hat{\\beta}_1 + \\hat{\\beta}_2$ describes the trend for those over age 60.  Let's run the model and plot to verify."
   ]
  },
  {
   "cell_type": "code",
   "execution_count": 44,
   "id": "c11a385e-dac8-4a96-af8d-781195170e0d",
   "metadata": {},
   "outputs": [
    {
     "data": {
      "text/plain": [
       "\n",
       "Call:\n",
       "lm(formula = y ~ age + age.expansion.term)\n",
       "\n",
       "Residuals:\n",
       "     Min       1Q   Median       3Q      Max \n",
       "-2.65213 -0.50786  0.00497  0.53406  3.09692 \n",
       "\n",
       "Coefficients:\n",
       "                   Estimate Std. Error t value Pr(>|t|)    \n",
       "(Intercept)        2.787900   0.189516  14.711   <2e-16 ***\n",
       "age                0.054155   0.004147  13.058   <2e-16 ***\n",
       "age.expansion.term 0.039092   0.015609   2.504   0.0126 *  \n",
       "---\n",
       "Signif. codes:  0 '***' 0.001 '**' 0.01 '*' 0.05 '.' 0.1 ' ' 1\n",
       "\n",
       "Residual standard error: 0.8184 on 497 degrees of freedom\n",
       "Multiple R-squared:  0.4389,\tAdjusted R-squared:  0.4367 \n",
       "F-statistic: 194.4 on 2 and 497 DF,  p-value: < 2.2e-16\n"
      ]
     },
     "metadata": {},
     "output_type": "display_data"
    },
    {
     "data": {
      "image/png": "[encoded data removed]",
      "text/plain": [
       "plot without title"
      ]
     },
     "metadata": {},
     "output_type": "display_data"
    }
   ],
   "source": [
    "age.expansion.term <- (age >= 60)*(age-60)\n",
    "model <- lm(y ~ age + age.expansion.term)\n",
    "summary(model)\n",
    "\n",
    "plot(age, y)\n",
    "grid <- seq(15, 90, length.out = 5000)\n",
    "grid.transformed <- (grid >= 60)*(grid - 60)\n",
    "y.hat <- model$coefficients[1] + model$coefficients[2]*grid + model$coefficients[3]*grid.transformed\n",
    "lines(grid, y.hat, col = 'red', lwd=4)"
   ]
  },
  {
   "cell_type": "markdown",
   "id": "59127c3d-c8bb-4975-9928-f0afbae6ea6c",
   "metadata": {},
   "source": [
    "As we can see, the coefficient associated with the new term is significant, which supports the conclusion that the kink in the function above represents a real effect."
   ]
  },
  {
   "cell_type": "markdown",
   "id": "1cdce10f-c371-467e-a189-3515ac56a945",
   "metadata": {},
   "source": [
    "# Relaxing Assumptions\n",
    "\n",
    "The estimates that we get from R when we use the lm function are called the OLS estimates, short for ordinary least squares.  OLS is an optimal estimator corresponding to the basic linear model we described.  In each header, we give a number of ways the basic linear model corresponding to the OLS estimator may be violated in practice; this is followed by some known extensions of the linear model or fixes.\n",
    "\n",
    "### Non-Normal Residuals\n",
    "This is the easiest assumption to fix.  If you have enough data, it doesn't matter!  The CLT kicks in and OLS works correctly.  However, residuals must always be centered at 0 for every level of $x$.\n",
    "\n",
    "One note of caution - what it means for your data to be \"large enough\" can be very different in a regression context.  The more predictors you have, the more data you need to be \"large enough\", and this relationship can grow exponentially.  So best practice is to try to keep your models relatively parsimonious if you're trying to do inference over coefficients and not dealing with big data. \n",
    "\n",
    "### Heteroskedasticity\n",
    "\n",
    "Heteroskedasticity refers to when the basic linear model is violated due to there not being a common standard deviation for every level of $x$.  Different levels of $x$ have different amounts of variation.\n",
    "\n",
    "The first method to fix this is to apply some *variance-stabilizing transformation* to $y$ to make the standard deviation look more uniform across levels of $x$.  However, this can mess up the units of $y$ and make things less interpretable.  \n",
    "\n",
    "A second solution is to just use OLS as usual.  In this case, our coefficient estimates are still correct in the sense that they are *unbiased*, i.e. their distributions are correctly centered around the true values.  However, your standard errors, p-values, etc... will be wrong.  We fix this by using *robust* aka \"Huber-White\" standard error formulas, which are available in packages.  These will inflate your standard errors from the values the lm function gives you and will typically be overly conservative.\n",
    "\n",
    "A third and best solution is to directly use a probability model that allows for heteroskedasticity.  WLS, short for weighted least squares, is an estimator for the heteroskedastic linear model. If you want to accomodate heteroskedasticity in this way, talk to your local statistician about using two-stage WLS.\n",
    "\n",
    "### Model Misspecification\n",
    "\n",
    "Let's say you have evidence that the form of your linear equation is wrong, maybe through plotting or something.  Something like the example I gave before where the data had an exponential trend, but I fit it with a straight line. You are no longer allowed to interpret your coefficients as the effect of an independent variable on the true mean; now, you are only estimating the coefficient associated with the best possible linear equation that could fit the data. This is a much weaker claim.\n",
    "\n",
    "You can still get correct confidence intervals for this by using robust standard errors, like described in the previous section.\n",
    "\n",
    "Typically, try to avoid model misspecification if you can by adding new variables to your model or using some of the basis expansion techniques that we've talked about.\n",
    "\n",
    "### Different Outcome Types\n",
    "Suppose you have binary outcome data.  Or count outcome data?  Or time-to-event data?  How might we extend the linear model to account for these?  This will be the goal of the next session, so more to come!  We will discuss generalized linear models and linear survival models.\n",
    "\n",
    "\n",
    "### Non-independence\n",
    "The rows in your data can be correlated through various reasons.  Two common reasons are time-series data or more generally clustered data, such as when you have multiple data points within a classroom and your dataset contains multiple classrooms' data.\n",
    "\n",
    "For time-series, there are a hierarchy of linear models that have been developed.  Auto-regressive (AR) and moving-average (MA) models are two basic types of linear models.  These can be combined to form ARMA models.  These can be extended to form ARIMA.  The extensions continue in many directions.\n",
    "\n",
    "For more generally clustered data, we typically rely on linear mixed-effects (LME) models or generalized estimating equation (GEE) models.  I prefer the latter for its robustness: data can be of various outcome types, residuals can have an arbitrary distribution as long the mean is 0, correlation within a cluster can be arbitrary, and model fitting is computationally fast.  Note that if you have many related time-series (like admission-to-discharge data for many patients in the hospital), you might use this kind of approach rather than traditional time-series models."
   ]
  },
  {
   "cell_type": "code",
   "execution_count": null,
   "id": "ad421767-cf97-4ad9-bebd-43e44efd503c",
   "metadata": {},
   "outputs": [],
   "source": []
  }
 ],
 "metadata": {
  "kernelspec": {
   "display_name": "R",
   "language": "R",
   "name": "ir"
  },
  "language_info": {
   "codemirror_mode": "r",
   "file_extension": ".r",
   "mimetype": "text/x-r-source",
   "name": "R",
   "pygments_lexer": "r",
   "version": "4.1.3"
  }
 },
 "nbformat": 4,
 "nbformat_minor": 5
}
