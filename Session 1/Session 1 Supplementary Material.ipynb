{
 "cells": [
  {
   "cell_type": "markdown",
   "id": "a8a7f549-bb7f-41c9-822b-2b20b0ad2807",
   "metadata": {},
   "source": [
    "Dates"
   ]
  },
  {
   "cell_type": "markdown",
   "id": "867de83d-24fd-4fc0-8034-9a6746cbc453",
   "metadata": {},
   "source": [
    "Writing Custom Functions"
   ]
  },
  {
   "cell_type": "markdown",
   "id": "189f9d47-71f2-4c7f-9ff6-0b7153974eac",
   "metadata": {},
   "source": [
    "Control FLow"
   ]
  },
  {
   "cell_type": "markdown",
   "id": "38c19d17",
   "metadata": {},
   "source": [
    "# Nullable Data Types\n",
    "There are only a few nullable data types we have to consider in R:\n",
    "- NULL\n",
    "\n",
    "Don't worry about this one too much.  It's just a special keyword for \"there is no data here\".  Not that it's necessarily missing but rather \"this variable name isn't tied to any data (yet)\".\n",
    "\n",
    "- NA\n",
    "\n",
    "This stands for \"Not Available\".  This will be our stand-in value for missing data, and you may encounter this quite frequently in real medical data.\n",
    "\n",
    "- Inf and -Inf\n",
    "\n",
    "It is usually the result of an explicit mathematical error on your part or a numerical instability that implicitly leads to the mathematical error.  Don't worry too much about what the implicit part means.  Focus on the explicit and don't divide by 0.\n",
    "\n",
    "- NaN \n",
    "\n",
    "\n",
    "This stands for \"Not a Number\".  This is usually the result of a mathematical error or numerical instability like with Inf."
   ]
  },
  {
   "cell_type": "code",
   "execution_count": null,
   "id": "a65d1235",
   "metadata": {},
   "outputs": [],
   "source": [
    "0/0\n",
    "1/0\n",
    "-1/0\n",
    "sum(3, 2, NA, 5)"
   ]
  },
  {
   "cell_type": "markdown",
   "id": "cf7a4ed3",
   "metadata": {},
   "source": [
    "Recall that \"na.rm = FALSE\" is the default for this named argument.  If we set the argument to TRUE, the function will remove all NA and NaN values before computing the sum:"
   ]
  },
  {
   "cell_type": "code",
   "execution_count": null,
   "id": "a2cd2818",
   "metadata": {},
   "outputs": [],
   "source": [
    "sum(3, 2, NA, 5, na.rm = TRUE)"
   ]
  },
  {
   "cell_type": "markdown",
   "id": "539bcd2a",
   "metadata": {},
   "source": [
    "# Basic Character/String Operations\n",
    "We will cover 4 types of string operations\n",
    "- capitalizations\n",
    "- substring selection and replacement\n",
    "- string search\n",
    "- concatenations\n",
    "\n",
    "But first, a handy function!"
   ]
  },
  {
   "cell_type": "code",
   "execution_count": 2,
   "id": "bdd45e10",
   "metadata": {},
   "outputs": [
    {
     "data": {
      "text/html": [
       "44"
      ],
      "text/latex": [
       "44"
      ],
      "text/markdown": [
       "44"
      ],
      "text/plain": [
       "[1] 44"
      ]
     },
     "metadata": {},
     "output_type": "display_data"
    }
   ],
   "source": [
    "nchar(\"I am a looooooooooooooooonnnnnnngggggggg boi\")"
   ]
  },
  {
   "cell_type": "markdown",
   "id": "2b4984a1",
   "metadata": {},
   "source": [
    "### Capitalizations"
   ]
  },
  {
   "cell_type": "code",
   "execution_count": 3,
   "id": "0ca06ef8",
   "metadata": {},
   "outputs": [
    {
     "data": {
      "text/html": [
       "'IM NOT SCREAMING. UR SCREAMING'"
      ],
      "text/latex": [
       "'IM NOT SCREAMING. UR SCREAMING'"
      ],
      "text/markdown": [
       "'IM NOT SCREAMING. UR SCREAMING'"
      ],
      "text/plain": [
       "[1] \"IM NOT SCREAMING. UR SCREAMING\""
      ]
     },
     "metadata": {},
     "output_type": "display_data"
    },
    {
     "data": {
      "text/html": [
       "'woah chill out dude'"
      ],
      "text/latex": [
       "'woah chill out dude'"
      ],
      "text/markdown": [
       "'woah chill out dude'"
      ],
      "text/plain": [
       "[1] \"woah chill out dude\""
      ]
     },
     "metadata": {},
     "output_type": "display_data"
    }
   ],
   "source": [
    "toupper(\"im not screaming. ur screaming\")\n",
    "tolower(\"WOAH CHILL OUT DUDE\")"
   ]
  },
  {
   "cell_type": "markdown",
   "id": "96559136",
   "metadata": {},
   "source": [
    "These are often useful if you get a dataset where someone's annoyingly decided to capitalize everything.  Or if you get a variable with mixed capitalization, and you need to make things uniform.  For example,"
   ]
  },
  {
   "cell_type": "code",
   "execution_count": 4,
   "id": "dbeaa35e",
   "metadata": {},
   "outputs": [
    {
     "data": {
      "text/html": [
       "FALSE"
      ],
      "text/latex": [
       "FALSE"
      ],
      "text/markdown": [
       "FALSE"
      ],
      "text/plain": [
       "[1] FALSE"
      ]
     },
     "metadata": {},
     "output_type": "display_data"
    }
   ],
   "source": [
    "sex1 <- 'female'\n",
    "sex2 <- 'Female'\n",
    "sex1 == sex2"
   ]
  },
  {
   "cell_type": "markdown",
   "id": "99eef5cd",
   "metadata": {},
   "source": [
    "but"
   ]
  },
  {
   "cell_type": "code",
   "execution_count": 5,
   "id": "b0e7aac7",
   "metadata": {},
   "outputs": [
    {
     "data": {
      "text/html": [
       "TRUE"
      ],
      "text/latex": [
       "TRUE"
      ],
      "text/markdown": [
       "TRUE"
      ],
      "text/plain": [
       "[1] TRUE"
      ]
     },
     "metadata": {},
     "output_type": "display_data"
    }
   ],
   "source": [
    "tolower(sex1) == tolower(sex2)"
   ]
  },
  {
   "cell_type": "markdown",
   "id": "6423aef3",
   "metadata": {},
   "source": [
    "### Substring Selection & Replacment\n",
    "Substring selection is fairly simple - just specify the start and stop indices of the substring you want to extract."
   ]
  },
  {
   "cell_type": "code",
   "execution_count": null,
   "id": "51175128",
   "metadata": {},
   "outputs": [],
   "source": [
    "substr(\"I never really understood this candlejack meme or whatever. It must be from like 2007 or something, idk.\", 1, 53)"
   ]
  },
  {
   "cell_type": "markdown",
   "id": "d7d19be9",
   "metadata": {},
   "source": [
    "Substring replacement is done the exact same way.  Except now, the substring goes on the *left* side of the assignment operator.  R will know only to replace the substring you specify with whatever string is on the *right* side of the assignment operator."
   ]
  },
  {
   "cell_type": "code",
   "execution_count": null,
   "id": "eb613e7d",
   "metadata": {},
   "outputs": [],
   "source": [
    "x <- \"yoooo dudeee - that was dummyyyyy sickkkkkkk\"\n",
    "substr(x, 1, 12) <- \"good day sir\"\n",
    "substr(x, 25, nchar(x)) <- 'adept and proficient'\n",
    "x"
   ]
  },
  {
   "cell_type": "markdown",
   "id": "2fb784c7",
   "metadata": {},
   "source": [
    "However, a large limitation of doing string replacement that way is that whatever's on the right side has to the exact same length (you can test with the \"nchar\" function) as the substring on the left.  You can get around this by instead using the \"gsub\" function.  This instead performs a **search** and replaces any matches with a string of any length that you provide it."
   ]
  },
  {
   "cell_type": "code",
   "execution_count": null,
   "id": "4631ddb0",
   "metadata": {},
   "outputs": [],
   "source": [
    "gsub(\"good day sir\", \"my guy\", x)"
   ]
  },
  {
   "cell_type": "markdown",
   "id": "ced582e4",
   "metadata": {},
   "source": [
    "### String Search\n",
    "The \"gsub\" function provides one way to do string search, but then automatically does a string replacement after.  What if we only want to do the search and just get a logical returned to us if we have a match?  Then we use the \"grepl\" function."
   ]
  },
  {
   "cell_type": "code",
   "execution_count": null,
   "id": "c480cdd6",
   "metadata": {},
   "outputs": [],
   "source": [
    "bob.quote <- \"A lot of people are turned off by the phrase ‘flat earth’ ... but there’s no way u can see all the evidence and not know... grow up... No matter how high in elevation you are... the horizon is always eye level ... sorry cadets... I didn’t wanna believe it either...Have u been to the edge ? or is that what your science book told you?\"\n",
    "bob.quote"
   ]
  },
  {
   "cell_type": "code",
   "execution_count": null,
   "id": "8d56a43a",
   "metadata": {},
   "outputs": [],
   "source": [
    "smart.rapper <- !grepl(\"flat earth\", bob.quote)\n",
    "smart.rapper"
   ]
  },
  {
   "cell_type": "markdown",
   "id": "29276cf9",
   "metadata": {},
   "source": [
    "Note that \"grepl\" can take regular expressions as its search argument.  If you don't know what this means, just ignore it.  But effectively, regular expressions are a common syntax over all programming languages that allow for extremely general and/or flexible search/matching conditions.  They're often times very useful for parsing or cleaning clinical notes or other medical free text."
   ]
  },
  {
   "cell_type": "markdown",
   "id": "d72b54da",
   "metadata": {},
   "source": [
    "### Sequences & Repetitions\n",
    "A sequence vector is a set of ordered numbers with pre-defined spacing in betwen them.  The default spacing is 1. "
   ]
  },
  {
   "cell_type": "code",
   "execution_count": null,
   "id": "ba4adf4d",
   "metadata": {},
   "outputs": [],
   "source": [
    "seq(3, 11)"
   ]
  },
  {
   "cell_type": "markdown",
   "id": "0173d99b",
   "metadata": {},
   "source": [
    "R provides some syntactical sugar for this, since it is so common."
   ]
  },
  {
   "cell_type": "code",
   "execution_count": null,
   "id": "883518bb",
   "metadata": {},
   "outputs": [],
   "source": [
    "3:11"
   ]
  },
  {
   "cell_type": "markdown",
   "id": "905bd6c9",
   "metadata": {},
   "source": [
    "However, we can also specify the spacing manually.  Alternatively, we can specify how many elements we want the vector to be and have R automatically infer the correct spacing."
   ]
  },
  {
   "cell_type": "code",
   "execution_count": null,
   "id": "e86feb01",
   "metadata": {},
   "outputs": [],
   "source": [
    "seq(3, 11, by = 2)\n",
    "seq(3, 11, length.out = 5)"
   ]
  },
  {
   "cell_type": "markdown",
   "id": "dfeca54d",
   "metadata": {},
   "source": [
    "We can also repeat a single datum or a vector of data multiple times to form a larger vector."
   ]
  },
  {
   "cell_type": "code",
   "execution_count": null,
   "id": "a678a536",
   "metadata": {},
   "outputs": [],
   "source": [
    "rep(2022, 10)\n",
    "rep(c(\"low\", \"medium\", \"high\"), 5)"
   ]
  },
  {
   "cell_type": "markdown",
   "id": "4ea240fc",
   "metadata": {},
   "source": [
    "### Sorting\n",
    "\n",
    "Sorting is one of the most common operations in all of programming.  The list of indices that would sort a vector in ascending order is given by"
   ]
  },
  {
   "cell_type": "code",
   "execution_count": null,
   "id": "dcbe2c2a",
   "metadata": {},
   "outputs": [],
   "source": [
    "x <- c(1.2, 0.1, 0.7)\n",
    "order(x)"
   ]
  },
  {
   "cell_type": "markdown",
   "id": "4a8fca04",
   "metadata": {},
   "source": [
    "We can then use this vector to index \"x\".   Since"
   ]
  },
  {
   "cell_type": "code",
   "execution_count": null,
   "id": "f446b5c1",
   "metadata": {},
   "outputs": [],
   "source": [
    "length(order(x)) == length(x)"
   ]
  },
  {
   "cell_type": "markdown",
   "id": "4e5393d1",
   "metadata": {},
   "source": [
    ", we know that the length of the output will simply be the length of our original \"x\".  However, now the order of the elements will be rearranged:"
   ]
  },
  {
   "cell_type": "code",
   "execution_count": null,
   "id": "0a240917",
   "metadata": {},
   "outputs": [],
   "source": [
    "x[order(x)] # x[c(2, 3, 1)]"
   ]
  },
  {
   "cell_type": "markdown",
   "id": "b0d73734",
   "metadata": {},
   "source": [
    "Another example of why typed data is so important is that it allows us to correctly sort Dates.  Suppose we had the following character vectors."
   ]
  },
  {
   "cell_type": "code",
   "execution_count": null,
   "id": "e2a2fea1",
   "metadata": {},
   "outputs": [],
   "source": [
    "x <- c('10/03/2011', '11/05/2005', '03/28/2007')\n",
    "x[order(x)]"
   ]
  },
  {
   "cell_type": "markdown",
   "id": "f6605dc8",
   "metadata": {},
   "source": [
    "They were sorted in alphanumeric order!  But we wanted chronological order.  Luckily, if x's elements were of type Date, R would know to sort them just that way."
   ]
  },
  {
   "cell_type": "code",
   "execution_count": null,
   "id": "326ce7cf",
   "metadata": {},
   "outputs": [],
   "source": [
    "x <- as.Date(x, format = \"%m/%d/%Y\")\n",
    "x[order(x)]"
   ]
  },
  {
   "cell_type": "markdown",
   "id": "dd57bcb0",
   "metadata": {},
   "source": [
    "### Concatenation &  Insertion\n",
    "\n",
    "It is extremely easy to concatenate two vectors together or extend them.  Just wrap them together using the \"c\" syntax."
   ]
  },
  {
   "cell_type": "code",
   "execution_count": null,
   "id": "2ceabf74",
   "metadata": {},
   "outputs": [],
   "source": [
    "x <- 1:3\n",
    "y <- 4:7\n",
    "c(x, y)"
   ]
  },
  {
   "cell_type": "markdown",
   "id": "5f96313c",
   "metadata": {},
   "source": [
    "Since vectors can only be basic data types, R knows that you are not trying to create a length-2 vector with x as element 1 and y as element 2.  Instead, it flattens x and y out into one single vector.\n",
    "\n",
    "You can even append elements directly rather than having to join two vectors."
   ]
  },
  {
   "cell_type": "code",
   "execution_count": null,
   "id": "8148faae",
   "metadata": {},
   "outputs": [],
   "source": [
    "c(0.5, x, 3.5)"
   ]
  },
  {
   "cell_type": "markdown",
   "id": "f80cf7b3",
   "metadata": {},
   "source": [
    "Pop quiz? What do you think would be the output of the \"class\" function on the vector output above? \"x\" by itself refers to an integer vector."
   ]
  },
  {
   "cell_type": "markdown",
   "id": "c4643126",
   "metadata": {},
   "source": [
    "If you'd like to insert a new element (or vector) in the middle of another vector, use the append function."
   ]
  },
  {
   "cell_type": "code",
   "execution_count": null,
   "id": "2825c550",
   "metadata": {},
   "outputs": [],
   "source": [
    "append(x, c(2.25, 2.5, 2.75), after = 2)"
   ]
  },
  {
   "cell_type": "markdown",
   "id": "c11b29e3",
   "metadata": {},
   "source": [
    "### Vector Initialization\n",
    "We showed how you could initialize a vector directly with data, such as"
   ]
  },
  {
   "cell_type": "code",
   "execution_count": null,
   "id": "70931761",
   "metadata": {},
   "outputs": [],
   "source": [
    "x <- c(1, 4, 9, 16, 25)\n",
    "x"
   ]
  },
  {
   "cell_type": "markdown",
   "id": "29a01f73",
   "metadata": {},
   "source": [
    "However, sometimes you'd like to *preallocate* space for the data you're going to need and fill in the data later.  We can initialize our vectors with dummy values and then replace them once we are ready to fill in the appropriate data.  Vectors need to be given 2 arguments: their data type and their length."
   ]
  },
  {
   "cell_type": "code",
   "execution_count": null,
   "id": "315057b4",
   "metadata": {},
   "outputs": [],
   "source": [
    "x <- vector(mode = \"logical\", length = 6)\n",
    "x"
   ]
  },
  {
   "cell_type": "markdown",
   "id": "a2822bce",
   "metadata": {},
   "source": [
    "As syntactical sugar, R gives us some extra functions for vector initialization where you only need to provide the length:"
   ]
  },
  {
   "cell_type": "code",
   "execution_count": null,
   "id": "3075de61",
   "metadata": {},
   "outputs": [],
   "source": [
    "character(3)\n",
    "numeric(3)\n",
    "integer(3)\n",
    "logical(3)"
   ]
  },
  {
   "cell_type": "markdown",
   "id": "8d507b37-2d9e-47b7-8f4e-005e70346114",
   "metadata": {},
   "source": [
    "Get/Set syntactical sugar:\n",
    "\n",
    "is really just short form for some sort of **get** function that dives into the vector you give it, extracts the 3rd element, and finally returns it to you.  You can imagine in functional notation it might look something like this: get(death.dates, index = 3).  The takeaway here is that indexing is really just a type of function call.\n",
    "\n",
    "R is quite nice and provides several way of specifying which elements we want to extract."
   ]
  },
  {
   "cell_type": "markdown",
   "id": "4beabef2-1ed6-4571-bd94-6991163c20fa",
   "metadata": {},
   "source": [
    "### Data Replacement\n",
    "Once you know how to specify which elements from a vector you want to hone in on, you can then modify those elements however you please.  Say the data was recorded incorectly for Vicky.  We can fix this as follows"
   ]
  },
  {
   "cell_type": "code",
   "execution_count": 1,
   "id": "060a0b02-491c-4cb2-ad0b-d8705490631b",
   "metadata": {},
   "outputs": [
    {
     "data": {
      "text/html": [
       "<strong>Vicky:</strong> 2017"
      ],
      "text/latex": [
       "\\textbf{Vicky:} 2017"
      ],
      "text/markdown": [
       "**Vicky:** 2017"
      ],
      "text/plain": [
       "Vicky \n",
       " 2017 "
      ]
     },
     "metadata": {},
     "output_type": "display_data"
    }
   ],
   "source": [
    "death.dates <- c(Wanda = 2022L, Cosmo = 2015L, Timmy = 2017L, \n",
    "                 Vicky = 2020L, \"Mr. Crocker\" = 2019L)\n",
    "death.dates['Vicky'] <- 2017L\n",
    "death.dates['Vicky']"
   ]
  },
  {
   "cell_type": "markdown",
   "id": "ad734751-3f35-4c1b-9875-9d976fa77656",
   "metadata": {},
   "source": [
    "We could similarly modify multiple values at a time.  "
   ]
  },
  {
   "cell_type": "code",
   "execution_count": 2,
   "id": "2c6389cd-f9e0-4e31-acb9-7aad03d484c3",
   "metadata": {},
   "outputs": [
    {
     "data": {
      "text/html": [
       "<dl class=dl-horizontal>\n",
       "\t<dt>Timmy</dt>\n",
       "\t\t<dd>2016</dd>\n",
       "\t<dt>Mr.Crocker</dt>\n",
       "\t\t<dd>2014</dd>\n",
       "</dl>\n"
      ],
      "text/latex": [
       "\\begin{description*}\n",
       "\\item[Timmy] 2016\n",
       "\\item[Mr.Crocker] 2014\n",
       "\\end{description*}\n"
      ],
      "text/markdown": [
       "Timmy\n",
       ":   2016Mr.Crocker\n",
       ":   2014\n",
       "\n"
      ],
      "text/plain": [
       "     Timmy Mr.Crocker \n",
       "      2016       2014 "
      ]
     },
     "metadata": {},
     "output_type": "display_data"
    }
   ],
   "source": [
    "death.dates[c(\"Timmy\", \"Mr.Crocker\")] <- c(2016L, 2014L)\n",
    "death.dates[c(\"Timmy\", \"Mr.Crocker\")]"
   ]
  },
  {
   "cell_type": "code",
   "execution_count": null,
   "id": "d9369f63-51d9-4913-bbec-1dc5034a00f1",
   "metadata": {},
   "outputs": [],
   "source": []
  },
  {
   "cell_type": "code",
   "execution_count": null,
   "id": "2245edd9-2c16-4b9f-b609-d3b9925419d7",
   "metadata": {},
   "outputs": [],
   "source": []
  },
  {
   "cell_type": "markdown",
   "id": "46fa8ae7-1c28-47be-a961-1fae0b7f0c33",
   "metadata": {},
   "source": [
    "Lists can be concatenated using the same syntax as with vectors."
   ]
  },
  {
   "cell_type": "code",
   "execution_count": null,
   "id": "6de0ece6",
   "metadata": {},
   "outputs": [],
   "source": [
    "adi.extra <- list(fav.sports = c(\"swimming\", \"soccer\", \"squash\"), age = 28)\n",
    "c(adi, adi.extra)"
   ]
  },
  {
   "cell_type": "markdown",
   "id": "cb327bbe-10eb-40b3-a41c-16a68bd14cce",
   "metadata": {},
   "source": [
    "If we wanted to make nested lists, we would use the following syntax:"
   ]
  },
  {
   "cell_type": "code",
   "execution_count": null,
   "id": "ecb8861f",
   "metadata": {},
   "outputs": [],
   "source": [
    "list(adi, adi.extra)"
   ]
  },
  {
   "cell_type": "markdown",
   "id": "f4554242-6f9c-4e51-95e4-5fa46795e29c",
   "metadata": {},
   "source": [
    "Lists can also be preallocated using the same synatx as vectors.  However, note that the syntax is a little deceptive, since a list is fundamentally a different data structure than a vector.  "
   ]
  },
  {
   "cell_type": "code",
   "execution_count": null,
   "id": "0eae2dc0",
   "metadata": {},
   "outputs": [],
   "source": [
    "x <- vector(mode = \"list\", length = 5)\n",
    "x "
   ]
  }
 ],
 "metadata": {
  "kernelspec": {
   "display_name": "R",
   "language": "R",
   "name": "ir"
  },
  "language_info": {
   "codemirror_mode": "r",
   "file_extension": ".r",
   "mimetype": "text/x-r-source",
   "name": "R",
   "pygments_lexer": "r",
   "version": "3.6.1"
  }
 },
 "nbformat": 4,
 "nbformat_minor": 5
}
