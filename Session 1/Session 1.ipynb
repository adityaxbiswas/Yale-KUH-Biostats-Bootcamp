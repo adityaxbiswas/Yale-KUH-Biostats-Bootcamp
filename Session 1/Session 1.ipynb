{
 "cells": [
  {
   "cell_type": "markdown",
   "id": "991fda91",
   "metadata": {},
   "source": [
    "# Basics\n",
    "## Variables & Functions\n",
    "\n",
    "We assign **data** to a **variable name** using the **assignment** operator."
   ]
  },
  {
   "cell_type": "code",
   "execution_count": 1,
   "id": "dd5c28c7",
   "metadata": {},
   "outputs": [],
   "source": [
    "x <- 3.14"
   ]
  },
  {
   "cell_type": "markdown",
   "id": "bc575312",
   "metadata": {},
   "source": [
    "Now, we say that the name \"x\" references a location in the computer's memory where the numbers 3.14 is stored. We can thus use this name to allow the computer to retrieve this information at any time. "
   ]
  },
  {
   "cell_type": "code",
   "execution_count": 2,
   "id": "e579969b",
   "metadata": {},
   "outputs": [
    {
     "data": {
      "text/html": [
       "3.14"
      ],
      "text/latex": [
       "3.14"
      ],
      "text/markdown": [
       "3.14"
      ],
      "text/plain": [
       "[1] 3.14"
      ]
     },
     "metadata": {},
     "output_type": "display_data"
    }
   ],
   "source": [
    "x"
   ]
  },
  {
   "cell_type": "markdown",
   "id": "1feeef81",
   "metadata": {},
   "source": [
    "In other words, you have added \"x\" to R's **namespace**.  The namespace effectively is a list of everything you could type into the **console**, and R would know exactly what you're referencing. (The grey boxes effectively act as *my* console here.)  When you open R, a large number of common variable and **function** names automatically get added to the namespace; these can be thought of as built into **base R**.  We will discuss functions in more detail shortly, but in short, you can think of functions as little black-boxes that can take in variables and automatically perform certain computational tasks for you.  As a first example, we will look at the round function:"
   ]
  },
  {
   "cell_type": "code",
   "execution_count": 3,
   "id": "8256bad3",
   "metadata": {},
   "outputs": [
    {
     "data": {
      "text/html": [
       "3"
      ],
      "text/latex": [
       "3"
      ],
      "text/markdown": [
       "3"
      ],
      "text/plain": [
       "[1] 3"
      ]
     },
     "metadata": {},
     "output_type": "display_data"
    }
   ],
   "source": [
    "round(x)"
   ]
  },
  {
   "cell_type": "markdown",
   "id": "2ca85362",
   "metadata": {},
   "source": [
    "Other variables names included in base R are common mathematical constants:"
   ]
  },
  {
   "cell_type": "code",
   "execution_count": 4,
   "id": "598a7aad",
   "metadata": {},
   "outputs": [
    {
     "data": {
      "text/html": [
       "3.14159265358979"
      ],
      "text/latex": [
       "3.14159265358979"
      ],
      "text/markdown": [
       "3.14159265358979"
      ],
      "text/plain": [
       "[1] 3.141593"
      ]
     },
     "metadata": {},
     "output_type": "display_data"
    }
   ],
   "source": [
    "pi"
   ]
  },
  {
   "cell_type": "markdown",
   "id": "db6fa460",
   "metadata": {},
   "source": [
    "Any variables or functions that *you* declare should show up in your **environment** tab in Rstudio, along with a preview of their associated data.  Try declaring a variable in your console and watch it show up in your environment tab.\n",
    "\n",
    "There are certain protected keywords in R, which are not allowed to be used as variable names, which you can just look up."
   ]
  },
  {
   "cell_type": "markdown",
   "id": "ae618c34",
   "metadata": {},
   "source": [
    "When naming variables, we are allowed to use 2 special characters apart from alphanumerics:\n",
    "- a period: \".\"\n",
    "- an underscore: \"_\"\n",
    "\n",
    "Variable names should be detailed and specific to make code readable and interpretable.  For example, the name \"x\" given above is pretty bad.  But we will continue to use bad names throughout this tutorial for convenience.  Here are three naming conventions for descriptive variables."
   ]
  },
  {
   "cell_type": "code",
   "execution_count": 5,
   "id": "46505017",
   "metadata": {},
   "outputs": [],
   "source": [
    "my.descriptive.variable.name <- 0\n",
    "my_descriptive_variable_name <- 0\n",
    "myDescriptiveVariableName <- 0"
   ]
  },
  {
   "cell_type": "markdown",
   "id": "ab684ac3",
   "metadata": {},
   "source": [
    "Specific naming also helps prevent you from accidentally overwriting some key functionalities of R which are not formally protected. Base R already provides a very useful function named \"mean\", and so when you open R, the function name \"mean\" already exists in the namespace.  If you assigned the mean of a bunch of age data to the non-descriptive variable name \"mean\", you would overwrite base R's very useful mean function by associating the name \"mean\" with a numerical value representing the mean of your age data."
   ]
  },
  {
   "cell_type": "markdown",
   "id": "8c6605c1",
   "metadata": {},
   "source": [
    "### Variable Reuse & Deletion\n",
    "If we reassign the name of \"x\" to a new datum, the reference to the original datum will be lost.  "
   ]
  },
  {
   "cell_type": "code",
   "execution_count": 6,
   "id": "649afeca",
   "metadata": {},
   "outputs": [
    {
     "data": {
      "text/html": [
       "923132134"
      ],
      "text/latex": [
       "923132134"
      ],
      "text/markdown": [
       "923132134"
      ],
      "text/plain": [
       "[1] 923132134"
      ]
     },
     "metadata": {},
     "output_type": "display_data"
    }
   ],
   "source": [
    "x <- 923132134\n",
    "x"
   ]
  },
  {
   "cell_type": "markdown",
   "id": "471f90e9",
   "metadata": {},
   "source": [
    "Remember that the right hand side of the assignement operator is evaluated first before the assignment operation is performed.  Can you guess that would be the output of the following?"
   ]
  },
  {
   "cell_type": "code",
   "execution_count": 7,
   "id": "47c2ec14",
   "metadata": {},
   "outputs": [
    {
     "data": {
      "text/html": [
       "6"
      ],
      "text/latex": [
       "6"
      ],
      "text/markdown": [
       "6"
      ],
      "text/plain": [
       "[1] 6"
      ]
     },
     "metadata": {},
     "output_type": "display_data"
    }
   ],
   "source": [
    "x <- 0\n",
    "x <- x + 1\n",
    "x <- x + 2\n",
    "x <- 2*x\n",
    "x"
   ]
  },
  {
   "cell_type": "markdown",
   "id": "48cd67ea",
   "metadata": {},
   "source": [
    "### Variable Deletion & Error Messages\n",
    "Use the \"rm\" function to delete a variable that you no longer want cluttering up your namespace or taking up memory."
   ]
  },
  {
   "cell_type": "code",
   "execution_count": 1,
   "id": "0d088828",
   "metadata": {},
   "outputs": [
    {
     "name": "stderr",
     "output_type": "stream",
     "text": [
      "Warning message in rm(x):\n",
      "\"object 'x' not found\""
     ]
    },
    {
     "ename": "ERROR",
     "evalue": "Error in eval(expr, envir, enclos): object 'x' not found\n",
     "output_type": "error",
     "traceback": [
      "Error in eval(expr, envir, enclos): object 'x' not found\nTraceback:\n"
     ]
    }
   ],
   "source": [
    "rm(x)\n",
    "x"
   ]
  },
  {
   "cell_type": "markdown",
   "id": "215736a9",
   "metadata": {},
   "source": [
    "Now if I tried to use \"x\", R would throw an error, since \"x\" is no longer part of the namespace, so R has no idea what data it might be referring to.  Errors stop the execution of any code on the line of the error (and subsequent lines) in its tracks.  The error should be fixed and the code rerun. **Error messages** are often very informative in showing you exactly where the code is going wrong, which therefore suggests how you should fix it.  Errors are different than **warnings**, which can be ignored if you understand why the warning is firing, and you've decided that you're okay with it.  Unlike errors, warnings will not interrupt the execution of code."
   ]
  },
  {
   "cell_type": "markdown",
   "id": "678cd280",
   "metadata": {},
   "source": [
    "### Comments\n",
    "If you include a # symbol in your code, R actually ignores everything to the right of the #.  This is known as a **comment**.  Comments can be used to \"turn off\" parts of your code or to actually provide natural language commentary on your complicated code to make it more readable!"
   ]
  },
  {
   "cell_type": "code",
   "execution_count": 9,
   "id": "bffa9b68",
   "metadata": {},
   "outputs": [
    {
     "data": {
      "text/html": [
       "5"
      ],
      "text/latex": [
       "5"
      ],
      "text/markdown": [
       "5"
      ],
      "text/plain": [
       "[1] 5"
      ]
     },
     "metadata": {},
     "output_type": "display_data"
    }
   ],
   "source": [
    "# this is actually a code block\n",
    "3 + 2 # see!\n",
    "# but none of the comments are executing!\n",
    "# not that R would be able to interpret them anyway...."
   ]
  },
  {
   "cell_type": "code",
   "execution_count": 10,
   "id": "de8aab54",
   "metadata": {},
   "outputs": [],
   "source": [
    "# x <- 0\n",
    "# x <- x + 2\n",
    "# x"
   ]
  },
  {
   "cell_type": "markdown",
   "id": "1b67b426",
   "metadata": {},
   "source": [
    "## Basic Data Types\n",
    "\n",
    "Every piece of data in R has a type associated with it.  What are the benefits of having **typed** data in computer programs?  There are a myriad of technical reasons from the computer's perspective having to do with memory organization, etc.... But from a more practical standpoint, they allow the computer to understand how to interact with the data or how multiple pieces of data should be allowed to interact.  \n",
    "\n",
    "For example, does it make sense to add 3 and \"cat\"?  Probably not.  But the computer will add 3 and 5 successfully, because it will check the types of 3 and 5 and know that they are allowed to add.  Types provide a sort of \"metadata\" that the computer uses to determine what operations it should be allowed to perform on the data.\n",
    "\n",
    "We will cover 4 out of the 6 basic data types:\n",
    "\n",
    "- Logicals\n",
    "\n",
    "A logical datum can either be TRUE or FALSE.  R accepts the shortcuts T or F as well for convenience.\n",
    "\n",
    "- Numerics\n",
    "\n",
    "A numeric datum is any number that can be represented with a decimal point.  Note this includes something like 3.0\n",
    "\n",
    "- Integers\n",
    "\n",
    "Integers are whole numbers.  They are designated by adding the character \"L\" at the end of the number such as 2L.  \n",
    "\n",
    "- Characters\n",
    "\n",
    "These are known as strings in other languages.  They are demarcated by open/close quotation marks and can take any length sequence of symbols in between the quotation marks such as \"Hello World\". Note that \"3.14\" is not a numeric type but rather a character type due to the presence of quotations.  Single or double quotation marks are both acceptable as long as you're consistent in matching the opening and closing quotation mark. "
   ]
  },
  {
   "cell_type": "code",
   "execution_count": 11,
   "id": "18366142",
   "metadata": {},
   "outputs": [],
   "source": [
    "my.logical <- FALSE\n",
    "my.logical2 <- F\n",
    "my.numeric <- 3.1\n",
    "my.numeric2 <- 2\n",
    "my.integer <- 2L\n",
    "my.character <- \"male\""
   ]
  },
  {
   "cell_type": "markdown",
   "id": "ff6b0986-9671-40e9-b2c6-95cf4846a367",
   "metadata": {},
   "source": [
    "We can identify the type of a variable using R's built in **class** function:"
   ]
  },
  {
   "cell_type": "code",
   "execution_count": 12,
   "id": "d0fedb97-86b7-40b3-833e-4125c95e2df9",
   "metadata": {},
   "outputs": [
    {
     "data": {
      "text/html": [
       "'logical'"
      ],
      "text/latex": [
       "'logical'"
      ],
      "text/markdown": [
       "'logical'"
      ],
      "text/plain": [
       "[1] \"logical\""
      ]
     },
     "metadata": {},
     "output_type": "display_data"
    },
    {
     "data": {
      "text/html": [
       "'logical'"
      ],
      "text/latex": [
       "'logical'"
      ],
      "text/markdown": [
       "'logical'"
      ],
      "text/plain": [
       "[1] \"logical\""
      ]
     },
     "metadata": {},
     "output_type": "display_data"
    },
    {
     "data": {
      "text/html": [
       "'numeric'"
      ],
      "text/latex": [
       "'numeric'"
      ],
      "text/markdown": [
       "'numeric'"
      ],
      "text/plain": [
       "[1] \"numeric\""
      ]
     },
     "metadata": {},
     "output_type": "display_data"
    },
    {
     "data": {
      "text/html": [
       "'numeric'"
      ],
      "text/latex": [
       "'numeric'"
      ],
      "text/markdown": [
       "'numeric'"
      ],
      "text/plain": [
       "[1] \"numeric\""
      ]
     },
     "metadata": {},
     "output_type": "display_data"
    },
    {
     "data": {
      "text/html": [
       "'integer'"
      ],
      "text/latex": [
       "'integer'"
      ],
      "text/markdown": [
       "'integer'"
      ],
      "text/plain": [
       "[1] \"integer\""
      ]
     },
     "metadata": {},
     "output_type": "display_data"
    },
    {
     "data": {
      "text/html": [
       "'character'"
      ],
      "text/latex": [
       "'character'"
      ],
      "text/markdown": [
       "'character'"
      ],
      "text/plain": [
       "[1] \"character\""
      ]
     },
     "metadata": {},
     "output_type": "display_data"
    }
   ],
   "source": [
    "class(my.logical)\n",
    "class(my.logical2)\n",
    "class(my.numeric)\n",
    "class(my.numeric2)\n",
    "class(my.integer)\n",
    "class(my.character)"
   ]
  },
  {
   "cell_type": "markdown",
   "id": "bad5dd0d",
   "metadata": {},
   "source": [
    "### Coercion\n",
    "\n",
    "Coercion is a technique to convert a variable from one data type to another.  Base R has functions that perform many common coercions for you.   All take the form of \"as.\" followed by the data type.  Here are some other examples"
   ]
  },
  {
   "cell_type": "code",
   "execution_count": 13,
   "id": "b5438b23",
   "metadata": {},
   "outputs": [
    {
     "data": {
      "text/html": [
       "31"
      ],
      "text/latex": [
       "31"
      ],
      "text/markdown": [
       "31"
      ],
      "text/plain": [
       "[1] 31"
      ]
     },
     "metadata": {},
     "output_type": "display_data"
    },
    {
     "data": {
      "text/html": [
       "FALSE"
      ],
      "text/latex": [
       "FALSE"
      ],
      "text/markdown": [
       "FALSE"
      ],
      "text/plain": [
       "[1] FALSE"
      ]
     },
     "metadata": {},
     "output_type": "display_data"
    },
    {
     "data": {
      "text/html": [
       "21"
      ],
      "text/latex": [
       "21"
      ],
      "text/markdown": [
       "21"
      ],
      "text/plain": [
       "[1] 21"
      ]
     },
     "metadata": {},
     "output_type": "display_data"
    }
   ],
   "source": [
    "as.numeric(\"31\")\n",
    "as.logical(0)\n",
    "as.integer(21.9)"
   ]
  },
  {
   "cell_type": "markdown",
   "id": "a0a58836",
   "metadata": {},
   "source": [
    "## Functions\n",
    "Functions take anywhere from 0 to an arbitrary number of inputs or **arguments**.  Some arguments are **named**, and many arguments have defaults that we won't touch.\n",
    "Functions can have a number of effects:\n",
    "- return data back to you (such as a modification of one of the arguments you gave it)\n",
    "- print something informative to the console\n",
    "- read (write) a file from (to) disk, such as a dataset stored in an excel file\n",
    "- produce a graphic, such as a scatter plot\n",
    "\n",
    "There are hundreds and hundreds of functions already written for you in base R, and we will make ample use of them.\n",
    "\n",
    "### Syntax\n",
    "\n",
    "The syntax of a **function call** is as follows:\n",
    "- function name\n",
    "- open parentheses\n",
    "- mandatory unnamed arguments, separated by commas\n",
    "- optional named arguments, separated by commas\n",
    "- closed parentheses\n",
    "\n",
    "You can access documentation about a function quickly with the help tool! Type the name of your function with a question mark in front and hit enter! Let's try this with the sum function."
   ]
  },
  {
   "cell_type": "code",
   "execution_count": 2,
   "id": "15c3bddb",
   "metadata": {
    "tags": []
   },
   "outputs": [
    {
     "data": {
      "text/html": [
       "\n",
       "<table width=\"100%\" summary=\"page for sum {base}\"><tr><td>sum {base}</td><td style=\"text-align: right;\">R Documentation</td></tr></table>\n",
       "\n",
       "<h2>Sum of Vector Elements</h2>\n",
       "\n",
       "<h3>Description</h3>\n",
       "\n",
       "<p><code>sum</code> returns the sum of all the values\n",
       "present in its arguments.\n",
       "</p>\n",
       "\n",
       "\n",
       "<h3>Usage</h3>\n",
       "\n",
       "<pre>\n",
       "sum(..., na.rm = FALSE)\n",
       "</pre>\n",
       "\n",
       "\n",
       "<h3>Arguments</h3>\n",
       "\n",
       "<table summary=\"R argblock\">\n",
       "<tr valign=\"top\"><td><code>...</code></td>\n",
       "<td>\n",
       "<p>numeric or complex or logical vectors.</p>\n",
       "</td></tr>\n",
       "<tr valign=\"top\"><td><code>na.rm</code></td>\n",
       "<td>\n",
       "<p>logical.  Should missing values (including <code>NaN</code>) be\n",
       "removed?</p>\n",
       "</td></tr>\n",
       "</table>\n",
       "\n",
       "\n",
       "<h3>Details</h3>\n",
       "\n",
       "<p>This is a generic function: methods can be defined for it\n",
       "directly or via the <code>Summary</code> group generic.\n",
       "For this to work properly, the arguments <code>...</code> should be\n",
       "unnamed, and dispatch is on the first argument.\n",
       "</p>\n",
       "<p>If <code>na.rm</code> is <code>FALSE</code> an <code>NA</code> or <code>NaN</code> value in\n",
       "any of the arguments will cause a value of <code>NA</code> or <code>NaN</code> to\n",
       "be returned, otherwise <code>NA</code> and <code>NaN</code> values are ignored.\n",
       "</p>\n",
       "<p>Logical true values are regarded as one, false values as zero.\n",
       "For historical reasons, <code>NULL</code> is accepted and treated as if it\n",
       "were <code>integer(0)</code>.\n",
       "</p>\n",
       "<p>Loss of accuracy can occur when summing values of different signs:\n",
       "this can even occur for sufficiently long integer inputs if the\n",
       "partial sums would cause integer overflow.  Where possible\n",
       "extended-precision accumulators are used, typically well supported\n",
       "with C99 and newer, but possibly platform-dependent.\n",
       "</p>\n",
       "\n",
       "\n",
       "<h3>Value</h3>\n",
       "\n",
       "<p>The sum.  If all of the <i>M</i> <code>...</code> arguments are of type\n",
       "integer or logical, then the sum is <code>integer</code> when\n",
       "possible and is <code>double</code> otherwise.  Integer overflow should no\n",
       "longer happen since <span style=\"font-family: Courier New, Courier; color: #666666;\"><b>R</b></span> version 3.5.0.\n",
       "For other argument types it is a length-one numeric\n",
       "(<code>double</code>) or complex vector.\n",
       "</p>\n",
       "<p><strong>NB:</strong> the sum of an empty set is zero, by definition.\n",
       "</p>\n",
       "\n",
       "\n",
       "<h3>S4 methods</h3>\n",
       "\n",
       "<p>This is part of the S4 <code>Summary</code>\n",
       "group generic.  Methods for it must use the signature\n",
       "<code>x, ..., na.rm</code>.\n",
       "</p>\n",
       "<p>&lsquo;plotmath&rsquo; for the use of <code>sum</code> in plot annotation.\n",
       "</p>\n",
       "\n",
       "\n",
       "<h3>References</h3>\n",
       "\n",
       "<p>Becker, R. A., Chambers, J. M. and Wilks, A. R. (1988)\n",
       "<em>The New S Language</em>.\n",
       "Wadsworth &amp; Brooks/Cole.\n",
       "</p>\n",
       "\n",
       "\n",
       "<h3>See Also</h3>\n",
       "\n",
       "<p><code>colSums</code> for row and column sums.\n",
       "</p>\n",
       "\n",
       "\n",
       "<h3>Examples</h3>\n",
       "\n",
       "<pre>\n",
       "## Pass a vector to sum, and it will add the elements together.\n",
       "sum(1:5)\n",
       "\n",
       "## Pass several numbers to sum, and it also adds the elements.\n",
       "sum(1, 2, 3, 4, 5)\n",
       "\n",
       "## In fact, you can pass vectors into several arguments, and everything gets added.\n",
       "sum(1:2, 3:5)\n",
       "\n",
       "## If there are missing values, the sum is unknown, i.e., also missing, ....\n",
       "sum(1:5, NA)\n",
       "## ... unless  we exclude missing values explicitly:\n",
       "sum(1:5, NA, na.rm = TRUE)\n",
       "</pre>\n",
       "\n",
       "<hr /><div style=\"text-align: center;\">[Package <em>base</em> version 3.6.1 ]</div>"
      ],
      "text/latex": [
       "\\inputencoding{utf8}\n",
       "\\HeaderA{sum}{Sum of Vector Elements}{sum}\n",
       "\\keyword{arith}{sum}\n",
       "%\n",
       "\\begin{Description}\\relax\n",
       "\\code{sum} returns the sum of all the values\n",
       "present in its arguments.\n",
       "\\end{Description}\n",
       "%\n",
       "\\begin{Usage}\n",
       "\\begin{verbatim}\n",
       "sum(..., na.rm = FALSE)\n",
       "\\end{verbatim}\n",
       "\\end{Usage}\n",
       "%\n",
       "\\begin{Arguments}\n",
       "\\begin{ldescription}\n",
       "\\item[\\code{...}] numeric or complex or logical vectors.\n",
       "\\item[\\code{na.rm}] logical.  Should missing values (including \\code{NaN}) be\n",
       "removed?\n",
       "\\end{ldescription}\n",
       "\\end{Arguments}\n",
       "%\n",
       "\\begin{Details}\\relax\n",
       "This is a generic function: methods can be defined for it\n",
       "directly or via the \\code{\\LinkA{Summary}{S3groupGeneric}} group generic.\n",
       "For this to work properly, the arguments \\code{...} should be\n",
       "unnamed, and dispatch is on the first argument.\n",
       "\n",
       "If \\code{na.rm} is \\code{FALSE} an \\code{NA} or \\code{NaN} value in\n",
       "any of the arguments will cause a value of \\code{NA} or \\code{NaN} to\n",
       "be returned, otherwise \\code{NA} and \\code{NaN} values are ignored.\n",
       "\n",
       "Logical true values are regarded as one, false values as zero.\n",
       "For historical reasons, \\code{NULL} is accepted and treated as if it\n",
       "were \\code{integer(0)}.\n",
       "\n",
       "Loss of accuracy can occur when summing values of different signs:\n",
       "this can even occur for sufficiently long integer inputs if the\n",
       "partial sums would cause integer overflow.  Where possible\n",
       "extended-precision accumulators are used, typically well supported\n",
       "with C99 and newer, but possibly platform-dependent.\n",
       "\\end{Details}\n",
       "%\n",
       "\\begin{Value}\n",
       "The sum.  If all of the \\eqn{M}{} \\code{...} arguments are of type\n",
       "integer or logical, then the sum is \\code{\\LinkA{integer}{integer}} when\n",
       "possible and is \\code{double} otherwise.  Integer overflow should no\n",
       "longer happen since \\R{} version 3.5.0.\n",
       "For other argument types it is a length-one numeric\n",
       "(\\code{\\LinkA{double}{double}}) or complex vector.\n",
       "\n",
       "\\strong{NB:} the sum of an empty set is zero, by definition.\n",
       "\\end{Value}\n",
       "%\n",
       "\\begin{Section}{S4 methods}\n",
       "This is part of the S4 \\code{\\LinkA{Summary}{S4groupGeneric}}\n",
       "group generic.  Methods for it must use the signature\n",
       "\\code{x, ..., na.rm}.\n",
       "\n",
       "`\\LinkA{plotmath}{plotmath}' for the use of \\code{sum} in plot annotation.\n",
       "\\end{Section}\n",
       "%\n",
       "\\begin{References}\\relax\n",
       "Becker, R. A., Chambers, J. M. and Wilks, A. R. (1988)\n",
       "\\emph{The New S Language}.\n",
       "Wadsworth \\& Brooks/Cole.\n",
       "\\end{References}\n",
       "%\n",
       "\\begin{SeeAlso}\\relax\n",
       "\\code{\\LinkA{colSums}{colSums}} for row and column sums.\n",
       "\\end{SeeAlso}\n",
       "%\n",
       "\\begin{Examples}\n",
       "\\begin{ExampleCode}\n",
       "\n",
       "## Pass a vector to sum, and it will add the elements together.\n",
       "sum(1:5)\n",
       "\n",
       "## Pass several numbers to sum, and it also adds the elements.\n",
       "sum(1, 2, 3, 4, 5)\n",
       "\n",
       "## In fact, you can pass vectors into several arguments, and everything gets added.\n",
       "sum(1:2, 3:5)\n",
       "\n",
       "## If there are missing values, the sum is unknown, i.e., also missing, ....\n",
       "sum(1:5, NA)\n",
       "## ... unless  we exclude missing values explicitly:\n",
       "sum(1:5, NA, na.rm = TRUE)\n",
       "\\end{ExampleCode}\n",
       "\\end{Examples}"
      ],
      "text/plain": [
       "sum                    package:base                    R Documentation\n",
       "\n",
       "_\bS_\bu_\bm _\bo_\bf _\bV_\be_\bc_\bt_\bo_\br _\bE_\bl_\be_\bm_\be_\bn_\bt_\bs\n",
       "\n",
       "_\bD_\be_\bs_\bc_\br_\bi_\bp_\bt_\bi_\bo_\bn:\n",
       "\n",
       "     'sum' returns the sum of all the values present in its arguments.\n",
       "\n",
       "_\bU_\bs_\ba_\bg_\be:\n",
       "\n",
       "     sum(..., na.rm = FALSE)\n",
       "     \n",
       "_\bA_\br_\bg_\bu_\bm_\be_\bn_\bt_\bs:\n",
       "\n",
       "     ...: numeric or complex or logical vectors.\n",
       "\n",
       "   na.rm: logical.  Should missing values (including 'NaN') be removed?\n",
       "\n",
       "_\bD_\be_\bt_\ba_\bi_\bl_\bs:\n",
       "\n",
       "     This is a generic function: methods can be defined for it directly\n",
       "     or via the 'Summary' group generic.  For this to work properly,\n",
       "     the arguments '...' should be unnamed, and dispatch is on the\n",
       "     first argument.\n",
       "\n",
       "     If 'na.rm' is 'FALSE' an 'NA' or 'NaN' value in any of the\n",
       "     arguments will cause a value of 'NA' or 'NaN' to be returned,\n",
       "     otherwise 'NA' and 'NaN' values are ignored.\n",
       "\n",
       "     Logical true values are regarded as one, false values as zero.\n",
       "     For historical reasons, 'NULL' is accepted and treated as if it\n",
       "     were 'integer(0)'.\n",
       "\n",
       "     Loss of accuracy can occur when summing values of different signs:\n",
       "     this can even occur for sufficiently long integer inputs if the\n",
       "     partial sums would cause integer overflow.  Where possible\n",
       "     extended-precision accumulators are used, typically well supported\n",
       "     with C99 and newer, but possibly platform-dependent.\n",
       "\n",
       "_\bV_\ba_\bl_\bu_\be:\n",
       "\n",
       "     The sum.  If all of the M '...' arguments are of type integer or\n",
       "     logical, then the sum is 'integer' when possible and is 'double'\n",
       "     otherwise.  Integer overflow should no longer happen since R\n",
       "     version 3.5.0.  For other argument types it is a length-one\n",
       "     numeric ('double') or complex vector.\n",
       "\n",
       "     *NB:* the sum of an empty set is zero, by definition.\n",
       "\n",
       "_\bS_\b4 _\bm_\be_\bt_\bh_\bo_\bd_\bs:\n",
       "\n",
       "     This is part of the S4 'Summary' group generic.  Methods for it\n",
       "     must use the signature 'x, ..., na.rm'.\n",
       "\n",
       "     'plotmath' for the use of 'sum' in plot annotation.\n",
       "\n",
       "_\bR_\be_\bf_\be_\br_\be_\bn_\bc_\be_\bs:\n",
       "\n",
       "     Becker, R. A., Chambers, J. M. and Wilks, A. R. (1988) _The New S\n",
       "     Language_.  Wadsworth & Brooks/Cole.\n",
       "\n",
       "_\bS_\be_\be _\bA_\bl_\bs_\bo:\n",
       "\n",
       "     'colSums' for row and column sums.\n",
       "\n",
       "_\bE_\bx_\ba_\bm_\bp_\bl_\be_\bs:\n",
       "\n",
       "     ## Pass a vector to sum, and it will add the elements together.\n",
       "     sum(1:5)\n",
       "     \n",
       "     ## Pass several numbers to sum, and it also adds the elements.\n",
       "     sum(1, 2, 3, 4, 5)\n",
       "     \n",
       "     ## In fact, you can pass vectors into several arguments, and everything gets added.\n",
       "     sum(1:2, 3:5)\n",
       "     \n",
       "     ## If there are missing values, the sum is unknown, i.e., also missing, ....\n",
       "     sum(1:5, NA)\n",
       "     ## ... unless  we exclude missing values explicitly:\n",
       "     sum(1:5, NA, na.rm = TRUE)\n",
       "     "
      ]
     },
     "metadata": {},
     "output_type": "display_data"
    }
   ],
   "source": [
    "?sum"
   ]
  },
  {
   "cell_type": "markdown",
   "id": "5892da39",
   "metadata": {},
   "source": [
    "As we can see, the mandatory unnamed arguments are the numbers you want to sum.  The optional named argument is \"na.rm = FALSE\".  What this means is that if we don't enter in a value for the \"na.rm\" argument in the function call, it will automatically be set to FALSE as a default.  As is often times the case, the default is what we want, so we'll ignore this named argument in our function call."
   ]
  },
  {
   "cell_type": "code",
   "execution_count": 3,
   "id": "09270955",
   "metadata": {},
   "outputs": [
    {
     "data": {
      "text/html": [
       "29"
      ],
      "text/latex": [
       "29"
      ],
      "text/markdown": [
       "29"
      ],
      "text/plain": [
       "[1] 29"
      ]
     },
     "metadata": {},
     "output_type": "display_data"
    }
   ],
   "source": [
    "sum(3, 2, 1, 5, 8, 10, na.rm = FALSE)"
   ]
  },
  {
   "cell_type": "markdown",
   "id": "2a231f79-50f0-49d4-954b-57186f0ad9d8",
   "metadata": {},
   "source": [
    "Here the sum function is **returning** a numeric.  And then that numeric is being entered directly into the console, which then is displayed to us.  The same logic also justifies being able to assign the output of a function to a variable name."
   ]
  },
  {
   "cell_type": "code",
   "execution_count": 16,
   "id": "b436966a-f7b7-4b6d-8ff2-0de8def09edd",
   "metadata": {},
   "outputs": [
    {
     "data": {
      "text/html": [
       "29"
      ],
      "text/latex": [
       "29"
      ],
      "text/markdown": [
       "29"
      ],
      "text/plain": [
       "[1] 29"
      ]
     },
     "metadata": {},
     "output_type": "display_data"
    }
   ],
   "source": [
    "total <- sum(3, 2, 1, 5, 8, 10)\n",
    "total"
   ]
  },
  {
   "cell_type": "markdown",
   "id": "83baf589",
   "metadata": {},
   "source": [
    "A good saying to keep in mind is \"don't reinvent the wheel\". If you want to do something to your data, then almost certainly other people have wanted to do the same thing.  Someone else has already written that function for you. So go find it in base R or copy it from someone's post on StackExchange or import it from a package rather than throwing your hands up and giving up or trying to write the function yourself.  "
   ]
  },
  {
   "cell_type": "markdown",
   "id": "b76dfa48",
   "metadata": {},
   "source": [
    "### Packages\n",
    "\n",
    "A package is a set of functions that somebody else has already written and tested for correctness, usually centered around a common theme or set of tasks (such as DateTime manipulations or performing some complex but specific statistical analysis).  You must first **install** packages for their functions to be available to you.  You can do the installation right from the console!"
   ]
  },
  {
   "cell_type": "code",
   "execution_count": 17,
   "id": "9566128c",
   "metadata": {},
   "outputs": [],
   "source": [
    "#install.packages(\"survival\")"
   ]
  },
  {
   "cell_type": "markdown",
   "id": "9708b47b",
   "metadata": {},
   "source": [
    "except without the comment.  You don't need to actually install anything yourself here; this is just an example. After a package has been installed once, it never needs to be installed again. Next you need to **import** the package into the namespace.  This step has to be done every time you start a new R session and want to use the functions associated with that package.  The import is done by"
   ]
  },
  {
   "cell_type": "code",
   "execution_count": 4,
   "id": "222a3b70",
   "metadata": {},
   "outputs": [],
   "source": [
    "library(survival)"
   ]
  },
  {
   "cell_type": "markdown",
   "id": "9c7d692a",
   "metadata": {},
   "source": [
    "except without the comment.  You can look up that package's documentation on the web to learn about the functions that were just loaded into your namespace and how they work!  This is a great way of extending the functionality of R and is actually the reason R is one of the best languages for statistical programming!  Its package ecosystem is extremely vast and diverse, covering nearly everything statistical you could ever want."
   ]
  },
  {
   "cell_type": "markdown",
   "id": "18fabbaf",
   "metadata": {},
   "source": [
    "## Basic Mathematical Operations\n",
    "### Boolean Algebra"
   ]
  },
  {
   "cell_type": "code",
   "execution_count": 19,
   "id": "35949608",
   "metadata": {},
   "outputs": [],
   "source": [
    "a <- TRUE\n",
    "b <- FALSE\n",
    "x <- TRUE\n",
    "y <- FALSE"
   ]
  },
  {
   "cell_type": "markdown",
   "id": "6503c935",
   "metadata": {},
   "source": [
    "There is one unary logical operator you need to know\n",
    "- Not"
   ]
  },
  {
   "cell_type": "code",
   "execution_count": 20,
   "id": "e72ebbc4",
   "metadata": {},
   "outputs": [
    {
     "data": {
      "text/html": [
       "FALSE"
      ],
      "text/latex": [
       "FALSE"
      ],
      "text/markdown": [
       "FALSE"
      ],
      "text/plain": [
       "[1] FALSE"
      ]
     },
     "metadata": {},
     "output_type": "display_data"
    },
    {
     "data": {
      "text/html": [
       "TRUE"
      ],
      "text/latex": [
       "TRUE"
      ],
      "text/markdown": [
       "TRUE"
      ],
      "text/plain": [
       "[1] TRUE"
      ]
     },
     "metadata": {},
     "output_type": "display_data"
    }
   ],
   "source": [
    "!x\n",
    "!y"
   ]
  },
  {
   "cell_type": "markdown",
   "id": "171d95f6",
   "metadata": {},
   "source": [
    "There are several binary logical operators that you need to know\n",
    "- & (and)\n",
    "- | (inclusive or)\n",
    "- xor (exclusive or)"
   ]
  },
  {
   "cell_type": "code",
   "execution_count": 21,
   "id": "cb219fde",
   "metadata": {},
   "outputs": [
    {
     "data": {
      "text/html": [
       "TRUE"
      ],
      "text/latex": [
       "TRUE"
      ],
      "text/markdown": [
       "TRUE"
      ],
      "text/plain": [
       "[1] TRUE"
      ]
     },
     "metadata": {},
     "output_type": "display_data"
    },
    {
     "data": {
      "text/html": [
       "FALSE"
      ],
      "text/latex": [
       "FALSE"
      ],
      "text/markdown": [
       "FALSE"
      ],
      "text/plain": [
       "[1] FALSE"
      ]
     },
     "metadata": {},
     "output_type": "display_data"
    },
    {
     "data": {
      "text/html": [
       "FALSE"
      ],
      "text/latex": [
       "FALSE"
      ],
      "text/markdown": [
       "FALSE"
      ],
      "text/plain": [
       "[1] FALSE"
      ]
     },
     "metadata": {},
     "output_type": "display_data"
    },
    {
     "data": {
      "text/html": [
       "FALSE"
      ],
      "text/latex": [
       "FALSE"
      ],
      "text/markdown": [
       "FALSE"
      ],
      "text/plain": [
       "[1] FALSE"
      ]
     },
     "metadata": {},
     "output_type": "display_data"
    }
   ],
   "source": [
    "a & x  # TRUE and TRUE\n",
    "a & y  # TRUE and FALSE\n",
    "b & x  # FALSE and TRUE\n",
    "b & y  # FALSE and FALSE"
   ]
  },
  {
   "cell_type": "code",
   "execution_count": 22,
   "id": "9b951194",
   "metadata": {},
   "outputs": [
    {
     "data": {
      "text/html": [
       "TRUE"
      ],
      "text/latex": [
       "TRUE"
      ],
      "text/markdown": [
       "TRUE"
      ],
      "text/plain": [
       "[1] TRUE"
      ]
     },
     "metadata": {},
     "output_type": "display_data"
    },
    {
     "data": {
      "text/html": [
       "TRUE"
      ],
      "text/latex": [
       "TRUE"
      ],
      "text/markdown": [
       "TRUE"
      ],
      "text/plain": [
       "[1] TRUE"
      ]
     },
     "metadata": {},
     "output_type": "display_data"
    },
    {
     "data": {
      "text/html": [
       "TRUE"
      ],
      "text/latex": [
       "TRUE"
      ],
      "text/markdown": [
       "TRUE"
      ],
      "text/plain": [
       "[1] TRUE"
      ]
     },
     "metadata": {},
     "output_type": "display_data"
    },
    {
     "data": {
      "text/html": [
       "FALSE"
      ],
      "text/latex": [
       "FALSE"
      ],
      "text/markdown": [
       "FALSE"
      ],
      "text/plain": [
       "[1] FALSE"
      ]
     },
     "metadata": {},
     "output_type": "display_data"
    }
   ],
   "source": [
    "a | x  # TRUE or TRUE\n",
    "a | y  # TRUE or FALSE\n",
    "b | x  # FALSE or TRUE\n",
    "b | y  # FALSE or FALSE"
   ]
  },
  {
   "cell_type": "code",
   "execution_count": 23,
   "id": "d1dd9290",
   "metadata": {},
   "outputs": [
    {
     "data": {
      "text/html": [
       "FALSE"
      ],
      "text/latex": [
       "FALSE"
      ],
      "text/markdown": [
       "FALSE"
      ],
      "text/plain": [
       "[1] FALSE"
      ]
     },
     "metadata": {},
     "output_type": "display_data"
    },
    {
     "data": {
      "text/html": [
       "TRUE"
      ],
      "text/latex": [
       "TRUE"
      ],
      "text/markdown": [
       "TRUE"
      ],
      "text/plain": [
       "[1] TRUE"
      ]
     },
     "metadata": {},
     "output_type": "display_data"
    },
    {
     "data": {
      "text/html": [
       "TRUE"
      ],
      "text/latex": [
       "TRUE"
      ],
      "text/markdown": [
       "TRUE"
      ],
      "text/plain": [
       "[1] TRUE"
      ]
     },
     "metadata": {},
     "output_type": "display_data"
    },
    {
     "data": {
      "text/html": [
       "FALSE"
      ],
      "text/latex": [
       "FALSE"
      ],
      "text/markdown": [
       "FALSE"
      ],
      "text/plain": [
       "[1] FALSE"
      ]
     },
     "metadata": {},
     "output_type": "display_data"
    }
   ],
   "source": [
    "xor(a, x)  # TRUE xor TRUE\n",
    "xor(a, y)  # TRUE xor FALSE\n",
    "xor(b, x)  # FALSE xor TRUE\n",
    "xor(b, y)  # FALSE xor FALSE"
   ]
  },
  {
   "cell_type": "markdown",
   "id": "107fadee",
   "metadata": {},
   "source": [
    "You may have noticed we used 2 different types of notation for our binary operations.  The first one is called *infix* notation, and the second *functional* notation.  Functional notation is the default for almost everything, but some very special binary operations are so special that R allows you to use infix notation for them.  As another example, look at addition, subtraction, multiplication, and division.  More examples of infix notation are given below with comparisons."
   ]
  },
  {
   "cell_type": "markdown",
   "id": "60114748",
   "metadata": {},
   "source": [
    "### Comparisons\n",
    "Lastly, we have comparisons.  Comparisons are between two elements of data that are allowed to be compared and *result* in a logical as the output.  "
   ]
  },
  {
   "cell_type": "code",
   "execution_count": 24,
   "id": "55169c95",
   "metadata": {},
   "outputs": [],
   "source": [
    "address.country <- \"USA\"\n",
    "birth.country <- \"USA\"\n",
    "sbp <- 150\n",
    "dbp <- 85"
   ]
  },
  {
   "cell_type": "code",
   "execution_count": 25,
   "id": "61ce5df1",
   "metadata": {},
   "outputs": [
    {
     "data": {
      "text/html": [
       "TRUE"
      ],
      "text/latex": [
       "TRUE"
      ],
      "text/markdown": [
       "TRUE"
      ],
      "text/plain": [
       "[1] TRUE"
      ]
     },
     "metadata": {},
     "output_type": "display_data"
    },
    {
     "data": {
      "text/html": [
       "TRUE"
      ],
      "text/latex": [
       "TRUE"
      ],
      "text/markdown": [
       "TRUE"
      ],
      "text/plain": [
       "[1] TRUE"
      ]
     },
     "metadata": {},
     "output_type": "display_data"
    },
    {
     "data": {
      "text/html": [
       "TRUE"
      ],
      "text/latex": [
       "TRUE"
      ],
      "text/markdown": [
       "TRUE"
      ],
      "text/plain": [
       "[1] TRUE"
      ]
     },
     "metadata": {},
     "output_type": "display_data"
    },
    {
     "data": {
      "text/html": [
       "FALSE"
      ],
      "text/latex": [
       "FALSE"
      ],
      "text/markdown": [
       "FALSE"
      ],
      "text/plain": [
       "[1] FALSE"
      ]
     },
     "metadata": {},
     "output_type": "display_data"
    }
   ],
   "source": [
    "address.country == birth.country\n",
    "sbp != dbp\n",
    "sbp > dbp\n",
    "sbp <= dbp"
   ]
  },
  {
   "cell_type": "markdown",
   "id": "b2f8c9ef",
   "metadata": {},
   "source": [
    "### Arithmetic Operations\n",
    "Doing math should be as easy as using your phone calculator.  All the basic operations exist, PEMDAS is automatically inferred, and base R has functions for common mathematical operations.  "
   ]
  },
  {
   "cell_type": "code",
   "execution_count": 26,
   "id": "32c858b3",
   "metadata": {},
   "outputs": [],
   "source": [
    "x <- 3\n",
    "y <- 9\n",
    "z <- 4"
   ]
  },
  {
   "cell_type": "code",
   "execution_count": 27,
   "id": "c7337d07",
   "metadata": {},
   "outputs": [
    {
     "data": {
      "text/html": [
       "100"
      ],
      "text/latex": [
       "100"
      ],
      "text/markdown": [
       "100"
      ],
      "text/plain": [
       "[1] 100"
      ]
     },
     "metadata": {},
     "output_type": "display_data"
    },
    {
     "data": {
      "text/html": [
       "-1.20397280432594"
      ],
      "text/latex": [
       "-1.20397280432594"
      ],
      "text/markdown": [
       "-1.20397280432594"
      ],
      "text/plain": [
       "[1] -1.203973"
      ]
     },
     "metadata": {},
     "output_type": "display_data"
    },
    {
     "data": {
      "text/html": [
       "0.817574476193644"
      ],
      "text/latex": [
       "0.817574476193644"
      ],
      "text/markdown": [
       "0.817574476193644"
      ],
      "text/plain": [
       "[1] 0.8175745"
      ]
     },
     "metadata": {},
     "output_type": "display_data"
    }
   ],
   "source": [
    "z^x + y*z\n",
    "log(0.1*x)\n",
    "1/(1 + exp(-x*z/8))"
   ]
  },
  {
   "cell_type": "markdown",
   "id": "14b21dde",
   "metadata": {},
   "source": [
    "### Automatic Coercion\n",
    "R can automatically perform coercion when doing arithmetic operations.  We discussed earlier that 3 and \"cat\" could not add.  But can an integer 3L and a numeric 2 add?  They are of different types.  But I'm sure that you still feel that they should be able to.  Well they can!  Logicals, integers, and numerics form a natural hierarchy.  Data is always coerced \"up\" the hierarchy when it would be necessary to perform an operation.\n",
    "\n",
    "So back to our example, when we do"
   ]
  },
  {
   "cell_type": "code",
   "execution_count": 28,
   "id": "f3299512",
   "metadata": {},
   "outputs": [
    {
     "data": {
      "text/html": [
       "'numeric'"
      ],
      "text/latex": [
       "'numeric'"
      ],
      "text/markdown": [
       "'numeric'"
      ],
      "text/plain": [
       "[1] \"numeric\""
      ]
     },
     "metadata": {},
     "output_type": "display_data"
    }
   ],
   "source": [
    "class(3L + 2)"
   ]
  },
  {
   "cell_type": "markdown",
   "id": "f71cd3db",
   "metadata": {},
   "source": [
    "The integer 3 was first automatically coerced into a numeric before the addition could take place.  Thus, the resulting output was also a numeric.  This automatic coercion has many useful applications.  Let's say you had a bunch of TRUE and FALSEs for each patient to see if their blood pressure was measured.  Can you take the sum of a bunch of logicals to see how many patients got their blood pressure measured?  Yes! Since TRUE can be coerced as 1 and FALSE can be coerced as 0. "
   ]
  },
  {
   "cell_type": "code",
   "execution_count": 29,
   "id": "c3fe2b60",
   "metadata": {},
   "outputs": [
    {
     "data": {
      "text/html": [
       "5"
      ],
      "text/latex": [
       "5"
      ],
      "text/markdown": [
       "5"
      ],
      "text/plain": [
       "[1] 5"
      ]
     },
     "metadata": {},
     "output_type": "display_data"
    }
   ],
   "source": [
    "sum(TRUE, TRUE, FALSE, TRUE, FALSE, TRUE, TRUE, FALSE)"
   ]
  },
  {
   "cell_type": "markdown",
   "id": "60ee972f",
   "metadata": {},
   "source": [
    "### Order of Execution\n",
    "We mentioned PEMDAS works for arithmetic operations. The same logic applies to any line of code, except with two extra considerations - comparisons and functions.  For the most part, it works like follows.  The arguments of functions get evaluated first (if there's anything to be done). The functions themselves get evaluated next.  Then PEMDAS follows. And finally, any *remaining* comparisons are evaluated; any comparisons within parentheses are evaluated before that.  However, if there is a lot of ambiguity in these last two steps, R may possibly throw a parsing error.  As is true with math, best practice is to use lots of parentheses to make the order of operations clear to a reader of the code.  \n",
    "\n",
    "Using this knowledge combined with your knowledge of coercion, make sure you understand how the following output is generated:"
   ]
  },
  {
   "cell_type": "code",
   "execution_count": 30,
   "id": "f8d4fde0",
   "metadata": {
    "tags": []
   },
   "outputs": [
    {
     "data": {
      "text/html": [
       "2"
      ],
      "text/latex": [
       "2"
      ],
      "text/markdown": [
       "2"
      ],
      "text/plain": [
       "[1] 2"
      ]
     },
     "metadata": {},
     "output_type": "display_data"
    }
   ],
   "source": [
    "(as.integer(1 + 1.9)^3 > 9) +  2*xor(exp(1) > log(1), FALSE)"
   ]
  },
  {
   "cell_type": "markdown",
   "id": "368f2588",
   "metadata": {},
   "source": [
    "For the first term, 1 + 1.9 is first evaluated as 2.9.   Then as.integer(2.9) is evaluated as 2.  Then 2 > 9 is evaluated as FALSE.  For the second term, exp(1) is evaluated as 3.141592... and log(1) is evaluated as 0.  Then 3.1415... > 0 is evaluated as TRUE.  Then xor(TRUE, FALSE) is evaluated as TRUE.  Then 2*TRUE evaluates as 2 by coercsion. Finally combining the two terms, FALSE + 2 evaluates as 2 by coercion again."
   ]
  },
  {
   "cell_type": "markdown",
   "id": "16d286c7",
   "metadata": {},
   "source": [
    "### In-Class Exercise 1: Diagnosing Hypertension\n",
    "\n",
    "Before we begin this exercise, I would like to encourage you to write and plan your code in the **editor**.  If it's not already open, go to file -> new file -> R script.  This should open a new untitled script within the editor.  If you write code in the editor, it doesn't automatically go into the console.  You can either run your entire script from top to bottom by hitting the **Run** button.  Or you can highlight the specific code you want to run in the editor and then hit CTRL+ENTER (or the Mac equivalent), which is my preferred way to move code to the console when it's ready. \n",
    "\n",
    "We define hypertension if a patient has a sbp (systolic blood pressure) that is greater than or equal to 140 or if they have a dbp (diastolic blood pressure) that is greater than or equal to 90. Write code to take a given value of sbp and dbp and return a logical datum describing if the patient is hypertensive or not.  Assign the result to a new variable called \"hypertensive\".\n",
    "\n",
    "As a challenge, you can try to make your answer a single line of code using your knowledge from order of execution.  However, if you want to break things down step-by-step for yourself, you should assign new variables that capture intermediate computations.\n",
    "\n",
    "Here are the given values of sbp and dpb that you should use:"
   ]
  },
  {
   "cell_type": "code",
   "execution_count": 31,
   "id": "46d17318-2bad-4fab-aab0-6f75c0d137d6",
   "metadata": {},
   "outputs": [],
   "source": [
    "sbp <- 138\n",
    "dbp <- 94"
   ]
  },
  {
   "cell_type": "markdown",
   "id": "f31b9c36-29da-459b-88ce-216be85e8e64",
   "metadata": {
    "tags": []
   },
   "source": [
    "**Solution:**"
   ]
  },
  {
   "cell_type": "code",
   "execution_count": 32,
   "id": "e6c281e3-b00c-4da5-8880-8b40a5a08861",
   "metadata": {
    "tags": []
   },
   "outputs": [],
   "source": [
    "# step-by-step solution\n",
    "sbp.over <- sbp >= 140\n",
    "dbp.over <- dbp >= 90\n",
    "hypertensive <- sbp.over | dbp.over\n",
    "\n",
    "# compact solution\n",
    "hypertensive <- (sbp >= 140) | (dbp >= 90)"
   ]
  },
  {
   "cell_type": "markdown",
   "id": "307e4570",
   "metadata": {},
   "source": [
    "# Data Structures\n",
    "We will discuss three relevant data structures, which you can think of as indexable \"containers\" for multiple **elements** of data:\n",
    "\n",
    "- **Vectors**\n",
    "\n",
    "- **Lists**\n",
    "\n",
    "- **Data Frames**\n",
    "\n",
    "Indexable means that there is a first element, a second, and so on.\n",
    "\n",
    "## Vectors\n",
    "A vector is an indexable container where each element is one of the basic data types we discussed and all elements are the *same* data type. Vectors can be *named* or unnamed.  Let's make this clear with some examples, starting with unnamed vectors. We will introduce the **print** function as well.  \"Printing\" a variable just displays its data in the console; we've already been doing something exactly like this by directly writing the variable name in the console.  However, the print function can give certain types of variables a slightly nicer display, such as vectors."
   ]
  },
  {
   "cell_type": "code",
   "execution_count": 5,
   "id": "e140491e",
   "metadata": {},
   "outputs": [
    {
     "name": "stdout",
     "output_type": "stream",
     "text": [
      "[1] \"clear\"       \"straw\"       \"yellow\"      \"dark yellow\" \"pink\"       \n"
     ]
    },
    {
     "data": {
      "text/html": [
       "<ol class=list-inline>\n",
       "\t<li>'clear'</li>\n",
       "\t<li>'straw'</li>\n",
       "\t<li>'yellow'</li>\n",
       "\t<li>'dark yellow'</li>\n",
       "\t<li>'pink'</li>\n",
       "</ol>\n"
      ],
      "text/latex": [
       "\\begin{enumerate*}\n",
       "\\item 'clear'\n",
       "\\item 'straw'\n",
       "\\item 'yellow'\n",
       "\\item 'dark yellow'\n",
       "\\item 'pink'\n",
       "\\end{enumerate*}\n"
      ],
      "text/markdown": [
       "1. 'clear'\n",
       "2. 'straw'\n",
       "3. 'yellow'\n",
       "4. 'dark yellow'\n",
       "5. 'pink'\n",
       "\n",
       "\n"
      ],
      "text/plain": [
       "[1] \"clear\"       \"straw\"       \"yellow\"      \"dark yellow\" \"pink\"       "
      ]
     },
     "metadata": {},
     "output_type": "display_data"
    }
   ],
   "source": [
    "urine.colors <- c(\"clear\", \"straw\", \"yellow\", \"dark yellow\", \"pink\")\n",
    "print(urine.colors)"
   ]
  },
  {
   "cell_type": "markdown",
   "id": "470e8972",
   "metadata": {},
   "source": [
    "The class function that we used earlier is useful here.  On vectors, class gives us the common data type of the *elements* of the vector."
   ]
  },
  {
   "cell_type": "code",
   "execution_count": 34,
   "id": "19232378",
   "metadata": {},
   "outputs": [
    {
     "data": {
      "text/html": [
       "'character'"
      ],
      "text/latex": [
       "'character'"
      ],
      "text/markdown": [
       "'character'"
      ],
      "text/plain": [
       "[1] \"character\""
      ]
     },
     "metadata": {},
     "output_type": "display_data"
    }
   ],
   "source": [
    "class(urine.colors)"
   ]
  },
  {
   "cell_type": "markdown",
   "id": "ec2b7dc8",
   "metadata": {},
   "source": [
    "We will later make use of the important length function for vectors (and lists), which returns an integer describing its length."
   ]
  },
  {
   "cell_type": "code",
   "execution_count": 35,
   "id": "0737cd32",
   "metadata": {},
   "outputs": [
    {
     "data": {
      "text/html": [
       "5"
      ],
      "text/latex": [
       "5"
      ],
      "text/markdown": [
       "5"
      ],
      "text/plain": [
       "[1] 5"
      ]
     },
     "metadata": {},
     "output_type": "display_data"
    }
   ],
   "source": [
    "length(urine.colors)"
   ]
  },
  {
   "cell_type": "markdown",
   "id": "97452f65",
   "metadata": {},
   "source": [
    "### String Concatenation & Splitting\n",
    "We often have a vector of character data that we must combine into a single string, known as concatenation.  Other times, we have a long string that we would like to parse/split into a vector of character data.  For the former, we will make use of the **paste** function."
   ]
  },
  {
   "cell_type": "code",
   "execution_count": 6,
   "id": "04cb0076",
   "metadata": {},
   "outputs": [
    {
     "data": {
      "text/html": [
       "\n",
       "<table width=\"100%\" summary=\"page for paste {base}\"><tr><td>paste {base}</td><td style=\"text-align: right;\">R Documentation</td></tr></table>\n",
       "\n",
       "<h2>Concatenate Strings</h2>\n",
       "\n",
       "<h3>Description</h3>\n",
       "\n",
       "<p>Concatenate vectors after converting to character.\n",
       "</p>\n",
       "\n",
       "\n",
       "<h3>Usage</h3>\n",
       "\n",
       "<pre>\n",
       "paste (..., sep = \" \", collapse = NULL)\n",
       "paste0(..., collapse = NULL)\n",
       "</pre>\n",
       "\n",
       "\n",
       "<h3>Arguments</h3>\n",
       "\n",
       "<table summary=\"R argblock\">\n",
       "<tr valign=\"top\"><td><code>...</code></td>\n",
       "<td>\n",
       "<p>one or more <span style=\"font-family: Courier New, Courier; color: #666666;\"><b>R</b></span> objects, to be converted to character vectors.</p>\n",
       "</td></tr>\n",
       "<tr valign=\"top\"><td><code>sep</code></td>\n",
       "<td>\n",
       "<p>a character string to separate the terms.  Not\n",
       "<code>NA_character_</code>.</p>\n",
       "</td></tr>\n",
       "<tr valign=\"top\"><td><code>collapse</code></td>\n",
       "<td>\n",
       "<p>an optional character string to separate the results.  Not\n",
       "<code>NA_character_</code>.</p>\n",
       "</td></tr>\n",
       "</table>\n",
       "\n",
       "\n",
       "<h3>Details</h3>\n",
       "\n",
       "<p><code>paste</code> converts its arguments (<em>via</em>\n",
       "<code>as.character</code>) to character strings, and concatenates\n",
       "them (separating them by the string given by <code>sep</code>).  If the\n",
       "arguments are vectors, they are concatenated term-by-term to give a\n",
       "character vector result.  Vector arguments are recycled as needed,\n",
       "with zero-length arguments being recycled to <code>\"\"</code>.\n",
       "</p>\n",
       "<p>Note that <code>paste()</code> coerces <code>NA_character_</code>, the\n",
       "character missing value, to <code>\"NA\"</code> which may seem\n",
       "undesirable, e.g., when pasting two character vectors, or very\n",
       "desirable, e.g. in <code>paste(\"the value of p is \", p)</code>.\n",
       "</p>\n",
       "<p><code>paste0(..., collapse)</code> is equivalent to\n",
       "<code>paste(..., sep = \"\", collapse)</code>, slightly more efficiently.\n",
       "</p>\n",
       "<p>If a value is specified for <code>collapse</code>, the values in the result\n",
       "are then concatenated into a single string, with the elements being\n",
       "separated by the value of <code>collapse</code>.\n",
       "</p>\n",
       "\n",
       "\n",
       "<h3>Value</h3>\n",
       "\n",
       "<p>A character vector of the concatenated values.  This will be of length\n",
       "zero if all the objects are, unless <code>collapse</code> is non-NULL in\n",
       "which case it is a single empty string.\n",
       "</p>\n",
       "<p>If any input into an element of the result is in UTF-8 (and none are\n",
       "declared with encoding <code>\"bytes\"</code>, see <code>Encoding</code>),\n",
       "that element will be in UTF-8, otherwise in the current encoding in\n",
       "which case the encoding of the element is declared if the current\n",
       "locale is either Latin-1 or UTF-8, at least one of the corresponding\n",
       "inputs (including separators) had a declared encoding and all inputs\n",
       "were either ASCII or declared.\n",
       "</p>\n",
       "<p>If an input into an element is declared with encoding <code>\"bytes\"</code>,\n",
       "no translation will be done of any of the elements and the resulting\n",
       "element will have encoding <code>\"bytes\"</code>.  If <code>collapse</code> is\n",
       "non-NULL, this applies also to the second, collapsing, phase, but some\n",
       "translation may have been done in pasting object together in the first\n",
       "phase.\n",
       "</p>\n",
       "\n",
       "\n",
       "<h3>References</h3>\n",
       "\n",
       "<p>Becker, R. A., Chambers, J. M. and Wilks, A. R. (1988)\n",
       "<em>The New S Language</em>.\n",
       "Wadsworth &amp; Brooks/Cole.\n",
       "</p>\n",
       "\n",
       "\n",
       "<h3>See Also</h3>\n",
       "\n",
       "<p><code>toString</code> typically calls <code>paste(*, collapse=\", \")</code>.\n",
       "String manipulation with\n",
       "<code>as.character</code>, <code>substr</code>, <code>nchar</code>,\n",
       "<code>strsplit</code>; further, <code>cat</code> which concatenates and\n",
       "writes to a file, and <code>sprintf</code> for C like string\n",
       "construction.\n",
       "</p>\n",
       "<p>&lsquo;plotmath&rsquo; for the use of <code>paste</code> in plot annotation.\n",
       "</p>\n",
       "\n",
       "\n",
       "<h3>Examples</h3>\n",
       "\n",
       "<pre>\n",
       "## When passing a single vector, paste0 and paste work like as.character.\n",
       "paste0(1:12)\n",
       "paste(1:12)        # same\n",
       "as.character(1:12) # same\n",
       "\n",
       "## If you pass several vectors to paste0, they are concatenated in a\n",
       "## vectorized way.\n",
       "(nth &lt;- paste0(1:12, c(\"st\", \"nd\", \"rd\", rep(\"th\", 9))))\n",
       "\n",
       "## paste works the same, but separates each input with a space.\n",
       "## Notice that the recycling rules make every input as long as the longest input.\n",
       "paste(month.abb, \"is the\", nth, \"month of the year.\")\n",
       "paste(month.abb, letters)\n",
       "\n",
       "## You can change the separator by passing a sep argument\n",
       "## which can be multiple characters.\n",
       "paste(month.abb, \"is the\", nth, \"month of the year.\", sep = \"_*_\")\n",
       "\n",
       "## To collapse the output into a single string, pass a collapse argument.\n",
       "paste0(nth, collapse = \", \")\n",
       "\n",
       "## For inputs of length 1, use the sep argument rather than collapse\n",
       "paste(\"1st\", \"2nd\", \"3rd\", collapse = \", \") # probably not what you wanted\n",
       "paste(\"1st\", \"2nd\", \"3rd\", sep = \", \")\n",
       "\n",
       "## You can combine the sep and collapse arguments together.\n",
       "paste(month.abb, nth, sep = \": \", collapse = \"; \")\n",
       "\n",
       "## Using paste() in combination with strwrap() can be useful\n",
       "## for dealing with long strings.\n",
       "(title &lt;- paste(strwrap(\n",
       "    \"Stopping distance of cars (ft) vs. speed (mph) from Ezekiel (1930)\",\n",
       "    width = 30), collapse = \"\\n\"))\n",
       "plot(dist ~ speed, cars, main = title)\n",
       "</pre>\n",
       "\n",
       "<hr /><div style=\"text-align: center;\">[Package <em>base</em> version 3.6.1 ]</div>"
      ],
      "text/latex": [
       "\\inputencoding{utf8}\n",
       "\\HeaderA{paste}{Concatenate Strings}{paste}\n",
       "\\aliasA{paste0}{paste}{paste0}\n",
       "\\keyword{character}{paste}\n",
       "%\n",
       "\\begin{Description}\\relax\n",
       "Concatenate vectors after converting to character.\n",
       "\\end{Description}\n",
       "%\n",
       "\\begin{Usage}\n",
       "\\begin{verbatim}\n",
       "paste (..., sep = \" \", collapse = NULL)\n",
       "paste0(..., collapse = NULL)\n",
       "\\end{verbatim}\n",
       "\\end{Usage}\n",
       "%\n",
       "\\begin{Arguments}\n",
       "\\begin{ldescription}\n",
       "\\item[\\code{...}] one or more \\R{} objects, to be converted to character vectors.\n",
       "\\item[\\code{sep}] a character string to separate the terms.  Not\n",
       "\\code{\\LinkA{NA\\_character\\_}{NA.Rul.character.Rul.}}.\n",
       "\\item[\\code{collapse}] an optional character string to separate the results.  Not\n",
       "\\code{\\LinkA{NA\\_character\\_}{NA.Rul.character.Rul.}}.\n",
       "\\end{ldescription}\n",
       "\\end{Arguments}\n",
       "%\n",
       "\\begin{Details}\\relax\n",
       "\\code{paste} converts its arguments (\\emph{via}\n",
       "\\code{\\LinkA{as.character}{as.character}}) to character strings, and concatenates\n",
       "them (separating them by the string given by \\code{sep}).  If the\n",
       "arguments are vectors, they are concatenated term-by-term to give a\n",
       "character vector result.  Vector arguments are recycled as needed,\n",
       "with zero-length arguments being recycled to \\code{\"\"}.\n",
       "\n",
       "Note that \\code{paste()} coerces \\code{\\LinkA{NA\\_character\\_}{NA.Rul.character.Rul.}}, the\n",
       "character missing value, to \\code{\"NA\"} which may seem\n",
       "undesirable, e.g., when pasting two character vectors, or very\n",
       "desirable, e.g.~in \\code{paste(\"the value of p is \", p)}.\n",
       "\n",
       "\\code{paste0(..., collapse)} is equivalent to\n",
       "\\code{paste(..., sep = \"\", collapse)}, slightly more efficiently.\n",
       "\n",
       "If a value is specified for \\code{collapse}, the values in the result\n",
       "are then concatenated into a single string, with the elements being\n",
       "separated by the value of \\code{collapse}.\n",
       "\\end{Details}\n",
       "%\n",
       "\\begin{Value}\n",
       "A character vector of the concatenated values.  This will be of length\n",
       "zero if all the objects are, unless \\code{collapse} is non-NULL in\n",
       "which case it is a single empty string.\n",
       "\n",
       "If any input into an element of the result is in UTF-8 (and none are\n",
       "declared with encoding \\code{\"bytes\"}, see \\code{\\LinkA{Encoding}{Encoding}}),\n",
       "that element will be in UTF-8, otherwise in the current encoding in\n",
       "which case the encoding of the element is declared if the current\n",
       "locale is either Latin-1 or UTF-8, at least one of the corresponding\n",
       "inputs (including separators) had a declared encoding and all inputs\n",
       "were either ASCII or declared.\n",
       "\n",
       "If an input into an element is declared with encoding \\code{\"bytes\"},\n",
       "no translation will be done of any of the elements and the resulting\n",
       "element will have encoding \\code{\"bytes\"}.  If \\code{collapse} is\n",
       "non-NULL, this applies also to the second, collapsing, phase, but some\n",
       "translation may have been done in pasting object together in the first\n",
       "phase.\n",
       "\\end{Value}\n",
       "%\n",
       "\\begin{References}\\relax\n",
       "Becker, R. A., Chambers, J. M. and Wilks, A. R. (1988)\n",
       "\\emph{The New S Language}.\n",
       "Wadsworth \\& Brooks/Cole.\n",
       "\\end{References}\n",
       "%\n",
       "\\begin{SeeAlso}\\relax\n",
       "\\code{\\LinkA{toString}{toString}} typically calls \\code{paste(*, collapse=\", \")}.\n",
       "String manipulation with\n",
       "\\code{\\LinkA{as.character}{as.character}}, \\code{\\LinkA{substr}{substr}}, \\code{\\LinkA{nchar}{nchar}},\n",
       "\\code{\\LinkA{strsplit}{strsplit}}; further, \\code{\\LinkA{cat}{cat}} which concatenates and\n",
       "writes to a file, and \\code{\\LinkA{sprintf}{sprintf}} for C like string\n",
       "construction.\n",
       "\n",
       "`\\LinkA{plotmath}{plotmath}' for the use of \\code{paste} in plot annotation.\n",
       "\\end{SeeAlso}\n",
       "%\n",
       "\\begin{Examples}\n",
       "\\begin{ExampleCode}\n",
       "## When passing a single vector, paste0 and paste work like as.character.\n",
       "paste0(1:12)\n",
       "paste(1:12)        # same\n",
       "as.character(1:12) # same\n",
       "\n",
       "## If you pass several vectors to paste0, they are concatenated in a\n",
       "## vectorized way.\n",
       "(nth <- paste0(1:12, c(\"st\", \"nd\", \"rd\", rep(\"th\", 9))))\n",
       "\n",
       "## paste works the same, but separates each input with a space.\n",
       "## Notice that the recycling rules make every input as long as the longest input.\n",
       "paste(month.abb, \"is the\", nth, \"month of the year.\")\n",
       "paste(month.abb, letters)\n",
       "\n",
       "## You can change the separator by passing a sep argument\n",
       "## which can be multiple characters.\n",
       "paste(month.abb, \"is the\", nth, \"month of the year.\", sep = \"_*_\")\n",
       "\n",
       "## To collapse the output into a single string, pass a collapse argument.\n",
       "paste0(nth, collapse = \", \")\n",
       "\n",
       "## For inputs of length 1, use the sep argument rather than collapse\n",
       "paste(\"1st\", \"2nd\", \"3rd\", collapse = \", \") # probably not what you wanted\n",
       "paste(\"1st\", \"2nd\", \"3rd\", sep = \", \")\n",
       "\n",
       "## You can combine the sep and collapse arguments together.\n",
       "paste(month.abb, nth, sep = \": \", collapse = \"; \")\n",
       "\n",
       "## Using paste() in combination with strwrap() can be useful\n",
       "## for dealing with long strings.\n",
       "(title <- paste(strwrap(\n",
       "    \"Stopping distance of cars (ft) vs. speed (mph) from Ezekiel (1930)\",\n",
       "    width = 30), collapse = \"\\n\"))\n",
       "plot(dist ~ speed, cars, main = title)\n",
       "\\end{ExampleCode}\n",
       "\\end{Examples}"
      ],
      "text/plain": [
       "paste                   package:base                   R Documentation\n",
       "\n",
       "_\bC_\bo_\bn_\bc_\ba_\bt_\be_\bn_\ba_\bt_\be _\bS_\bt_\br_\bi_\bn_\bg_\bs\n",
       "\n",
       "_\bD_\be_\bs_\bc_\br_\bi_\bp_\bt_\bi_\bo_\bn:\n",
       "\n",
       "     Concatenate vectors after converting to character.\n",
       "\n",
       "_\bU_\bs_\ba_\bg_\be:\n",
       "\n",
       "     paste (..., sep = \" \", collapse = NULL)\n",
       "     paste0(..., collapse = NULL)\n",
       "     \n",
       "_\bA_\br_\bg_\bu_\bm_\be_\bn_\bt_\bs:\n",
       "\n",
       "     ...: one or more R objects, to be converted to character vectors.\n",
       "\n",
       "     sep: a character string to separate the terms.  Not\n",
       "          'NA_character_'.\n",
       "\n",
       "collapse: an optional character string to separate the results.  Not\n",
       "          'NA_character_'.\n",
       "\n",
       "_\bD_\be_\bt_\ba_\bi_\bl_\bs:\n",
       "\n",
       "     'paste' converts its arguments (_via_ 'as.character') to character\n",
       "     strings, and concatenates them (separating them by the string\n",
       "     given by 'sep').  If the arguments are vectors, they are\n",
       "     concatenated term-by-term to give a character vector result.\n",
       "     Vector arguments are recycled as needed, with zero-length\n",
       "     arguments being recycled to '\"\"'.\n",
       "\n",
       "     Note that 'paste()' coerces 'NA_character_', the character missing\n",
       "     value, to '\"NA\"' which may seem undesirable, e.g., when pasting\n",
       "     two character vectors, or very desirable, e.g. in 'paste(\"the\n",
       "     value of p is \", p)'.\n",
       "\n",
       "     'paste0(..., collapse)' is equivalent to 'paste(..., sep = \"\",\n",
       "     collapse)', slightly more efficiently.\n",
       "\n",
       "     If a value is specified for 'collapse', the values in the result\n",
       "     are then concatenated into a single string, with the elements\n",
       "     being separated by the value of 'collapse'.\n",
       "\n",
       "_\bV_\ba_\bl_\bu_\be:\n",
       "\n",
       "     A character vector of the concatenated values.  This will be of\n",
       "     length zero if all the objects are, unless 'collapse' is non-NULL\n",
       "     in which case it is a single empty string.\n",
       "\n",
       "     If any input into an element of the result is in UTF-8 (and none\n",
       "     are declared with encoding '\"bytes\"', see 'Encoding'), that\n",
       "     element will be in UTF-8, otherwise in the current encoding in\n",
       "     which case the encoding of the element is declared if the current\n",
       "     locale is either Latin-1 or UTF-8, at least one of the\n",
       "     corresponding inputs (including separators) had a declared\n",
       "     encoding and all inputs were either ASCII or declared.\n",
       "\n",
       "     If an input into an element is declared with encoding '\"bytes\"',\n",
       "     no translation will be done of any of the elements and the\n",
       "     resulting element will have encoding '\"bytes\"'.  If 'collapse' is\n",
       "     non-NULL, this applies also to the second, collapsing, phase, but\n",
       "     some translation may have been done in pasting object together in\n",
       "     the first phase.\n",
       "\n",
       "_\bR_\be_\bf_\be_\br_\be_\bn_\bc_\be_\bs:\n",
       "\n",
       "     Becker, R. A., Chambers, J. M. and Wilks, A. R. (1988) _The New S\n",
       "     Language_.  Wadsworth & Brooks/Cole.\n",
       "\n",
       "_\bS_\be_\be _\bA_\bl_\bs_\bo:\n",
       "\n",
       "     'toString' typically calls 'paste(*, collapse=\", \")'.  String\n",
       "     manipulation with 'as.character', 'substr', 'nchar', 'strsplit';\n",
       "     further, 'cat' which concatenates and writes to a file, and\n",
       "     'sprintf' for C like string construction.\n",
       "\n",
       "     'plotmath' for the use of 'paste' in plot annotation.\n",
       "\n",
       "_\bE_\bx_\ba_\bm_\bp_\bl_\be_\bs:\n",
       "\n",
       "     ## When passing a single vector, paste0 and paste work like as.character.\n",
       "     paste0(1:12)\n",
       "     paste(1:12)        # same\n",
       "     as.character(1:12) # same\n",
       "     \n",
       "     ## If you pass several vectors to paste0, they are concatenated in a\n",
       "     ## vectorized way.\n",
       "     (nth <- paste0(1:12, c(\"st\", \"nd\", \"rd\", rep(\"th\", 9))))\n",
       "     \n",
       "     ## paste works the same, but separates each input with a space.\n",
       "     ## Notice that the recycling rules make every input as long as the longest input.\n",
       "     paste(month.abb, \"is the\", nth, \"month of the year.\")\n",
       "     paste(month.abb, letters)\n",
       "     \n",
       "     ## You can change the separator by passing a sep argument\n",
       "     ## which can be multiple characters.\n",
       "     paste(month.abb, \"is the\", nth, \"month of the year.\", sep = \"_*_\")\n",
       "     \n",
       "     ## To collapse the output into a single string, pass a collapse argument.\n",
       "     paste0(nth, collapse = \", \")\n",
       "     \n",
       "     ## For inputs of length 1, use the sep argument rather than collapse\n",
       "     paste(\"1st\", \"2nd\", \"3rd\", collapse = \", \") # probably not what you wanted\n",
       "     paste(\"1st\", \"2nd\", \"3rd\", sep = \", \")\n",
       "     \n",
       "     ## You can combine the sep and collapse arguments together.\n",
       "     paste(month.abb, nth, sep = \": \", collapse = \"; \")\n",
       "     \n",
       "     ## Using paste() in combination with strwrap() can be useful\n",
       "     ## for dealing with long strings.\n",
       "     (title <- paste(strwrap(\n",
       "         \"Stopping distance of cars (ft) vs. speed (mph) from Ezekiel (1930)\",\n",
       "         width = 30), collapse = \"\\n\"))\n",
       "     plot(dist ~ speed, cars, main = title)\n",
       "     "
      ]
     },
     "metadata": {},
     "output_type": "display_data"
    }
   ],
   "source": [
    "?paste"
   ]
  },
  {
   "cell_type": "markdown",
   "id": "25a1d55f",
   "metadata": {},
   "source": [
    "There are two common ways to use paste.  In the first way, you give a collection of strings as the unnames arguments, and you use the \"sep\" named argument to specify which characters you want between the strings as they are pasted together.  The default is a single space, but we'll make this explicit."
   ]
  },
  {
   "cell_type": "code",
   "execution_count": 37,
   "id": "d906b647",
   "metadata": {},
   "outputs": [
    {
     "data": {
      "text/html": [
       "'She sells sea shells by the sea shore'"
      ],
      "text/latex": [
       "'She sells sea shells by the sea shore'"
      ],
      "text/markdown": [
       "'She sells sea shells by the sea shore'"
      ],
      "text/plain": [
       "[1] \"She sells sea shells by the sea shore\""
      ]
     },
     "metadata": {},
     "output_type": "display_data"
    }
   ],
   "source": [
    "paste(\"She\", \"sells\", \"sea\", \"shells\", \"by\", \"the\", \"sea\", \"shore\", sep = \" \")"
   ]
  },
  {
   "cell_type": "markdown",
   "id": "8306d398",
   "metadata": {},
   "source": [
    "The other way gives a single character vector as the unnamed argument and uses the \"collapse\" named argument to specify which characters you want between strings as they are pasted together."
   ]
  },
  {
   "cell_type": "code",
   "execution_count": 38,
   "id": "fa0e7723",
   "metadata": {},
   "outputs": [
    {
     "data": {
      "text/html": [
       "'Stop *CLAP* emphasizing *CLAP* your *CLAP* tweets *CLAP* by *CLAP* putting *CLAP* clap *CLAP* emojis *CLAP* between *CLAP* every *CLAP* word'"
      ],
      "text/latex": [
       "'Stop *CLAP* emphasizing *CLAP* your *CLAP* tweets *CLAP* by *CLAP* putting *CLAP* clap *CLAP* emojis *CLAP* between *CLAP* every *CLAP* word'"
      ],
      "text/markdown": [
       "'Stop *CLAP* emphasizing *CLAP* your *CLAP* tweets *CLAP* by *CLAP* putting *CLAP* clap *CLAP* emojis *CLAP* between *CLAP* every *CLAP* word'"
      ],
      "text/plain": [
       "[1] \"Stop *CLAP* emphasizing *CLAP* your *CLAP* tweets *CLAP* by *CLAP* putting *CLAP* clap *CLAP* emojis *CLAP* between *CLAP* every *CLAP* word\""
      ]
     },
     "metadata": {},
     "output_type": "display_data"
    }
   ],
   "source": [
    "my.request <- c(\"Stop\", \"emphasizing\", \"your\", \"tweets\", \"by\", \"putting\", \"clap\", \"emojis\", \"between\", \"every\", \"word\")\n",
    "paste(my.request, collapse = \" *CLAP* \")"
   ]
  },
  {
   "cell_type": "markdown",
   "id": "542763c8",
   "metadata": {},
   "source": [
    "Now, to do the inverse operation, you can use the **strsplit** function, which uses the \"split\" named argument to specify which characters define a split point and should be removed."
   ]
  },
  {
   "cell_type": "code",
   "execution_count": 39,
   "id": "5cc96387",
   "metadata": {},
   "outputs": [
    {
     "name": "stdout",
     "output_type": "stream",
     "text": [
      "[1] \"She\"    \"sells\"  \"sea\"    \"shells\" \"by\"     \"the\"    \"sea\"    \"shore\" \n"
     ]
    }
   ],
   "source": [
    "tongue.twister <- 'She sells sea shells by the sea shore'\n",
    "print(strsplit(tongue.twister, split = \" \")[[1]])"
   ]
  },
  {
   "cell_type": "markdown",
   "id": "a52a993e",
   "metadata": {},
   "source": [
    "Ignore why the [[1]] is there for now, though it is necessary.  The section on lists will clarify what this means."
   ]
  },
  {
   "cell_type": "markdown",
   "id": "749f964a",
   "metadata": {},
   "source": [
    "### In-Class Exercise 2: Formulas\n",
    "For regression models (and elsewhere), many packages have adopted the design pattern of requiring a formula that encodes exactly how your model should work.  We will see something like this in session 4.\n",
    "\n",
    "1. Here is how to accomplish this.  You will first make a string describing how your formula should work.    To do this, concatenate strings of independent variables together with \" + \" and separate this result from your dependent variable by \" ~ \".  Pretend a colleague just sent you an email with the dependent and independent variables they want to use.  You have copied and pasted those strings into your R script.  So start with the following:"
   ]
  },
  {
   "cell_type": "code",
   "execution_count": 40,
   "id": "4f36d2ab",
   "metadata": {},
   "outputs": [],
   "source": [
    "dep.var <- \"death\"\n",
    "indep.vars <- \"age, sex, race, bun, creatinine\""
   ]
  },
  {
   "cell_type": "markdown",
   "id": "c07bfe80",
   "metadata": {},
   "source": [
    "Using the concepts we have just discussed, write code to create a string (i.e. character data) that looks like the following: \n",
    "\n",
    "\"death ~ age + sex + race + bun + creatinine\"\n",
    "\n",
    "Hint: try splitting the independent variables string up and then recombining.\n",
    "\n",
    "2. Next, coerce this string to the formula data type using the **as.formula** function.\n",
    "\n",
    "**Solution:**"
   ]
  },
  {
   "cell_type": "code",
   "execution_count": 41,
   "id": "8a50eece-3c2c-44aa-9dfa-1a37290287f9",
   "metadata": {
    "collapsed": true,
    "jupyter": {
     "outputs_hidden": true
    },
    "tags": []
   },
   "outputs": [
    {
     "name": "stdout",
     "output_type": "stream",
     "text": [
      "death ~ age + sex + race + bun + creatinine\n"
     ]
    }
   ],
   "source": [
    "# step-by-step solution\n",
    "indep.vars <- strsplit(indep.vars, split = \", \")[[1]]\n",
    "indep.vars <- paste(indep.vars, collapse = \" + \")\n",
    "formula <- paste(dep.var, indep.vars, sep = \" ~ \")\n",
    "formula <- as.formula(formula)\n",
    "\n",
    "# compact solution\n",
    "formula <- as.formula(paste(dep.var, \n",
    "                            paste(strsplit(indep.vars, split = \", \")[[1]], collapse = \" + \"), \n",
    "                            sep = \" ~ \"))\n",
    "\n",
    "print(formula)"
   ]
  },
  {
   "cell_type": "markdown",
   "id": "60c0cc63",
   "metadata": {},
   "source": [
    "### Named Vectors\n",
    "Vectors may have their elements named, which can be useful to keep track of what data in a vector represents. This often provides a more convenient and natural way to reference a vector's elements than through the vector's integer indices.  First let's create a set of names in a separate character vector."
   ]
  },
  {
   "cell_type": "code",
   "execution_count": 8,
   "id": "4dd298b3",
   "metadata": {},
   "outputs": [
    {
     "name": "stdout",
     "output_type": "stream",
     "text": [
      "[1] \"Wanda\"       \"Cosmo\"       \"Timmy\"       \"Vicky\"       \"Mr. Crocker\"\n"
     ]
    },
    {
     "data": {
      "text/html": [
       "TRUE"
      ],
      "text/latex": [
       "TRUE"
      ],
      "text/markdown": [
       "TRUE"
      ],
      "text/plain": [
       "[1] TRUE"
      ]
     },
     "metadata": {},
     "output_type": "display_data"
    }
   ],
   "source": [
    "death.dates <- c(2022L, 2018L, 2023L, 2019L, 2015L)\n",
    "patient.names <- c(\"Wanda\", \"Cosmo\", \"Timmy\", \"Vicky\", \"Mr. Crocker\")\n",
    "print(patient.names)\n",
    "length(patient.names) == length(death.dates)"
   ]
  },
  {
   "cell_type": "markdown",
   "id": "7e67af7d",
   "metadata": {},
   "source": [
    "Vectors have \"names\" metadata that you can check using the **names** function.  Since we constructed unnamed vectors, the names metadata has nothing assigned to it to start:"
   ]
  },
  {
   "cell_type": "code",
   "execution_count": 9,
   "id": "2d83a68c-f3d4-4246-9bcf-012cad8bfbfc",
   "metadata": {},
   "outputs": [
    {
     "data": {
      "text/plain": [
       "NULL"
      ]
     },
     "metadata": {},
     "output_type": "display_data"
    }
   ],
   "source": [
    "names(death.dates)"
   ]
  },
  {
   "cell_type": "markdown",
   "id": "9e0b345b-c987-4962-9330-68501107e674",
   "metadata": {},
   "source": [
    "Now we can assign our patient data to the death.dates vector's names-metadata with the following syntax."
   ]
  },
  {
   "cell_type": "code",
   "execution_count": 10,
   "id": "3a79726f",
   "metadata": {},
   "outputs": [
    {
     "name": "stdout",
     "output_type": "stream",
     "text": [
      "      Wanda       Cosmo       Timmy       Vicky Mr. Crocker \n",
      "       2022        2018        2023        2019        2015 \n"
     ]
    }
   ],
   "source": [
    "names(death.dates) <- patient.names\n",
    "print(death.dates)"
   ]
  },
  {
   "cell_type": "markdown",
   "id": "d172b349",
   "metadata": {},
   "source": [
    "Rather than assigning the names after the fact, we could have instead given the names when we first constructed the vector.  Note that in this format, you can choose to write the names without the quotations, unless there is a space in the character string.  "
   ]
  },
  {
   "cell_type": "code",
   "execution_count": 11,
   "id": "5c7f0bbc",
   "metadata": {},
   "outputs": [
    {
     "name": "stdout",
     "output_type": "stream",
     "text": [
      "      Wanda       Cosmo       Timmy       Vicky Mr. Crocker \n",
      "       2022        2015        2017        2020        2019 \n"
     ]
    }
   ],
   "source": [
    "death.dates <- c(Wanda = 2022L, Cosmo = 2015L, Timmy = 2017L, \n",
    "                 Vicky = 2020L, \"Mr. Crocker\" = 2019L)\n",
    "print(death.dates)"
   ]
  },
  {
   "cell_type": "markdown",
   "id": "e2d0414e",
   "metadata": {},
   "source": [
    "### Recycling & Vector Operations\n",
    "\n",
    "What if we wanted to quickly compute if a patient died post-pandemic (approximately)?  We might be tempted to write something like \"death.dates >= 2020\". Let's try this out."
   ]
  },
  {
   "cell_type": "code",
   "execution_count": 12,
   "id": "bc88ad0e",
   "metadata": {},
   "outputs": [
    {
     "name": "stdout",
     "output_type": "stream",
     "text": [
      "      Wanda       Cosmo       Timmy       Vicky Mr. Crocker \n",
      "       TRUE       FALSE       FALSE        TRUE       FALSE \n"
     ]
    }
   ],
   "source": [
    "print(death.dates >= 2020L)"
   ]
  },
  {
   "cell_type": "markdown",
   "id": "41ad73db",
   "metadata": {},
   "source": [
    "How did that work?  One of these is a vector, and the other is an integer.  How could a computer compare a vector to an integer?  We are in luck! Since the elements of a vector are all of a single type, the computer knows to compare the integer to each element of the vector, one-by-one.  If these are compatible, then the comparison operator will work.  In this case, we are \"recycling\" the integer 2020.  \n",
    "\n",
    "This extends further than comparisons.  For example, let's say you want to convert a bunch of weights from kilograms to pounds.  The same concept works perfectly here:"
   ]
  },
  {
   "cell_type": "code",
   "execution_count": 13,
   "id": "22d6fc25",
   "metadata": {},
   "outputs": [
    {
     "name": "stdout",
     "output_type": "stream",
     "text": [
      "[1] 156.5266 136.6852 114.6392 127.8668 185.1864\n"
     ]
    }
   ],
   "source": [
    "weight.kgs <- c(71, 62, 52, 58, 84)\n",
    "weight.lbs <- weight.kgs*2.2046\n",
    "print(weight.lbs)"
   ]
  },
  {
   "cell_type": "markdown",
   "id": "ac612ccf",
   "metadata": {},
   "source": [
    "Using reclycing, many of the operations we discussed on basic data types extend very cleanly over to vectors.  While not technically recycling, the same sorts of intuitions allow two vectors of the same length to use the same operations we discussed earlier.  R will just go element-by-element through each vector and check if the operation is valid and what it evaluates to.  For example,"
   ]
  },
  {
   "cell_type": "code",
   "execution_count": 14,
   "id": "39a0fc95",
   "metadata": {},
   "outputs": [
    {
     "name": "stdout",
     "output_type": "stream",
     "text": [
      "[1]  TRUE FALSE  TRUE\n",
      "[1]  7 15 -4\n"
     ]
    }
   ],
   "source": [
    "x <- c(1,10, -4)\n",
    "y <- c(6, 5, 0)\n",
    "print(y > x)\n",
    "print(x + y)"
   ]
  },
  {
   "cell_type": "markdown",
   "id": "10e7718f",
   "metadata": {},
   "source": [
    "### Vector Indexing Patterns\n",
    "You can access single elements by\n",
    "- Integer Index\n",
    "- Name (if named vector)\n",
    "\n",
    "You can access multiple elements at once by using\n",
    "- Integer Vectors\n",
    "- Character Vectors (of names if named vector)\n",
    "- Logical Vectors\n",
    "\n",
    "All of these make use of the single bracket notation after the variable name."
   ]
  },
  {
   "cell_type": "code",
   "execution_count": 15,
   "id": "3d63c77b",
   "metadata": {},
   "outputs": [
    {
     "data": {
      "text/html": [
       "<strong>Cosmo:</strong> 2015"
      ],
      "text/latex": [
       "\\textbf{Cosmo:} 2015"
      ],
      "text/markdown": [
       "**Cosmo:** 2015"
      ],
      "text/plain": [
       "Cosmo \n",
       " 2015 "
      ]
     },
     "metadata": {},
     "output_type": "display_data"
    },
    {
     "data": {
      "text/html": [
       "<strong>Wanda:</strong> 2022"
      ],
      "text/latex": [
       "\\textbf{Wanda:} 2022"
      ],
      "text/markdown": [
       "**Wanda:** 2022"
      ],
      "text/plain": [
       "Wanda \n",
       " 2022 "
      ]
     },
     "metadata": {},
     "output_type": "display_data"
    }
   ],
   "source": [
    "death.dates['Cosmo']\n",
    "death.dates[1]"
   ]
  },
  {
   "cell_type": "code",
   "execution_count": 16,
   "id": "b4cf61d0-6c0b-402b-a866-d98f8267c03b",
   "metadata": {},
   "outputs": [
    {
     "name": "stdout",
     "output_type": "stream",
     "text": [
      "Cosmo Wanda \n",
      " 2015  2022 \n",
      "Cosmo Wanda \n",
      " 2015  2022 \n",
      "Wanda Cosmo \n",
      " 2022  2015 \n"
     ]
    }
   ],
   "source": [
    "print(death.dates[c(2,1)])\n",
    "print(death.dates[c(\"Cosmo\", \"Wanda\")])\n",
    "print(death.dates[c(T,T,F,F,F)])"
   ]
  },
  {
   "cell_type": "markdown",
   "id": "3033eb43-96a0-459f-8e5f-31f40865a119",
   "metadata": {},
   "source": [
    "Sometimes, we may want to do some consecutive integer indexing, such as if you want to only examine the first 5 entries of a vector.  R has some \"syntactical sugar\" for creating consecutive integer vectors.  We can use this for checking the first few entries of a vector."
   ]
  },
  {
   "cell_type": "code",
   "execution_count": 17,
   "id": "7a1abe4c-53f3-472b-825d-6721db485883",
   "metadata": {},
   "outputs": [
    {
     "name": "stdout",
     "output_type": "stream",
     "text": [
      " [1]  1  2  3  4  5  6  7  8  9 10\n",
      "Wanda Cosmo Timmy \n",
      " 2022  2015  2017 \n"
     ]
    }
   ],
   "source": [
    "print(1:10)\n",
    "print(death.dates[1:3])"
   ]
  },
  {
   "cell_type": "markdown",
   "id": "2273e78e",
   "metadata": {},
   "source": [
    "Logical indexing is a bit different than the others, since you must create a logical vector which is the same length as the original vector you care about.  Then the elements associated with a TRUE value are the ones that are extracted. I find that logical/boolean indexing is often times the most useful form of indexing.  We typically have datasets and want to subset on patients that meet some particular criteria.  This criteria can be perfectly expressed through a logical vector. Note that a logical vector does not necessarily need the same names as the vector it is indexing.  Earlier, we computed who had died after the pandemic.  We can use this to do logical/boolean indexing."
   ]
  },
  {
   "cell_type": "code",
   "execution_count": 19,
   "id": "8c1b1851",
   "metadata": {},
   "outputs": [
    {
     "data": {
      "text/html": [
       "<dl class=dl-horizontal>\n",
       "\t<dt>Wanda</dt>\n",
       "\t\t<dd>2022</dd>\n",
       "\t<dt>Cosmo</dt>\n",
       "\t\t<dd>2015</dd>\n",
       "\t<dt>Timmy</dt>\n",
       "\t\t<dd>2017</dd>\n",
       "\t<dt>Vicky</dt>\n",
       "\t\t<dd>2020</dd>\n",
       "\t<dt>Mr. Crocker</dt>\n",
       "\t\t<dd>2019</dd>\n",
       "</dl>\n"
      ],
      "text/latex": [
       "\\begin{description*}\n",
       "\\item[Wanda] 2022\n",
       "\\item[Cosmo] 2015\n",
       "\\item[Timmy] 2017\n",
       "\\item[Vicky] 2020\n",
       "\\item[Mr. Crocker] 2019\n",
       "\\end{description*}\n"
      ],
      "text/markdown": [
       "Wanda\n",
       ":   2022Cosmo\n",
       ":   2015Timmy\n",
       ":   2017Vicky\n",
       ":   2020Mr. Crocker\n",
       ":   2019\n",
       "\n"
      ],
      "text/plain": [
       "      Wanda       Cosmo       Timmy       Vicky Mr. Crocker \n",
       "       2022        2015        2017        2020        2019 "
      ]
     },
     "metadata": {},
     "output_type": "display_data"
    },
    {
     "data": {
      "text/html": [
       "<dl class=dl-horizontal>\n",
       "\t<dt>Wanda</dt>\n",
       "\t\t<dd>TRUE</dd>\n",
       "\t<dt>Cosmo</dt>\n",
       "\t\t<dd>FALSE</dd>\n",
       "\t<dt>Timmy</dt>\n",
       "\t\t<dd>FALSE</dd>\n",
       "\t<dt>Vicky</dt>\n",
       "\t\t<dd>TRUE</dd>\n",
       "\t<dt>Mr. Crocker</dt>\n",
       "\t\t<dd>FALSE</dd>\n",
       "</dl>\n"
      ],
      "text/latex": [
       "\\begin{description*}\n",
       "\\item[Wanda] TRUE\n",
       "\\item[Cosmo] FALSE\n",
       "\\item[Timmy] FALSE\n",
       "\\item[Vicky] TRUE\n",
       "\\item[Mr. Crocker] FALSE\n",
       "\\end{description*}\n"
      ],
      "text/markdown": [
       "Wanda\n",
       ":   TRUECosmo\n",
       ":   FALSETimmy\n",
       ":   FALSEVicky\n",
       ":   TRUEMr. Crocker\n",
       ":   FALSE\n",
       "\n"
      ],
      "text/plain": [
       "      Wanda       Cosmo       Timmy       Vicky Mr. Crocker \n",
       "       TRUE       FALSE       FALSE        TRUE       FALSE "
      ]
     },
     "metadata": {},
     "output_type": "display_data"
    },
    {
     "data": {
      "text/html": [
       "<dl class=dl-horizontal>\n",
       "\t<dt>Wanda</dt>\n",
       "\t\t<dd>2022</dd>\n",
       "\t<dt>Vicky</dt>\n",
       "\t\t<dd>2020</dd>\n",
       "</dl>\n"
      ],
      "text/latex": [
       "\\begin{description*}\n",
       "\\item[Wanda] 2022\n",
       "\\item[Vicky] 2020\n",
       "\\end{description*}\n"
      ],
      "text/markdown": [
       "Wanda\n",
       ":   2022Vicky\n",
       ":   2020\n",
       "\n"
      ],
      "text/plain": [
       "Wanda Vicky \n",
       " 2022  2020 "
      ]
     },
     "metadata": {},
     "output_type": "display_data"
    },
    {
     "name": "stdout",
     "output_type": "stream",
     "text": [
      "[1] \"Wanda\" \"Vicky\"\n"
     ]
    }
   ],
   "source": [
    "death.dates\n",
    "pandemic.selection <- death.dates >= 2020L\n",
    "pandemic.selection\n",
    "x <- death.dates[pandemic.selection]\n",
    "x\n",
    "print(names(x))"
   ]
  },
  {
   "cell_type": "markdown",
   "id": "dd1bc450-0221-4035-92d4-eb1d1f1c6ca3",
   "metadata": {},
   "source": [
    "### In-Class Exercise 3: Conditional Averages\n",
    "Consider the following made-up age data and observe how the mean function is used to calculate an average from a vector."
   ]
  },
  {
   "cell_type": "code",
   "execution_count": 53,
   "id": "040a2cd2-8b4e-48f0-883d-9dd9f31e1daa",
   "metadata": {},
   "outputs": [
    {
     "data": {
      "text/html": [
       "38.625"
      ],
      "text/latex": [
       "38.625"
      ],
      "text/markdown": [
       "38.625"
      ],
      "text/plain": [
       "[1] 38.625"
      ]
     },
     "metadata": {},
     "output_type": "display_data"
    }
   ],
   "source": [
    "ages <- c(23L, 38L, 16L, 52L, 73L, 31L, 15L, 61L)\n",
    "mean(ages)"
   ]
  },
  {
   "cell_type": "code",
   "execution_count": null,
   "id": "19f1c41c-6a5f-408b-8b15-f9e830b4bf51",
   "metadata": {},
   "outputs": [],
   "source": []
  },
  {
   "cell_type": "markdown",
   "id": "0b8ca5b3-4fbc-4767-be89-2bbf25000601",
   "metadata": {},
   "source": [
    "1. Define working-age individuals as those with age 18-65. Create a logical vector that identifies who is working-age.  Reference: sections on logical operations and vector operations\n",
    "2. Compute the average age of all working-aged individuals in this \"dataset\".  Reference: section on vector indexing patterns.\n",
    "\n",
    "Solution:"
   ]
  },
  {
   "cell_type": "code",
   "execution_count": 54,
   "id": "8c0d983c-8733-453d-a0b6-6d88b16dddbc",
   "metadata": {
    "collapsed": true,
    "jupyter": {
     "outputs_hidden": true
    },
    "tags": []
   },
   "outputs": [
    {
     "data": {
      "text/html": [
       "41"
      ],
      "text/latex": [
       "41"
      ],
      "text/markdown": [
       "41"
      ],
      "text/plain": [
       "[1] 41"
      ]
     },
     "metadata": {},
     "output_type": "display_data"
    },
    {
     "data": {
      "text/html": [
       "41"
      ],
      "text/latex": [
       "41"
      ],
      "text/markdown": [
       "41"
      ],
      "text/plain": [
       "[1] 41"
      ]
     },
     "metadata": {},
     "output_type": "display_data"
    }
   ],
   "source": [
    "# step-by-step solution\n",
    "adult <- ages >= 18L\n",
    "not.retired <- ages <= 65L\n",
    "working <- adult & not.retired\n",
    "ages.working <- ages[working]\n",
    "mean(ages.working)\n",
    "\n",
    "# compact solution\n",
    "mean(ages[(ages >= 18L) & (ages <= 65L)])"
   ]
  },
  {
   "cell_type": "markdown",
   "id": "1a6db853",
   "metadata": {},
   "source": [
    "### Factor Data Types\n",
    "Surprise!  There's actually another data type you should know, but it *only* applies to vectors.  It is called a factor.  A vector with factor as the underlying data type superficially looks to us as a character vector.  However, it is actually coded under the hood like an integer vector.  A factor vector is a character vector where we know that the elements can only take on a certain number of *levels*.  For example, \"MALE\" or FEMALE (ignoring intersex for simplicity).  Coercing a character vector to a factor vector gives the computer extra information on how the vector should behave and interact."
   ]
  },
  {
   "cell_type": "code",
   "execution_count": 55,
   "id": "7cc02bf0",
   "metadata": {},
   "outputs": [
    {
     "name": "stdout",
     "output_type": "stream",
     "text": [
      "[1] MALE   FEMALE MALE   MALE   FEMALE\n",
      "Levels: FEMALE MALE\n"
     ]
    }
   ],
   "source": [
    "x <- factor(c('MALE', 'FEMALE', 'MALE', 'MALE', 'FEMALE'))\n",
    "print(x)"
   ]
  },
  {
   "cell_type": "markdown",
   "id": "73a1a349",
   "metadata": {},
   "source": [
    "We can also examine which levels were automatically inferred from the **levels** function.  You can also replace the levels yourself to change how the information is displayed."
   ]
  },
  {
   "cell_type": "code",
   "execution_count": 56,
   "id": "0b981959",
   "metadata": {},
   "outputs": [
    {
     "name": "stdout",
     "output_type": "stream",
     "text": [
      "[1] male   female male   male   female\n",
      "Levels: female male\n"
     ]
    }
   ],
   "source": [
    "levels(x) <- c('female', 'male')\n",
    "print(x)"
   ]
  },
  {
   "cell_type": "markdown",
   "id": "d97731db",
   "metadata": {},
   "source": [
    "Factor vectors can be ordered or unordered and are unordered by default.  Making a factor vector ordered gives further information to the computer on how the vector should behave.  Ordered factors *do* require you to provide the levels argument explicitly, because this argument also specifies the ordering of the levels."
   ]
  },
  {
   "cell_type": "code",
   "execution_count": 57,
   "id": "648a22d9",
   "metadata": {},
   "outputs": [
    {
     "name": "stdout",
     "output_type": "stream",
     "text": [
      "[1] high   medium high   high   low   \n",
      "Levels: low < medium < high\n"
     ]
    }
   ],
   "source": [
    "x <- factor(c('high', 'medium', 'high', 'high', 'low'), \n",
    "            ordered = TRUE, levels = c('low', 'medium', 'high'))\n",
    "print(x)"
   ]
  },
  {
   "cell_type": "markdown",
   "id": "cdfaca77-9053-441e-97a2-6d63d0b7fd6e",
   "metadata": {},
   "source": [
    "One final thing to note - you may receive data where states or statuses have already been \"coded\" as integers.  Say 0 for non-smoker, 1 for ex-smoker, and 2 for current smoker.  These should be coerced to an ordered factor with the levels argument taking in an integer vector of c(0L,1L,2L)."
   ]
  },
  {
   "cell_type": "markdown",
   "id": "496335d7",
   "metadata": {},
   "source": [
    "## Lists\n",
    "A list can be thought of as an \"all-purpose\" container.  It is different than a vector in that its elements can be of *any* data types, even other lists or vectors!  Because elements of a list can be of different types, it is best practice to always use named lists.  Naming works the same way as with vectors."
   ]
  },
  {
   "cell_type": "code",
   "execution_count": 58,
   "id": "ca6a0d09",
   "metadata": {},
   "outputs": [
    {
     "name": "stdout",
     "output_type": "stream",
     "text": [
      "$fav.color\n",
      "[1] \"blue\"\n",
      "\n",
      "$weight\n",
      "[1] 170\n",
      "\n",
      "$super.cool\n",
      "[1] TRUE\n",
      "\n",
      "$fav.drinks\n",
      "[1] \"Beer\"   \"Coffee\" \"Tea\"   \n",
      "\n"
     ]
    }
   ],
   "source": [
    "profile.adi <- list(fav.color = \"blue\", weight = 170L, super.cool = TRUE, fav.drinks = c(\"Beer\", \"Coffee\", \"Tea\"))\n",
    "print(profile.adi)"
   ]
  },
  {
   "cell_type": "markdown",
   "id": "ebf86937",
   "metadata": {},
   "source": [
    "To access an element of a list, there are 2 notations that can be used.  First is the $ notation."
   ]
  },
  {
   "cell_type": "code",
   "execution_count": 59,
   "id": "8730bc79",
   "metadata": {},
   "outputs": [
    {
     "data": {
      "text/html": [
       "TRUE"
      ],
      "text/latex": [
       "TRUE"
      ],
      "text/markdown": [
       "TRUE"
      ],
      "text/plain": [
       "[1] TRUE"
      ]
     },
     "metadata": {},
     "output_type": "display_data"
    }
   ],
   "source": [
    "profile.adi$super.cool"
   ]
  },
  {
   "cell_type": "markdown",
   "id": "df0f496a",
   "metadata": {},
   "source": [
    "Next is the double bracket notation [[]]."
   ]
  },
  {
   "cell_type": "code",
   "execution_count": 60,
   "id": "7d8f1e48",
   "metadata": {},
   "outputs": [
    {
     "data": {
      "text/html": [
       "'blue'"
      ],
      "text/latex": [
       "'blue'"
      ],
      "text/markdown": [
       "'blue'"
      ],
      "text/plain": [
       "[1] \"blue\""
      ]
     },
     "metadata": {},
     "output_type": "display_data"
    },
    {
     "data": {
      "text/html": [
       "'blue'"
      ],
      "text/latex": [
       "'blue'"
      ],
      "text/markdown": [
       "'blue'"
      ],
      "text/plain": [
       "[1] \"blue\""
      ]
     },
     "metadata": {},
     "output_type": "display_data"
    }
   ],
   "source": [
    "profile.adi[[1]]\n",
    "profile.adi[['fav.color']]"
   ]
  },
  {
   "cell_type": "markdown",
   "id": "0d34e383",
   "metadata": {},
   "source": [
    "Make sure not to use the single bracket notation here.  If you do, you'll get the following:"
   ]
  },
  {
   "cell_type": "code",
   "execution_count": 61,
   "id": "e600b6c8",
   "metadata": {},
   "outputs": [
    {
     "data": {
      "text/html": [
       "<strong>$fav.color</strong> = 'blue'"
      ],
      "text/latex": [
       "\\textbf{\\$fav.color} = 'blue'"
      ],
      "text/markdown": [
       "**$fav.color** = 'blue'"
      ],
      "text/plain": [
       "$fav.color\n",
       "[1] \"blue\"\n"
      ]
     },
     "metadata": {},
     "output_type": "display_data"
    },
    {
     "data": {
      "text/html": [
       "'list'"
      ],
      "text/latex": [
       "'list'"
      ],
      "text/markdown": [
       "'list'"
      ],
      "text/plain": [
       "[1] \"list\""
      ]
     },
     "metadata": {},
     "output_type": "display_data"
    }
   ],
   "source": [
    "profile.adi[1]\n",
    "class(profile.adi[1])"
   ]
  },
  {
   "cell_type": "markdown",
   "id": "c0fe1caf",
   "metadata": {},
   "source": [
    "which is a list with a single element.  Not the element itself.  The single bracket notation can be used to extract a sublist however."
   ]
  },
  {
   "cell_type": "code",
   "execution_count": 62,
   "id": "2fbb80e8",
   "metadata": {},
   "outputs": [
    {
     "name": "stdout",
     "output_type": "stream",
     "text": [
      "$fav.color\n",
      "[1] \"blue\"\n",
      "\n",
      "$super.cool\n",
      "[1] TRUE\n",
      "\n"
     ]
    }
   ],
   "source": [
    "print(profile.adi[c('fav.color', 'super.cool')])"
   ]
  },
  {
   "cell_type": "markdown",
   "id": "9d8dd724",
   "metadata": {},
   "source": [
    "As we can see, since a list is fundamentally different than a vector and doesn't have a common basic data type, the class function simply returns \"list\" now (which we actually saw earlier)."
   ]
  },
  {
   "cell_type": "code",
   "execution_count": 63,
   "id": "9d1dfa81",
   "metadata": {},
   "outputs": [
    {
     "data": {
      "text/html": [
       "'list'"
      ],
      "text/latex": [
       "'list'"
      ],
      "text/markdown": [
       "'list'"
      ],
      "text/plain": [
       "[1] \"list\""
      ]
     },
     "metadata": {},
     "output_type": "display_data"
    }
   ],
   "source": [
    "class(profile.adi)"
   ]
  },
  {
   "cell_type": "markdown",
   "id": "5a0bf8c9-6b95-4108-a8a3-6c663705f0fa",
   "metadata": {},
   "source": [
    "### Adding/Replacing Elements to a List\n",
    "Sometimes you may want to add a new piece of information to a list or edit existing information.  This has a very simple syntax"
   ]
  },
  {
   "cell_type": "code",
   "execution_count": 64,
   "id": "73f0d785-2635-4684-8876-ead06b96f3f6",
   "metadata": {},
   "outputs": [
    {
     "name": "stdout",
     "output_type": "stream",
     "text": [
      "$fav.color\n",
      "[1] \"blue\"\n",
      "\n",
      "$weight\n",
      "[1] 175\n",
      "\n",
      "$super.cool\n",
      "[1] TRUE\n",
      "\n",
      "$fav.drinks\n",
      "[1] \"Beer\"   \"Coffee\" \"Tea\"   \n",
      "\n",
      "$fav.sports\n",
      "[1] \"Soccer\"   \"Squash\"   \"Swimming\"\n",
      "\n",
      "$age\n",
      "[1] 29\n",
      "\n"
     ]
    }
   ],
   "source": [
    "profile.adi$fav.sports <- c(\"Soccer\", \"Squash\", \"Swimming\")\n",
    "profile.adi[[\"age\"]] <- 29L\n",
    "profile.adi$weight <- 175L\n",
    "print(profile.adi)"
   ]
  },
  {
   "cell_type": "markdown",
   "id": "3a1d7995",
   "metadata": {},
   "source": [
    "## DataFrames\n",
    "\n",
    "At a high-level, a dataframe is analogous to an excel sheet.  We will load our datasets directly from excel sheets or .csv files, and their data will be inserted into a container called a DataFrame in R.  Under the hood, a DataFrame is effectively a glorified named list, where each list element is a vector of a common length. Let's construct an example DataFrame to show you this."
   ]
  },
  {
   "cell_type": "code",
   "execution_count": 65,
   "id": "97ac2cd3",
   "metadata": {},
   "outputs": [
    {
     "name": "stdout",
     "output_type": "stream",
     "text": [
      "     first.names age    sex blood.thinner\n",
      "MRN1        Remy  20   male          TRUE\n",
      "MRN2    Giovanni  14   male          TRUE\n",
      "MRN3        Inci  24 female         FALSE\n",
      "MRN4       Jamie  28   male          TRUE\n",
      "MRN5       Aarti  31 female         FALSE\n"
     ]
    }
   ],
   "source": [
    "ages <- c(20L, 14L, 24L, 28L, 31L)\n",
    "first.names <- c(\"Remy\", \"Giovanni\", \"Inci\", \"Jamie\", \"Aarti\")\n",
    "ids <- paste(\"MRN\", 1:5, sep = \"\") # 'MRN' is recycled to be compatible with the integer vector.  Integers are coerced to characters \n",
    "sexes <- c(\"male\", \"male\", \"female\", \"male\", \"female\")\n",
    "blood.thinner <- c(T, T, F, T, F)\n",
    "\n",
    "df <- data.frame(first.names = first.names, age = ages, sex = sexes, blood.thinner = blood.thinner,\n",
    "                 row.names = ids, stringsAsFactors = FALSE)\n",
    "print(df)"
   ]
  },
  {
   "cell_type": "markdown",
   "id": "e7db8c80",
   "metadata": {},
   "source": [
    "There are 2 important additional arguments that were given here.  \n",
    "\n",
    "First, row.names.  Recall we said that a DataFrame is a named list of vectors. For example, the 2nd element of the list would have the name 'age' and be associated with the vector of ages.  From the perspective of a DataFrame, these names are the *column names*. However, we can additionally provide *row names* for convenient indexing.  I tend to think of it as follows: each column corresponds to a named vector, and a common set of names are used across all vectors; we call these the row names.  This interpretation is not technically correct, but I think it's useful sometimes.\n",
    "\n",
    "Secondly, the argument stringsAsFactors.  We have a character vector of first.names that should *not* be interpretted as a factor.  However, we also have a character vector of sexes that *should* be interpreted as a factor.  What to do?  General best practice is to set \"stringsAsFactors = FALSE\", so that all character vectors remain character vectors when constructing the data frame.  Then we manually coerce to factors whatever needs to be a factor.  The other option is to set \"stringsAsFactors = TRUE\" if you know ahead of time that each character vector should actually be a factor. Let's do the first option.  Again we repeat - as a dataframe is essentially just a named list of vectors, the same principles of data replacement from lists carries over as well, which allows us to simply do the following:"
   ]
  },
  {
   "cell_type": "code",
   "execution_count": 66,
   "id": "f791aa2d",
   "metadata": {},
   "outputs": [],
   "source": [
    "df$sex <- factor(df$sex)"
   ]
  },
  {
   "cell_type": "markdown",
   "id": "0eb813b0",
   "metadata": {},
   "source": [
    "### Dataframe Indexing Patterns\n",
    "As shown above, since a data frame is like a named list where each element is a vector, we can use use list indexing patterns such as the $ sign and double bracket notation to access particular columns."
   ]
  },
  {
   "cell_type": "code",
   "execution_count": 67,
   "id": "0afcb485",
   "metadata": {},
   "outputs": [
    {
     "name": "stdout",
     "output_type": "stream",
     "text": [
      "[1] 20 14 24 28 31\n",
      "[1]  TRUE  TRUE FALSE  TRUE FALSE\n"
     ]
    }
   ],
   "source": [
    "print(df[['age']])\n",
    "print(df$blood.thinner)"
   ]
  },
  {
   "cell_type": "markdown",
   "id": "737271ff",
   "metadata": {},
   "source": [
    "Since a data frame is \"two-dimensional\", we can also access particular elements by specifying each dimension we care about. We use single-bracket notation here, and we are allowed to mix integer indexing and named indexing across the two dimensions."
   ]
  },
  {
   "cell_type": "code",
   "execution_count": 68,
   "id": "32db204c",
   "metadata": {},
   "outputs": [
    {
     "data": {
      "text/html": [
       "<table>\n",
       "<thead><tr><th></th><th scope=col>age</th><th scope=col>blood.thinner</th></tr></thead>\n",
       "<tbody>\n",
       "\t<tr><th scope=row>MRN5</th><td>31   </td><td>FALSE</td></tr>\n",
       "</tbody>\n",
       "</table>\n"
      ],
      "text/latex": [
       "\\begin{tabular}{r|ll}\n",
       "  & age & blood.thinner\\\\\n",
       "\\hline\n",
       "\tMRN5 & 31    & FALSE\\\\\n",
       "\\end{tabular}\n"
      ],
      "text/markdown": [
       "\n",
       "| <!--/--> | age | blood.thinner |\n",
       "|---|---|---|\n",
       "| MRN5 | 31    | FALSE |\n",
       "\n"
      ],
      "text/plain": [
       "     age blood.thinner\n",
       "MRN5 31  FALSE        "
      ]
     },
     "metadata": {},
     "output_type": "display_data"
    },
    {
     "data": {
      "text/html": [
       "<table>\n",
       "<thead><tr><th></th><th scope=col>age</th><th scope=col>sex</th></tr></thead>\n",
       "<tbody>\n",
       "\t<tr><th scope=row>MRN1</th><td>20    </td><td>male  </td></tr>\n",
       "\t<tr><th scope=row>MRN2</th><td>14    </td><td>male  </td></tr>\n",
       "\t<tr><th scope=row>MRN3</th><td>24    </td><td>female</td></tr>\n",
       "</tbody>\n",
       "</table>\n"
      ],
      "text/latex": [
       "\\begin{tabular}{r|ll}\n",
       "  & age & sex\\\\\n",
       "\\hline\n",
       "\tMRN1 & 20     & male  \\\\\n",
       "\tMRN2 & 14     & male  \\\\\n",
       "\tMRN3 & 24     & female\\\\\n",
       "\\end{tabular}\n"
      ],
      "text/markdown": [
       "\n",
       "| <!--/--> | age | sex |\n",
       "|---|---|---|\n",
       "| MRN1 | 20     | male   |\n",
       "| MRN2 | 14     | male   |\n",
       "| MRN3 | 24     | female |\n",
       "\n"
      ],
      "text/plain": [
       "     age sex   \n",
       "MRN1 20  male  \n",
       "MRN2 14  male  \n",
       "MRN3 24  female"
      ]
     },
     "metadata": {},
     "output_type": "display_data"
    }
   ],
   "source": [
    "df['MRN5',c('age', 'blood.thinner')]\n",
    "df[1:3,c('age','sex')]"
   ]
  },
  {
   "cell_type": "markdown",
   "id": "5df559ea",
   "metadata": {},
   "source": [
    "Lastly of note, if you leave one of the two fields empty, R knows to return *all* the rows (or columns) associated with that field. As you can see, when you specify a single column, you get back a vector.  However, when you specify only a single row, you get a data frame back that only has 1 row.  "
   ]
  },
  {
   "cell_type": "code",
   "execution_count": 69,
   "id": "57b82e8f",
   "metadata": {},
   "outputs": [
    {
     "name": "stdout",
     "output_type": "stream",
     "text": [
      "[1] 20 14 24 28 31\n"
     ]
    },
    {
     "data": {
      "text/html": [
       "<table>\n",
       "<thead><tr><th></th><th scope=col>first.names</th><th scope=col>age</th><th scope=col>sex</th><th scope=col>blood.thinner</th></tr></thead>\n",
       "<tbody>\n",
       "\t<tr><th scope=row>MRN2</th><td>Giovanni</td><td>14      </td><td>male    </td><td>TRUE    </td></tr>\n",
       "</tbody>\n",
       "</table>\n"
      ],
      "text/latex": [
       "\\begin{tabular}{r|llll}\n",
       "  & first.names & age & sex & blood.thinner\\\\\n",
       "\\hline\n",
       "\tMRN2 & Giovanni & 14       & male     & TRUE    \\\\\n",
       "\\end{tabular}\n"
      ],
      "text/markdown": [
       "\n",
       "| <!--/--> | first.names | age | sex | blood.thinner |\n",
       "|---|---|---|---|---|\n",
       "| MRN2 | Giovanni | 14       | male     | TRUE     |\n",
       "\n"
      ],
      "text/plain": [
       "     first.names age sex  blood.thinner\n",
       "MRN2 Giovanni    14  male TRUE         "
      ]
     },
     "metadata": {},
     "output_type": "display_data"
    }
   ],
   "source": [
    "print(df[,'age'])\n",
    "df['MRN2',]"
   ]
  },
  {
   "cell_type": "markdown",
   "id": "0a273995-317d-4a14-9b71-a1f9e4e665c8",
   "metadata": {},
   "source": [
    "It can be useful to combine this with boolean indexing to create relevant subsets of your dataframes."
   ]
  },
  {
   "cell_type": "code",
   "execution_count": 70,
   "id": "9f7c8403",
   "metadata": {},
   "outputs": [
    {
     "name": "stdout",
     "output_type": "stream",
     "text": [
      "     first.names age    sex blood.thinner\n",
      "MRN3        Inci  24 female         FALSE\n",
      "MRN5       Aarti  31 female         FALSE\n"
     ]
    }
   ],
   "source": [
    "select <- df$sex == 'female'\n",
    "df.female <- df[select,]\n",
    "print(df.female)"
   ]
  },
  {
   "cell_type": "markdown",
   "id": "4be4d369",
   "metadata": {},
   "source": [
    "### Handy Functions\n",
    "\n",
    "Get the number of rows and columns for your dataset:"
   ]
  },
  {
   "cell_type": "code",
   "execution_count": 71,
   "id": "24624c74",
   "metadata": {},
   "outputs": [
    {
     "data": {
      "text/html": [
       "5"
      ],
      "text/latex": [
       "5"
      ],
      "text/markdown": [
       "5"
      ],
      "text/plain": [
       "[1] 5"
      ]
     },
     "metadata": {},
     "output_type": "display_data"
    },
    {
     "data": {
      "text/html": [
       "4"
      ],
      "text/latex": [
       "4"
      ],
      "text/markdown": [
       "4"
      ],
      "text/plain": [
       "[1] 4"
      ]
     },
     "metadata": {},
     "output_type": "display_data"
    }
   ],
   "source": [
    "nrow(df)\n",
    "ncol(df)"
   ]
  },
  {
   "cell_type": "markdown",
   "id": "054087f6-0e6a-4ee7-a7ea-59dcb9841a76",
   "metadata": {},
   "source": [
    "Get the column names or row names for your dataframe:"
   ]
  },
  {
   "cell_type": "code",
   "execution_count": 72,
   "id": "7e5a20e7-685d-443f-9929-98dbe61954e7",
   "metadata": {},
   "outputs": [
    {
     "name": "stdout",
     "output_type": "stream",
     "text": [
      "[1] \"MRN1\" \"MRN2\" \"MRN3\" \"MRN4\" \"MRN5\"\n",
      "[1] \"first.names\"   \"age\"           \"sex\"           \"blood.thinner\"\n"
     ]
    }
   ],
   "source": [
    "print(rownames(df))\n",
    "print(colnames(df))"
   ]
  },
  {
   "cell_type": "markdown",
   "id": "8dcee039-221b-4093-abf6-5e5c536f8487",
   "metadata": {},
   "source": [
    "Display the first $n$ rows of your dataset (default is 6):"
   ]
  },
  {
   "cell_type": "code",
   "execution_count": 73,
   "id": "f74d1db8-f080-4cea-b492-87f57e5b315b",
   "metadata": {},
   "outputs": [
    {
     "data": {
      "text/html": [
       "<table>\n",
       "<thead><tr><th></th><th scope=col>first.names</th><th scope=col>age</th><th scope=col>sex</th><th scope=col>blood.thinner</th></tr></thead>\n",
       "<tbody>\n",
       "\t<tr><th scope=row>MRN1</th><td>Remy    </td><td>20      </td><td>male    </td><td> TRUE   </td></tr>\n",
       "\t<tr><th scope=row>MRN2</th><td>Giovanni</td><td>14      </td><td>male    </td><td> TRUE   </td></tr>\n",
       "\t<tr><th scope=row>MRN3</th><td>Inci    </td><td>24      </td><td>female  </td><td>FALSE   </td></tr>\n",
       "</tbody>\n",
       "</table>\n"
      ],
      "text/latex": [
       "\\begin{tabular}{r|llll}\n",
       "  & first.names & age & sex & blood.thinner\\\\\n",
       "\\hline\n",
       "\tMRN1 & Remy     & 20       & male     &  TRUE   \\\\\n",
       "\tMRN2 & Giovanni & 14       & male     &  TRUE   \\\\\n",
       "\tMRN3 & Inci     & 24       & female   & FALSE   \\\\\n",
       "\\end{tabular}\n"
      ],
      "text/markdown": [
       "\n",
       "| <!--/--> | first.names | age | sex | blood.thinner |\n",
       "|---|---|---|---|---|\n",
       "| MRN1 | Remy     | 20       | male     |  TRUE    |\n",
       "| MRN2 | Giovanni | 14       | male     |  TRUE    |\n",
       "| MRN3 | Inci     | 24       | female   | FALSE    |\n",
       "\n"
      ],
      "text/plain": [
       "     first.names age sex    blood.thinner\n",
       "MRN1 Remy        20  male    TRUE        \n",
       "MRN2 Giovanni    14  male    TRUE        \n",
       "MRN3 Inci        24  female FALSE        "
      ]
     },
     "metadata": {},
     "output_type": "display_data"
    }
   ],
   "source": [
    "head(df, 3)"
   ]
  },
  {
   "cell_type": "markdown",
   "id": "f1ca3d1b-78a3-4dd9-9ad1-475972e3d3a8",
   "metadata": {},
   "source": [
    "Get a summary of each column of your dataset:"
   ]
  },
  {
   "cell_type": "code",
   "execution_count": 74,
   "id": "7591500f",
   "metadata": {},
   "outputs": [
    {
     "data": {
      "text/plain": [
       " first.names             age           sex    blood.thinner  \n",
       " Length:5           Min.   :14.0   female:2   Mode :logical  \n",
       " Class :character   1st Qu.:20.0   male  :3   FALSE:2        \n",
       " Mode  :character   Median :24.0              TRUE :3        \n",
       "                    Mean   :23.4                             \n",
       "                    3rd Qu.:28.0                             \n",
       "                    Max.   :31.0                             "
      ]
     },
     "metadata": {},
     "output_type": "display_data"
    }
   ],
   "source": [
    "summary(df)"
   ]
  },
  {
   "cell_type": "markdown",
   "id": "50bd96f2",
   "metadata": {},
   "source": [
    "Note how the summary function used the type information of each vector to produce different summaries for character, factor, and integer/numeric vectors.  \n",
    "\n",
    "Recall how in previous exercises, we used boolean indexing to summarize information on a certain group?  Here, we provide some functionalities to quickly get that summary information on all groups at once; this is called a \"group-by\" operation in other languages. We use a **formula** to specify the two variables we want to relate. We practiced automatically constructing formulas in Exercise 2, but for simple formulas, you can actually just write them in manually without quotations!  Just a little syntactical sugar that R provides. The FUN argument should a function that produces a summary statistic from a vector.  This shows you that functions are just another data type in R and can be given to other functions as arugments!"
   ]
  },
  {
   "cell_type": "code",
   "execution_count": 75,
   "id": "de2dd0a7-cda1-49a6-8916-2ff348b3e6c4",
   "metadata": {
    "tags": []
   },
   "outputs": [
    {
     "data": {
      "text/html": [
       "<table>\n",
       "<thead><tr><th scope=col>sex</th><th scope=col>blood.thinner</th></tr></thead>\n",
       "<tbody>\n",
       "\t<tr><td>female</td><td>0     </td></tr>\n",
       "\t<tr><td>male  </td><td>3     </td></tr>\n",
       "</tbody>\n",
       "</table>\n"
      ],
      "text/latex": [
       "\\begin{tabular}{r|ll}\n",
       " sex & blood.thinner\\\\\n",
       "\\hline\n",
       "\t female & 0     \\\\\n",
       "\t male   & 3     \\\\\n",
       "\\end{tabular}\n"
      ],
      "text/markdown": [
       "\n",
       "| sex | blood.thinner |\n",
       "|---|---|\n",
       "| female | 0      |\n",
       "| male   | 3      |\n",
       "\n"
      ],
      "text/plain": [
       "  sex    blood.thinner\n",
       "1 female 0            \n",
       "2 male   3            "
      ]
     },
     "metadata": {},
     "output_type": "display_data"
    }
   ],
   "source": [
    "aggregate(formula = blood.thinner ~ sex, data = df, FUN = sum)"
   ]
  },
  {
   "cell_type": "markdown",
   "id": "beab6720-e8b7-4dc6-9644-28c6aed59547",
   "metadata": {},
   "source": [
    "### In-Class Exercise 4: Typical Petal Surface Area by Species\n",
    "Load the iris dataset, which is built into base R, as follows"
   ]
  },
  {
   "cell_type": "code",
   "execution_count": 76,
   "id": "a7a5f3b9-b697-4b7e-8f21-159f9ea86ff1",
   "metadata": {},
   "outputs": [
    {
     "data": {
      "text/plain": [
       "  Sepal.Length    Sepal.Width     Petal.Length    Petal.Width   \n",
       " Min.   :4.300   Min.   :2.000   Min.   :1.000   Min.   :0.100  \n",
       " 1st Qu.:5.100   1st Qu.:2.800   1st Qu.:1.600   1st Qu.:0.300  \n",
       " Median :5.800   Median :3.000   Median :4.350   Median :1.300  \n",
       " Mean   :5.843   Mean   :3.057   Mean   :3.758   Mean   :1.199  \n",
       " 3rd Qu.:6.400   3rd Qu.:3.300   3rd Qu.:5.100   3rd Qu.:1.800  \n",
       " Max.   :7.900   Max.   :4.400   Max.   :6.900   Max.   :2.500  \n",
       "       Species  \n",
       " setosa    :50  \n",
       " versicolor:50  \n",
       " virginica :50  \n",
       "                \n",
       "                \n",
       "                "
      ]
     },
     "metadata": {},
     "output_type": "display_data"
    }
   ],
   "source": [
    "data('iris')\n",
    "summary(iris)"
   ]
  },
  {
   "cell_type": "code",
   "execution_count": 20,
   "id": "2e71452f-f98a-4dd1-9e04-df1a79615172",
   "metadata": {},
   "outputs": [
    {
     "data": {
      "text/html": [
       "4.55064931860237"
      ],
      "text/latex": [
       "4.55064931860237"
      ],
      "text/markdown": [
       "4.55064931860237"
      ],
      "text/plain": [
       "[1] 4.550649"
      ]
     },
     "metadata": {},
     "output_type": "display_data"
    }
   ],
   "source": [
    "mean(pi/4*iris$Petal.Length*iris$Petal.Width)"
   ]
  },
  {
   "cell_type": "markdown",
   "id": "6bfa7f64-8dfa-45ac-920e-9f8b034855c8",
   "metadata": {},
   "source": [
    "Note the dataset is now associated with a variable called 'iris'.\n",
    "\n",
    "1. Take a moment to run the head and summary functions on it to get a sense of the dataset.\n",
    "\n",
    "2. We can approximate the shape of a petal with an ellipse.  The formula for the area of an ellipse is $\\text{Area} = \\frac{\\pi}{4}*\\text{Length}*\\text{Width}$. Create a new variable that approximates the petal area using \"Petal.Length\" and \"Petal.Width\".  Reference: sections on \"Dataframe Indexing Patterns\" and \"Vector Operations\".\n",
    "\n",
    "3. Add this data to the dataset as a new column called \"Petal.Area\".  Reference: section \"Adding new elements to a List\".\n",
    "\n",
    "4. The **median** function takes a vector as its argument and outputs the empirical median.  Compute the median Petal Area for each species.\n",
    "\n",
    "**Solution:**"
   ]
  },
  {
   "cell_type": "code",
   "execution_count": 21,
   "id": "5d4df77a-cd14-447c-919e-a10d38304c8b",
   "metadata": {
    "tags": []
   },
   "outputs": [
    {
     "data": {
      "text/html": [
       "<table>\n",
       "<thead><tr><th scope=col>Species</th><th scope=col>Petal.Area</th></tr></thead>\n",
       "<tbody>\n",
       "\t<tr><td>setosa    </td><td>0.2356194 </td></tr>\n",
       "\t<tr><td>versicolor</td><td>4.4100107 </td></tr>\n",
       "\t<tr><td>virginica </td><td>8.9888820 </td></tr>\n",
       "</tbody>\n",
       "</table>\n"
      ],
      "text/latex": [
       "\\begin{tabular}{r|ll}\n",
       " Species & Petal.Area\\\\\n",
       "\\hline\n",
       "\t setosa     & 0.2356194 \\\\\n",
       "\t versicolor & 4.4100107 \\\\\n",
       "\t virginica  & 8.9888820 \\\\\n",
       "\\end{tabular}\n"
      ],
      "text/markdown": [
       "\n",
       "| Species | Petal.Area |\n",
       "|---|---|\n",
       "| setosa     | 0.2356194  |\n",
       "| versicolor | 4.4100107  |\n",
       "| virginica  | 8.9888820  |\n",
       "\n"
      ],
      "text/plain": [
       "  Species    Petal.Area\n",
       "1 setosa     0.2356194 \n",
       "2 versicolor 4.4100107 \n",
       "3 virginica  8.9888820 "
      ]
     },
     "metadata": {},
     "output_type": "display_data"
    }
   ],
   "source": [
    "iris$Petal.Area <- iris$Petal.Length * iris$Petal.Width * pi / 4  # combined steps 2 and 3\n",
    "aggregate(Petal.Area ~ Species, data = iris, FUN = median)"
   ]
  },
  {
   "cell_type": "markdown",
   "id": "0f9d1784",
   "metadata": {},
   "source": [
    "# Working with a Real Dataset\n",
    "## Familiarizing with EHR Data\n",
    "### Loading a .csv Dataset\n",
    "A .csv stands for Comma Separated Values.  A dataset that is stored as an excel file is effectively a .csv with some extra fancy formatting, so it is acceptable to simply save an excel dataset as a .csv and lose the formatting.\n",
    "\n",
    "We have provided you with a .csv of some data from COVID positive patients from our Yale hospitals (deidentified of course).  Your first task will simply be to load the dataset on your own machine.  Here is one generally good practice to start.  Organize your datasets and code into a common project folder.  You likely don't have any code files yet, so let's create a blank one in R studio. \n",
    "\n",
    "- Go to file -> new file -> R script.  This should open a new untitled script within the editor.\n",
    "- Click file -> save as\n",
    "- Navigate to where your dataset is and save your blank script file there.  I called mine \"covid_exploratory_analysis.R\"\n",
    "- Back in R studio, click Session -> Set Working Directory -> To Source File Location\n",
    "\n",
    "What we just did is make it so that when R searches for a file, it knows to look in your project folder.  I'm going to do this manually."
   ]
  },
  {
   "cell_type": "markdown",
   "id": "d475adec",
   "metadata": {},
   "source": [
    "Okay, let's load the dataset. Your command should look like the following, except without the \"../\" below."
   ]
  },
  {
   "cell_type": "code",
   "execution_count": 4,
   "id": "7b64555f",
   "metadata": {},
   "outputs": [
    {
     "data": {
      "text/html": [
       "<table>\n",
       "<thead><tr><th scope=col>ID</th><th scope=col>age</th><th scope=col>femalesex</th><th scope=col>race</th><th scope=col>latino</th><th scope=col>num_vaccine</th><th scope=col>chf_elx_hospital</th><th scope=col>copd_hospital</th><th scope=col>diabetescomp_elx_hospital</th><th scope=col>diabetesuncomp_elx_hospital</th><th scope=col>...</th><th scope=col>vasopressor</th><th scope=col>consult_nephrology</th><th scope=col>cpap</th><th scope=col>crrt</th><th scope=col>ecmo</th><th scope=col>tte</th><th scope=col>discharge_dispsn</th><th scope=col>los</th><th scope=col>readmission30</th><th scope=col>died</th></tr></thead>\n",
       "<tbody>\n",
       "\t<tr><td>12                      </td><td>80                      </td><td>0                       </td><td>White                   </td><td>0                       </td><td>0                       </td><td>1                       </td><td>0                       </td><td>0                       </td><td>0                       </td><td>...                     </td><td>1                       </td><td>0                       </td><td>0                       </td><td>0                       </td><td>0                       </td><td>1                       </td><td>Other                   </td><td> 9.810417               </td><td>0                       </td><td>1                       </td></tr>\n",
       "\t<tr><td>14                      </td><td>68                      </td><td>0                       </td><td>White                   </td><td>0                       </td><td>0                       </td><td>1                       </td><td>0                       </td><td>1                       </td><td>1                       </td><td>...                     </td><td>0                       </td><td>0                       </td><td>0                       </td><td>0                       </td><td>0                       </td><td>1                       </td><td>Skilled Nursing Facility</td><td>29.142361               </td><td>0                       </td><td>0                       </td></tr>\n",
       "\t<tr><td>19                      </td><td>56                      </td><td>0                       </td><td>White                   </td><td>0                       </td><td>0                       </td><td>0                       </td><td>0                       </td><td>0                       </td><td>0                       </td><td>...                     </td><td>0                       </td><td>0                       </td><td>0                       </td><td>0                       </td><td>0                       </td><td>0                       </td><td>Home                    </td><td> 2.827083               </td><td>0                       </td><td>0                       </td></tr>\n",
       "\t<tr><td>29                      </td><td>55                      </td><td>1                       </td><td>White                   </td><td>0                       </td><td>0                       </td><td>0                       </td><td>0                       </td><td>0                       </td><td>0                       </td><td>...                     </td><td>0                       </td><td>0                       </td><td>0                       </td><td>0                       </td><td>0                       </td><td>0                       </td><td>Home                    </td><td> 6.763889               </td><td>0                       </td><td>0                       </td></tr>\n",
       "\t<tr><td>30                      </td><td>83                      </td><td>0                       </td><td>White                   </td><td>0                       </td><td>0                       </td><td>0                       </td><td>1                       </td><td>0                       </td><td>0                       </td><td>...                     </td><td>0                       </td><td>0                       </td><td>0                       </td><td>0                       </td><td>0                       </td><td>0                       </td><td>Other                   </td><td> 0.850000               </td><td>0                       </td><td>0                       </td></tr>\n",
       "\t<tr><td>31                      </td><td>71                      </td><td>1                       </td><td>White                   </td><td>0                       </td><td>0                       </td><td>1                       </td><td>1                       </td><td>1                       </td><td>0                       </td><td>...                     </td><td>1                       </td><td>0                       </td><td>0                       </td><td>0                       </td><td>0                       </td><td>1                       </td><td>Home                    </td><td>25.597917               </td><td>0                       </td><td>0                       </td></tr>\n",
       "</tbody>\n",
       "</table>\n"
      ],
      "text/latex": [
       "\\begin{tabular}{r|lllllllllllllllllllllllllllllllllllllllllllllllllllllllllllllllllllllllllllllll}\n",
       " ID & age & femalesex & race & latino & num\\_vaccine & chf\\_elx\\_hospital & copd\\_hospital & diabetescomp\\_elx\\_hospital & diabetesuncomp\\_elx\\_hospital & ... & vasopressor & consult\\_nephrology & cpap & crrt & ecmo & tte & discharge\\_dispsn & los & readmission30 & died\\\\\n",
       "\\hline\n",
       "\t 12                       & 80                       & 0                        & White                    & 0                        & 0                        & 1                        & 0                        & 0                        & 0                        & ...                      & 1                        & 0                        & 0                        & 0                        & 0                        & 1                        & Other                    &  9.810417                & 0                        & 1                       \\\\\n",
       "\t 14                       & 68                       & 0                        & White                    & 0                        & 0                        & 1                        & 0                        & 1                        & 1                        & ...                      & 0                        & 0                        & 0                        & 0                        & 0                        & 1                        & Skilled Nursing Facility & 29.142361                & 0                        & 0                       \\\\\n",
       "\t 19                       & 56                       & 0                        & White                    & 0                        & 0                        & 0                        & 0                        & 0                        & 0                        & ...                      & 0                        & 0                        & 0                        & 0                        & 0                        & 0                        & Home                     &  2.827083                & 0                        & 0                       \\\\\n",
       "\t 29                       & 55                       & 1                        & White                    & 0                        & 0                        & 0                        & 0                        & 0                        & 0                        & ...                      & 0                        & 0                        & 0                        & 0                        & 0                        & 0                        & Home                     &  6.763889                & 0                        & 0                       \\\\\n",
       "\t 30                       & 83                       & 0                        & White                    & 0                        & 0                        & 0                        & 1                        & 0                        & 0                        & ...                      & 0                        & 0                        & 0                        & 0                        & 0                        & 0                        & Other                    &  0.850000                & 0                        & 0                       \\\\\n",
       "\t 31                       & 71                       & 1                        & White                    & 0                        & 0                        & 1                        & 1                        & 1                        & 0                        & ...                      & 1                        & 0                        & 0                        & 0                        & 0                        & 1                        & Home                     & 25.597917                & 0                        & 0                       \\\\\n",
       "\\end{tabular}\n"
      ],
      "text/markdown": [
       "\n",
       "| ID | age | femalesex | race | latino | num_vaccine | chf_elx_hospital | copd_hospital | diabetescomp_elx_hospital | diabetesuncomp_elx_hospital | ... | vasopressor | consult_nephrology | cpap | crrt | ecmo | tte | discharge_dispsn | los | readmission30 | died |\n",
       "|---|---|---|---|---|---|---|---|---|---|---|---|---|---|---|---|---|---|---|---|---|\n",
       "| 12                       | 80                       | 0                        | White                    | 0                        | 0                        | 1                        | 0                        | 0                        | 0                        | ...                      | 1                        | 0                        | 0                        | 0                        | 0                        | 1                        | Other                    |  9.810417                | 0                        | 1                        |\n",
       "| 14                       | 68                       | 0                        | White                    | 0                        | 0                        | 1                        | 0                        | 1                        | 1                        | ...                      | 0                        | 0                        | 0                        | 0                        | 0                        | 1                        | Skilled Nursing Facility | 29.142361                | 0                        | 0                        |\n",
       "| 19                       | 56                       | 0                        | White                    | 0                        | 0                        | 0                        | 0                        | 0                        | 0                        | ...                      | 0                        | 0                        | 0                        | 0                        | 0                        | 0                        | Home                     |  2.827083                | 0                        | 0                        |\n",
       "| 29                       | 55                       | 1                        | White                    | 0                        | 0                        | 0                        | 0                        | 0                        | 0                        | ...                      | 0                        | 0                        | 0                        | 0                        | 0                        | 0                        | Home                     |  6.763889                | 0                        | 0                        |\n",
       "| 30                       | 83                       | 0                        | White                    | 0                        | 0                        | 0                        | 1                        | 0                        | 0                        | ...                      | 0                        | 0                        | 0                        | 0                        | 0                        | 0                        | Other                    |  0.850000                | 0                        | 0                        |\n",
       "| 31                       | 71                       | 1                        | White                    | 0                        | 0                        | 1                        | 1                        | 1                        | 0                        | ...                      | 1                        | 0                        | 0                        | 0                        | 0                        | 1                        | Home                     | 25.597917                | 0                        | 0                        |\n",
       "\n"
      ],
      "text/plain": [
       "  ID age femalesex race  latino num_vaccine chf_elx_hospital copd_hospital\n",
       "1 12 80  0         White 0      0           1                0            \n",
       "2 14 68  0         White 0      0           1                0            \n",
       "3 19 56  0         White 0      0           0                0            \n",
       "4 29 55  1         White 0      0           0                0            \n",
       "5 30 83  0         White 0      0           0                1            \n",
       "6 31 71  1         White 0      0           1                1            \n",
       "  diabetescomp_elx_hospital diabetesuncomp_elx_hospital ... vasopressor\n",
       "1 0                         0                           ... 1          \n",
       "2 1                         1                           ... 0          \n",
       "3 0                         0                           ... 0          \n",
       "4 0                         0                           ... 0          \n",
       "5 0                         0                           ... 0          \n",
       "6 1                         0                           ... 1          \n",
       "  consult_nephrology cpap crrt ecmo tte discharge_dispsn         los      \n",
       "1 0                  0    0    0    1   Other                     9.810417\n",
       "2 0                  0    0    0    1   Skilled Nursing Facility 29.142361\n",
       "3 0                  0    0    0    0   Home                      2.827083\n",
       "4 0                  0    0    0    0   Home                      6.763889\n",
       "5 0                  0    0    0    0   Other                     0.850000\n",
       "6 0                  0    0    0    1   Home                     25.597917\n",
       "  readmission30 died\n",
       "1 0             1   \n",
       "2 0             0   \n",
       "3 0             0   \n",
       "4 0             0   \n",
       "5 0             0   \n",
       "6 0             0   "
      ]
     },
     "metadata": {},
     "output_type": "display_data"
    }
   ],
   "source": [
    "df <- read.csv(\"../biostats bootcamp 2023.csv\", stringsAsFactors = F)\n",
    "head(df)"
   ]
  },
  {
   "cell_type": "markdown",
   "id": "a021d46e-a735-4a4b-b004-4b883cf8cad8",
   "metadata": {},
   "source": [
    "There are two character columns that should be converted to factor.  Let's do this."
   ]
  },
  {
   "cell_type": "code",
   "execution_count": 79,
   "id": "cfbedcae-4398-4827-8cf3-1d19b71396a6",
   "metadata": {},
   "outputs": [],
   "source": [
    "df$race <- as.factor(df$race)\n",
    "df$discharge_dispsn <- as.factor(df$discharge_dispsn)"
   ]
  },
  {
   "cell_type": "markdown",
   "id": "9de2629d-63b9-47a5-aa0d-cc1db68eea7c",
   "metadata": {},
   "source": [
    "You can use the variable explorer here to look at the dataset like you would an excel sheet.  Double-click it to open it up, so we can go through the variables."
   ]
  },
  {
   "cell_type": "markdown",
   "id": "b3eea9ce-036b-4205-91cc-2a74063625c5",
   "metadata": {},
   "source": [
    "### Categories of Data (Electronic Health Record Perspective)\n",
    "Let's take a look at the different types of variables we have present here:"
   ]
  },
  {
   "cell_type": "code",
   "execution_count": 80,
   "id": "1b7a2ede-deb8-47b9-aa42-3d5a387b54fc",
   "metadata": {},
   "outputs": [
    {
     "name": "stdout",
     "output_type": "stream",
     "text": [
      " [1] \"ID\"                          \"age\"                        \n",
      " [3] \"femalesex\"                   \"race\"                       \n",
      " [5] \"latino\"                      \"num_vaccine\"                \n",
      " [7] \"chf_elx_hospital\"            \"copd_hospital\"              \n",
      " [9] \"diabetescomp_elx_hospital\"   \"diabetesuncomp_elx_hospital\"\n",
      "[11] \"medical_icu\"                 \"diastolic_max\"              \n",
      "[13] \"diastolic_min\"               \"systolic_max\"               \n",
      "[15] \"systolic_min\"                \"pulse_max\"                  \n",
      "[17] \"pulse_min\"                   \"resp_max\"                   \n",
      "[19] \"resp_min\"                    \"spo2_max\"                   \n",
      "[21] \"spo2_min\"                    \"albumin_max\"                \n",
      "[23] \"albumin_min\"                 \"alt_max\"                    \n",
      "[25] \"alt_min\"                     \"ast_max\"                    \n",
      "[27] \"ast_min\"                     \"bicarbonate_max\"            \n",
      "[29] \"bicarbonate_min\"             \"bilidirect_max\"             \n",
      "[31] \"bilidirect_min\"              \"bnp_max\"                    \n",
      "[33] \"bnp_min\"                     \"creatinine_max\"             \n",
      "[35] \"creatinine_min\"              \"glucose_max\"                \n",
      "[37] \"glucose_min\"                 \"hemoglobin_max\"             \n",
      "[39] \"hemoglobin_min\"              \"inr_max\"                    \n",
      "[41] \"inr_min\"                     \"lactate_max\"                \n",
      "[43] \"lactate_min\"                 \"ph_max\"                     \n",
      "[45] \"ph_min\"                      \"plateletcount_max\"          \n",
      "[47] \"plateletcount_min\"           \"sodium_max\"                 \n",
      "[49] \"sodium_min\"                  \"wbcc_max\"                   \n",
      "[51] \"wbcc_min\"                    \"acetaminophenmed\"           \n",
      "[53] \"aspirin\"                     \"hydroxychloroquine\"         \n",
      "[55] \"remdesivir\"                  \"aceinhibitor\"               \n",
      "[57] \"antibiotic\"                  \"arb\"                        \n",
      "[59] \"betablocker\"                 \"betalactam\"                 \n",
      "[61] \"ccb\"                         \"diuretic\"                   \n",
      "[63] \"ksparing\"                    \"loopdiuretic\"               \n",
      "[65] \"narcotic\"                    \"nsaid\"                      \n",
      "[67] \"pressor\"                     \"sedative\"                   \n",
      "[69] \"steroid\"                     \"vasopressor\"                \n",
      "[71] \"consult_nephrology\"          \"cpap\"                       \n",
      "[73] \"crrt\"                        \"ecmo\"                       \n",
      "[75] \"tte\"                         \"discharge_dispsn\"           \n",
      "[77] \"los\"                         \"readmission30\"              \n",
      "[79] \"died\"                       \n"
     ]
    }
   ],
   "source": [
    "print(colnames(df))"
   ]
  },
  {
   "cell_type": "markdown",
   "id": "3c1fb7a9-d6eb-4df4-95c4-42d0cb93fb03",
   "metadata": {},
   "source": [
    "- **Identifiers** \\\n",
    "ID is our only identifier here, but in other datasets we may have names, zip codes, encounter IDs, admission time, etc...\n",
    "\n",
    "- **Demographics** \\\n",
    "Age, sex, race, ethnicity are included.  But information like sexual orientation and smoking status can fall under here as well.\n",
    "\n",
    "- **Comorbidities** \\\n",
    "Diabetes, CHF, COPD here, but other elixhauser categories are often present.\n",
    "\n",
    "- **Location** \\\n",
    "Medical ICU (0/1 on admission), but this information can be much more fine-grained down to the floor.\n",
    "\n",
    "- **Vitals** \\\n",
    "Blood pressure, pulse, oxygen saturation, etc... These can be taken many times per patient-encounter, so if datasets are summarized to a one-row-per-patient format, we will need to capture summary statistics for each measurement.  We nickname these \"summarized\" variables.  Here, we have shown the min and max values during the patient encounter, but it is common in studies to summarize using only the first measured value after admission, perhaps restricted to a certain window such as 48 hours.\n",
    "\n",
    "- **Laboratory Panels (Common)** \\\n",
    "Basic metabolic panel, complete blood count, antibody panel.  These are measurements that nearly everybody gets.  These are summarized variables.\n",
    "\n",
    "- **Laboratory Measurements (Uncommon)** \\\n",
    "Also summarized variables.  These are measurements that only really sick people or people with a particular condition may get.  Examples here include inr and lactate.  There are even rarer measurements like antinuclear antibody tests to detect autoimmune disorderrs or even tests for particular types of bacteria, but we usually don't include these in our datasets.  As most patients won't get these measurements, these variables tend to have a lot of missing data; however, this dataset was subset to only include patients who had all the variables we requested measured at least once.  This makes the dataset easier to work with, but creates some bias in terms of the population we end up studying.\n",
    "\n",
    "- **Procedures** \\\n",
    "Examples from this dataset are trans-thorasic echocardiogram (tte) and extracorporeal membrane oxygenation (ecmo). We often times binarize this data into 0/1 based on whether the patient ever received this procedure during their hospitalization; we nickname these \"ever\" variables.\n",
    "\n",
    "- **Medications** \\\n",
    "Ever variables.  These are technically a type of \"order\". The column may describe individual drugs or drug-classes. Drug-classes form hierarchies.  For example, aspirin is a drug-class but falls under NSAIDs as well.  Some examples here include acetaminophenmed as an individual drug and betablockers as a drug class.\n",
    "\n",
    "- **Other Orders** \\\n",
    "Ever variables. Examples include consult orders, nursing orders, dietary orders, and activity orders.  We typically only have consult orders in our datasets, which means the primary team needed to ask for a consult from a particular service. In this dataset, we only kept information from the nephrology service.\n",
    "    \n",
    "- **Outcomes, Discharge, & After** \\\n",
    "Length of stay (los), where were they discharged to (discharge_dispsn), did they die (died), were they readmitted to the hospital within 30 days (readmission30).  In terms of outcomes, there would usually be several more that are study-specific."
   ]
  },
  {
   "cell_type": "markdown",
   "id": "99962fcf-8057-427c-a47a-4fa05a3aa386",
   "metadata": {},
   "source": [
    "### Categories of Data (Modeling Perspective)\n",
    "\n",
    "While we talked about data types from a computing perspective, we can also speak about types from a modeling perspective.  They map pretty closely onto the data types from a computing perspective.\n",
    "\n",
    "- Continuous (numeric data type)\n",
    "This will primarily be our laboratory values and vitals.  Continuous can often be split into 3 groups: unrestricted, non-negative, and interval.  In medicine, most continuous data is non-negative.  We tend to come across interval data when something is expressed as a percentage like spo2, and the interval is typically $[0,1]$ or $[0,100]$.\n",
    "\n",
    "- Count (integer data type)\n",
    "These are also non-negative and often describe a number of interventions given to the patient such as medication administration or procedures.  They can also describe a count of the number of some adverse event.  Our only count data is num_vaccine.  \n",
    "\n",
    "- Binary (multiple data types possible: integer, logical, ordered/unordered factor)\n",
    "Binary data can be coded as 0/1 or F/T, but can also be coded as characters and then coerced to a factor type.  Ordering isn't really necessary for something like male/female.  Ordering can be useful if you want to  ensure something like \"death\" is processed like a 1 and alive is processed like a 0 (or the reverse) downstream.  All of our ever variables are coded as 0/1 for example.\n",
    "\n",
    "- Categorical (unordered factor data type)\n",
    "Even though binary data is technically categorical, we treat categorical as 3+ categories.  We have two categorical variables in the dataset: race and discharge disposition.  \n",
    "\n",
    "- Ordinal (ordered factor data type)\n",
    "Similarly to categorical, we treat ordinal as 3+ categories.  We have no ordinal data in this dataset, but an example would be smoking status with options: ['never', 'ex', 'current'].\n",
    "\n",
    "For exploratory analysis, the primary distinction we will concern ourselves with is continuous vs discrete.  However, integer variables with many unique values (such as age in years) will be treated as continuous."
   ]
  },
  {
   "cell_type": "markdown",
   "id": "05a9071e-354c-4b93-bdd5-73219a47e4f8",
   "metadata": {},
   "source": [
    "## Univariate Exploratory Analysis\n",
    "\n",
    "We will rely on two different ways to explore and get an understanding of our data.  Statistics and charts/plots.\n",
    "\n",
    "\n",
    "**Definition**: A **statistic** is any function of the data (across one or more variables), which returns a single number.\n",
    "\n",
    "We will hold the following perspective.  Your dataset is a **sample** from a (potentially infinite) **population**.  Statistics calculated on the sample are **empirical** (or sample) versions of their population counterparts.  In some sense, the statistic calculated on the population is the *true* value.  So we will use language such as the empirical/sample mean estimates the true/population mean.\n",
    "\n",
    "**Examples of Statistics**: the empirical mean of creatinine, the square root of the 6th patient's potassium levels, the maximum number of cardiac medications any patient is on, the total number of patients who had an EKG, the empirical median of sodium's absolute deviation from its empirical median.\n",
    "\n",
    "### Discrete Variables\n",
    "We can use the **table** function here, which will also be useful for bivariate analyses later.  This will work on all discrete data types."
   ]
  },
  {
   "cell_type": "code",
   "execution_count": 81,
   "id": "e9e1274d-92f2-42a2-ba36-8c7bce69a2ab",
   "metadata": {},
   "outputs": [
    {
     "data": {
      "text/plain": [
       "\n",
       "                    Home                  Hospice                    Other \n",
       "                    1558                      109                      844 \n",
       "Skilled Nursing Facility \n",
       "                     905 "
      ]
     },
     "metadata": {},
     "output_type": "display_data"
    }
   ],
   "source": [
    "table(df$discharge_dispsn)"
   ]
  },
  {
   "cell_type": "markdown",
   "id": "976755c3-a3b1-41c8-92aa-672ceeae7d39",
   "metadata": {},
   "source": [
    "We also have the **prop.table** function, which will divide by the total number of patients to give you percentages."
   ]
  },
  {
   "cell_type": "code",
   "execution_count": 82,
   "id": "adbf025c-c38f-43de-965e-40cd2c1b8694",
   "metadata": {},
   "outputs": [
    {
     "data": {
      "text/plain": [
       "\n",
       "                    Home                  Hospice                    Other \n",
       "              0.45608899               0.03190867               0.24707260 \n",
       "Skilled Nursing Facility \n",
       "              0.26492974 "
      ]
     },
     "metadata": {},
     "output_type": "display_data"
    }
   ],
   "source": [
    "prop.table(table(df$discharge_dispsn))"
   ]
  },
  {
   "cell_type": "markdown",
   "id": "8d9fe919-bc32-482d-80c9-a878b8c8ea4f",
   "metadata": {},
   "source": [
    "### Continuous Variables\n",
    "The sample mean can be computed using the **mean** function, like we have previously seen.  The mean function can also be used to compute proportions for binary variables that are coded as 0/1 or F/T.  Each data point's contribution to the sample mean is proportional to the value of that data point.  This can be visualized as \"mass\"; if each data point's \"mass\" is its value, the mean is the center of balance for the dataset.  This is why outliers can have disproportionately large affects on the mean.\n",
    "\n",
    "Sample **order statistics** can be computed by order the reordering the vector from smallest to largest and picking out certain elements.  The most relevant ones are:\n",
    "- minimum / 0th percentile (first element)\n",
    "- 25th percentile (element one quarter of the way down the sorted vector)\n",
    "- median / 50th percentile (middle element)\n",
    "- 75th percentile (element 3 quarters of the way down the sorted vector)\n",
    "- maximum / 100th percentile (last element)\n",
    "\n",
    "Together, these form the **five-number summary**.  For continuous variables, the summary function gives you these sample order statistics as well as the sample mean."
   ]
  },
  {
   "cell_type": "code",
   "execution_count": 10,
   "id": "3fc85696-bd56-4c6a-80df-41cf1b7e11d4",
   "metadata": {},
   "outputs": [
    {
     "name": "stdout",
     "output_type": "stream",
     "text": [
      "[1] 15.5 15.2 15.4 14.5 11.2 14.1 12.0\n",
      "[1] 11.2 12.0 14.1 14.5 15.2 15.4 15.5\n"
     ]
    }
   ],
   "source": [
    "print(df$hemoglobin_max[1:7])\n",
    "print(sort(df$hemoglobin_max[1:7]))"
   ]
  },
  {
   "cell_type": "code",
   "execution_count": 83,
   "id": "58e96d59-c7b5-4014-9986-e81b3d397323",
   "metadata": {},
   "outputs": [
    {
     "data": {
      "text/plain": [
       "   Min. 1st Qu.  Median    Mean 3rd Qu.    Max. \n",
       "   7.10   11.50   13.20   13.13   14.70   21.30 "
      ]
     },
     "metadata": {},
     "output_type": "display_data"
    }
   ],
   "source": [
    "summary(df$hemoglobin_max)"
   ]
  },
  {
   "cell_type": "markdown",
   "id": "27e5f652-d8b6-451c-8a67-d3070ff6cdd6",
   "metadata": {},
   "source": [
    "If you want arbitrary order statistics, you can use the **quantile** function.  It simply requires a vector specifying which percentiles you would like.  For demonstration, we can manually create the 5-number summary:"
   ]
  },
  {
   "cell_type": "code",
   "execution_count": 84,
   "id": "775942cd-2e0b-4c10-9657-e2c35c5fd924",
   "metadata": {},
   "outputs": [
    {
     "name": "stdout",
     "output_type": "stream",
     "text": [
      "  0%  25%  50%  75% 100% \n",
      " 7.1 11.5 13.2 14.7 21.3 \n"
     ]
    }
   ],
   "source": [
    "print(quantile(df$hemoglobin_max, c(0, 0.25, 0.5, 0.75, 1)))"
   ]
  },
  {
   "cell_type": "markdown",
   "id": "c65addb3-2f5b-458c-b35a-eca6c9e56640",
   "metadata": {},
   "source": [
    "While these 5 order statistics give you a nice sense of the overall shape of your data with just a few numbers, arguably the most important of these are the sample mean and median, which are **measures of location**.  For the sample median, approximately 50% of the data is both above and below this value.  This is a common **robust** alternative to the sample mean.  In this context, robust means that this statistic is less affected by outliers or \"skew\" in the data (data is asymmetrical; variation is higher in one direction than the other).  We can get an initial sense of how many outliers and/or skew there is by examining if there is a large difference between the mean and median.  There is not with hemoglobin_max.  Let's look at a variable where this is not the case."
   ]
  },
  {
   "cell_type": "code",
   "execution_count": 85,
   "id": "d3aada90-8a31-43fe-98ee-9b39835ae3b3",
   "metadata": {},
   "outputs": [
    {
     "data": {
      "text/plain": [
       "   Min. 1st Qu.  Median    Mean 3rd Qu.    Max. \n",
       "  0.300   0.970   1.400   2.492   2.720  29.300 "
      ]
     },
     "metadata": {},
     "output_type": "display_data"
    }
   ],
   "source": [
    "summary(df$creatinine_max)"
   ]
  },
  {
   "cell_type": "markdown",
   "id": "3a022b8f-199f-4dc6-a8d8-28f29668ea88",
   "metadata": {},
   "source": [
    "The discrepancy here suggests that this variable has outliers to the right and/or is skewed to the right.  Visualization can allow you to get a more detailed view on your data's shape without having to summarize to just a few numbers. It can also help us verify why the mean is higher than the median here.  Lets make a histogram, which I'm sure you're all familiar with.  I like to use an optional argument - \"probability = T\" rescales the y-axis so that you can interpret a bin's height times width as an approximate probability that a random patient will fall into that bin."
   ]
  },
  {
   "cell_type": "code",
   "execution_count": 86,
   "id": "1815befe-b734-47c6-80b1-64ab75fb62f8",
   "metadata": {},
   "outputs": [
    {
     "data": {
      "image/png": "[encoded data removed]",
      "text/plain": [
       "Plot with title \"Histogram of df$creatinine_max\""
      ]
     },
     "metadata": {},
     "output_type": "display_data"
    }
   ],
   "source": [
    "hist(df$creatinine_max, probability = T)"
   ]
  },
  {
   "cell_type": "markdown",
   "id": "7abd3548-f21f-4c2a-aaa4-1456e60c8561",
   "metadata": {},
   "source": [
    "This variable is positive and highly \"right-skewed\", and this is a common feature of many lab variables in medical data."
   ]
  },
  {
   "cell_type": "markdown",
   "id": "c02a1334-edd0-4c0e-b9d5-3aecba7e4bc7",
   "metadata": {},
   "source": [
    "### In-Class Exercise 5: Diagnosing Data Oddities\n",
    "\n",
    "1. Compute the five-number summary of the column wbcc_max.  Does anything look weird to you?  Do you think this is valid or was there a data-entry error?\n",
    "2. Plot a histogram.  Does this help answer your question?\n",
    "3. If not, consider performing a **transformation** to your data.  The logarithm is defined on positive values and affects larger values more than it does smaller values.  Apply the **log** function to your data and assign this to a new variable.  Does plotting this transformed value help answer your question?"
   ]
  },
  {
   "cell_type": "markdown",
   "id": "a69993e3-8738-4154-93a7-05d5cb0f4af9",
   "metadata": {},
   "source": [
    "**Solution:**"
   ]
  },
  {
   "cell_type": "code",
   "execution_count": 87,
   "id": "dc0171ae-c205-4fe8-ac1e-fa95c73e577b",
   "metadata": {
    "tags": []
   },
   "outputs": [
    {
     "data": {
      "text/plain": [
       "    Min.  1st Qu.   Median     Mean  3rd Qu.     Max. \n",
       "   1.200    8.775   13.100   16.643   20.600 1257.800 "
      ]
     },
     "metadata": {},
     "output_type": "display_data"
    },
    {
     "data": {
      "image/png": "[encoded data removed]",
      "text/plain": [
       "Plot with title \"Histogram of df$wbcc_max\""
      ]
     },
     "metadata": {},
     "output_type": "display_data"
    },
    {
     "data": {
      "image/png": "[encoded data removed]",
      "text/plain": [
       "Plot with title \"Histogram of log(df$wbcc_max)\""
      ]
     },
     "metadata": {},
     "output_type": "display_data"
    }
   ],
   "source": [
    "summary(df$wbcc_max)\n",
    "hist(df$wbcc_max, prob = T)\n",
    "hist(log(df$wbcc_max), prob = T)"
   ]
  },
  {
   "cell_type": "markdown",
   "id": "440be802-1022-4348-9f79-646b04af36f9",
   "metadata": {
    "jupyter": {
     "source_hidden": true
    },
    "tags": []
   },
   "source": [
    "The five-number summary shows us that either the data is very badly right-skewed or there is some very large data entry-error.  The histogram of this variable doesn't show us what's happening in this case for two reasons.  First, there is not enough data on the right side of the plot to accurately get a sense of its shape.  Second, the scale of the plot is adjusted to the height on the left side of the plot, which makes the height on the right hand side indistinguishable from 0.  Log-transforming the data allows us to visually test whether white blood cell counts follow some sort of exponential variation and growth in the human body under certain disease processes.  Since the histogram after transformation is roughly unimodal (single-hump) and continuous after the log-transformation, this both verifies that the data is correct, a log-transformation might result in a meaningful variable in its own right, and finally suggests that a log-transformed version of the variable may be more appropriate for exploration and modeling."
   ]
  }
 ],
 "metadata": {
  "celltoolbar": "Tags",
  "kernelspec": {
   "display_name": "R",
   "language": "R",
   "name": "ir"
  },
  "language_info": {
   "codemirror_mode": "r",
   "file_extension": ".r",
   "mimetype": "text/x-r-source",
   "name": "R",
   "pygments_lexer": "r",
   "version": "3.6.1"
  },
  "toc-autonumbering": false,
  "toc-showcode": false,
  "toc-showmarkdowntxt": false
 },
 "nbformat": 4,
 "nbformat_minor": 5
}
